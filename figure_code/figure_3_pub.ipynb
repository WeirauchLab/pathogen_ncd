{
 "cells": [
  {
   "cell_type": "markdown",
   "metadata": {},
   "source": [
    "# Load Libraries"
   ]
  },
  {
   "cell_type": "code",
   "execution_count": null,
   "metadata": {
    "ExecuteTime": {
     "end_time": "2023-09-05T18:23:48.763735Z",
     "start_time": "2023-09-05T18:23:46.103790Z"
    }
   },
   "outputs": [],
   "source": [
    "# Data manipulation\n",
    "import numpy as np\n",
    "import pandas as pd\n",
    "\n",
    "# Data science\n",
    "import math\n",
    "import scipy.stats as stats\n",
    "from sklearn.experimental import enable_iterative_imputer\n",
    "from sklearn.impute import IterativeImputer\n",
    "from statsmodels.stats.multitest import multipletests as mt\n",
    "\n",
    "# Plots\n",
    "import matplotlib as mpl\n",
    "import seaborn as sns\n",
    "import matplotlib.pyplot as plt\n",
    "\n",
    "# Working with dates\n",
    "from datetime import date,datetime\n",
    "import dateutil\n",
    "\n",
    "# Looping  progress\n",
    "from tqdm.notebook import tqdm\n",
    "\n",
    "# Reg expressions\n",
    "import re\n",
    "\n",
    "# Pretty table printing\n",
    "import tabulate\n",
    "\n",
    "import os\n",
    "import subprocess\n",
    "\n",
    "# Misc libraries\n",
    "from IPython.display import display, HTML\n",
    "#from IPython.core.display import display, HTML\n",
    "\n",
    "# Set seaborn figure size, font size, and style\n",
    "sns.set(rc={'figure.figsize':(11.7,8.27)})\n",
    "sns.set(font_scale=1.5)\n",
    "sns.set_style(\"white\")\n",
    "\n",
    "# Set Pandas options so we can see our entire dataframe\n",
    "pd.options.display.max_rows = 10000\n",
    "pd.options.display.max_columns = 10000\n",
    "pd.options.display.max_colwidth = None\n",
    "\n",
    "# Print our versions of this packages, this allows us to make sure\n",
    "# we have the working versions we need. \n",
    "print(f\"Pandas version: {pd.__version__}\")"
   ]
  },
  {
   "cell_type": "markdown",
   "metadata": {},
   "source": [
    "# Prep Environment"
   ]
  },
  {
   "cell_type": "code",
   "execution_count": null,
   "metadata": {
    "ExecuteTime": {
     "end_time": "2023-09-05T18:23:48.783309Z",
     "start_time": "2023-09-05T18:23:48.766734Z"
    }
   },
   "outputs": [],
   "source": [
    "# Remove grey side bars\n",
    "display(HTML(\"<style>.container { width:80% !important; }</style>\"))\n",
    "\n",
    "os.chdir('../../../../results/')"
   ]
  },
  {
   "cell_type": "markdown",
   "metadata": {},
   "source": [
    "# Load in data"
   ]
  },
  {
   "cell_type": "code",
   "execution_count": null,
   "metadata": {
    "ExecuteTime": {
     "end_time": "2023-09-05T18:23:54.729771Z",
     "start_time": "2023-09-05T18:23:48.786311Z"
    }
   },
   "outputs": [],
   "source": [
    "dat = pd.read_excel('../manuscript/latest/supplemental_datasets/supplemental_dataset_2.xlsx',\n",
    "                    sheet_name = 'Results')"
   ]
  },
  {
   "cell_type": "code",
   "execution_count": null,
   "metadata": {
    "ExecuteTime": {
     "end_time": "2023-09-05T18:23:54.767766Z",
     "start_time": "2023-09-05T18:23:54.732738Z"
    },
    "code_folding": [
     1,
     23
    ]
   },
   "outputs": [],
   "source": [
    "# Revert our more human-friendly column names back to computer-friendly ones.\n",
    "human_to_computer_column_dict = {'Disease' : 'disease', \n",
    "                                'ICD10' : 'icd', \n",
    "                                'Organism' : 'org', \n",
    "                                'Antibody' : 'anti', \n",
    "                                'Pair is Associated' : 'pair_is_associated', \n",
    "                                'Standard Level' : 'std_lev', \n",
    "                                'Replication Status' : 'rep_stat', \n",
    "                                'UKB adj p' : 'ukb_per_dis_bh_fdr_corr_nom_p', \n",
    "                                'TNX adj p' : 'tnx_per_dis_bh_fdr_corr_p', \n",
    "                                'UKB OR' : 'ukb_OR', \n",
    "                                'TNX OR' : 'tnx_OR', \n",
    "                                'UKB CI' : 'ukb_anti_CI', \n",
    "                                'TNX CI' : 'tnx_CI', \n",
    "                                'UKB nCase' : 'ukb_nCase',\n",
    "                                'UKB nControl' : 'ukb_nControl',\n",
    "                                'TNX nCase' : 'tnx_nCase', \n",
    "                                'TNX nControl' : 'tnx_nControl'\n",
    "}\n",
    "\n",
    "dat = dat.rename(columns = human_to_computer_column_dict)\n",
    "\n",
    "# Revert human friendly organism names to computationally friendly ones\n",
    "human_to_computer_org_dict = {\n",
    "                                'BKV': 'bkv',\n",
    "                                'C. trachomatis': 'c_trach',\n",
    "                                'CMV': 'cmv',\n",
    "                                'EBV': 'ebv',\n",
    "                                'H. pylori': 'h_pylor',\n",
    "                                'HBV': 'hbv',\n",
    "                                'HCV': 'hcv',\n",
    "                                'HHV-6': 'hhv_6',\n",
    "                                'HHV-7': 'hhv_7',\n",
    "                                'HIV': 'hiv',\n",
    "                                'HPV-16': 'hpv_16',\n",
    "                                'HPV-18': 'hpv_18',\n",
    "                                'HSV-1': 'hsv_1',\n",
    "                                'HSV-2': 'hsv_2',\n",
    "                                'HTLV-1': 'htlv',\n",
    "                                'JCV': 'jcv',\n",
    "                                'KSHV': 'kshv',\n",
    "                                'MCV': 'mcv',\n",
    "                                'T. gondii': 't_gond',\n",
    "                                'VZV': 'vzv'\n",
    "                            }\n",
    "dat.loc[:, 'org'] = dat.loc[:, 'org'].replace(human_to_computer_org_dict)\n",
    "\n",
    "\n",
    "human_to_computer_std_lev_dict = {\n",
    "    'Unknown' : 'unk',\n",
    "    'Exp. Negative' : 'exp_neg'\n",
    "}\n",
    "dat.loc[:, 'std_lev'] = dat.loc[:, 'std_lev'].replace(human_to_computer_std_lev_dict)\n",
    "\n",
    "human_to_computer_rep_dict = {\n",
    "    'Did not attempt' : 'did_not_attempt', \n",
    "    'Replicated' : 'replicated', \n",
    "    'Failed Replication' : 'did_not', \n",
    "    'Could not attempt' : 'could_not'\n",
    "}\n",
    "dat.loc[:, 'rep_stat'] = dat.loc[:, 'rep_stat'].replace(human_to_computer_rep_dict)"
   ]
  },
  {
   "cell_type": "code",
   "execution_count": null,
   "metadata": {
    "ExecuteTime": {
     "end_time": "2023-09-05T18:23:54.779287Z",
     "start_time": "2023-09-05T18:23:54.768735Z"
    }
   },
   "outputs": [],
   "source": [
    "dat['pl_rep_stat'] = dat['rep_stat'].replace({'did_not_attempt' : 'DNA',\n",
    "                                              'replicated' :      'REP',\n",
    "                                              'did_not'    :      'DNR',\n",
    "                                              'could_not'  :      'CNR'})\n",
    "\n",
    "dat['pl_std_lev'] = dat['std_lev']\n",
    "dat['pl_std_lev'] = dat['pl_std_lev'].replace({'exp_neg' : 'Exp Neg',\n",
    "                                               'unk' :      'Unknown'})"
   ]
  },
  {
   "cell_type": "markdown",
   "metadata": {
    "ExecuteTime": {
     "end_time": "2023-04-12T14:55:45.455534Z",
     "start_time": "2023-04-12T14:55:45.443454Z"
    }
   },
   "source": [
    "## Collect metrics"
   ]
  },
  {
   "cell_type": "code",
   "execution_count": null,
   "metadata": {
    "ExecuteTime": {
     "end_time": "2023-09-05T18:23:56.261974Z",
     "start_time": "2023-09-05T18:23:54.780805Z"
    },
    "code_folding": [
     40,
     63
    ]
   },
   "outputs": [],
   "source": [
    "UKB_THRESH = 0.3\n",
    "\n",
    "MET_COL_LS = ['Result', 'Metric', 'Group', 'Value']\n",
    "rep_ls = ['REP', 'DNR', 'DNA', 'CNR']\n",
    "grp_ls = ['Tier 1', 'Tier 2', 'Exp Neg', 'Unknown']\n",
    "\n",
    "# Total ORG tests, Count\n",
    "mets = pd.DataFrame([\n",
    "    ['Total ORG tests', 'Count', 'Total', len(dat)],\n",
    "    ['Total ORG tests', 'Count', 'Tier 1', len(dat.loc[dat['pl_std_lev'] == 'Tier 1', :])],\n",
    "    ['Total ORG tests', 'Count', 'Tier 2', len(dat.loc[dat['pl_std_lev'] == 'Tier 2', :])],\n",
    "    ['Total ORG tests', 'Count', 'Exp Neg', len(dat.loc[dat['pl_std_lev'] == 'Exp Neg', :])],\n",
    "    ['Total ORG tests', 'Count', 'Unknown', len(dat.loc[dat['pl_std_lev'] == 'Unknown', :])]\n",
    "], columns = MET_COL_LS)\n",
    "\n",
    "\n",
    "mets = mets.append(\n",
    "    \n",
    "    pd.DataFrame([\n",
    "    ['UKB Sig', 'Count', 'Total', \n",
    "         len(dat.loc[((dat['ukb_per_dis_bh_fdr_corr_nom_p'] < UKB_THRESH)), :])],\n",
    "    ['UKB Sig', 'Count', 'Tier 1', \n",
    "         len(dat.loc[((dat['pl_std_lev'] == 'Tier 1') & \n",
    "                     (dat['ukb_per_dis_bh_fdr_corr_nom_p'] < UKB_THRESH)), :])],\n",
    "    ['UKB Sig', 'Count', 'Tier 2', \n",
    "          len(dat.loc[((dat['pl_std_lev'] == 'Tier 2') & \n",
    "                     (dat['ukb_per_dis_bh_fdr_corr_nom_p'] < UKB_THRESH)), :])],\n",
    "    ['UKB Sig', 'Count', 'Exp Neg', \n",
    "          len(dat.loc[((dat['pl_std_lev'] == 'Exp Neg') & \n",
    "                     (dat['ukb_per_dis_bh_fdr_corr_nom_p'] < UKB_THRESH)), :])],\n",
    "    ['UKB Sig', 'Count', 'Unknown',\n",
    "          len(dat.loc[((dat['pl_std_lev'] == 'Unknown') & \n",
    "                     (dat['ukb_per_dis_bh_fdr_corr_nom_p'] < UKB_THRESH)), :])],\n",
    "], columns = MET_COL_LS))\n",
    "\n",
    "\n",
    "grp_ls = ['Tier 1', 'Tier 2', 'Exp Neg', 'Unknown']\n",
    "\n",
    "\n",
    "over_pct_ls = []\n",
    "for curr_grp in grp_ls:\n",
    "    tot_tests = mets.loc[((mets['Result'] == 'Total ORG tests') &\n",
    "                         (mets['Metric'] == 'Count') &\n",
    "                         (mets['Group'] == curr_grp)), 'Value'].tolist()[0]\n",
    "\n",
    "    sig_tests = mets.loc[((mets['Result'] == 'UKB Sig') &\n",
    "                             (mets['Metric'] == 'Count') &\n",
    "                             (mets['Group'] == curr_grp)), 'Value'].tolist()[0]\n",
    "\n",
    "    #print(f'{curr_grp}: total: {tot_tests} | sig: {sig_tests}')\n",
    "\n",
    "    curr_overlap = f\"{sig_tests} | {tot_tests}\"\n",
    "    \n",
    "\n",
    "    curr_percent = sig_tests / tot_tests\n",
    "    \n",
    "    \n",
    "    over_pct_ls.append(['UKB Sig', 'Overlap', curr_grp, curr_overlap])\n",
    "    over_pct_ls.append(['UKB Sig', 'Percent', curr_grp, curr_percent])\n",
    "    \n",
    "mets = mets.append(pd.DataFrame(over_pct_ls, columns = MET_COL_LS))\n",
    "\n",
    "met_ls = []\n",
    "for curr_rep in rep_ls:\n",
    "\n",
    "    curr_dat = dat.loc[dat['pl_rep_stat'] == curr_rep, :].copy(deep = True)\n",
    "\n",
    "    # Handle Total\n",
    "    curr_rep_tot = len(curr_dat)\n",
    "    #print(f'{curr_rep}: total: {curr_rep_tot}')\n",
    "\n",
    "    # For did not attempt total tests is total org tests not just sig\n",
    "    if curr_rep == 'DNA':\n",
    "        tot_tests = mets.loc[((mets['Result'] == 'Total ORG tests') &\n",
    "                             (mets['Metric'] == 'Count') &\n",
    "                             (mets['Group'] == 'Total')), 'Value'].tolist()[0]\n",
    "    else:\n",
    "        tot_tests = mets.loc[((mets['Result'] == 'UKB Sig') &\n",
    "                             (mets['Metric'] == 'Count') &\n",
    "                             (mets['Group'] == 'Total')), 'Value'].tolist()[0]\n",
    "    \n",
    "    curr_overlap = f\"{curr_rep_tot} | {tot_tests}\"\n",
    "    curr_percent = curr_rep_tot / tot_tests\n",
    "    \n",
    "    met_ls.append([curr_rep, 'Count', 'Total', curr_rep_tot])\n",
    "    met_ls.append([curr_rep, 'Overlap', 'Total', curr_overlap])\n",
    "    met_ls.append([curr_rep, 'Percent', 'Total', curr_percent])\n",
    "\n",
    "    for curr_grp in grp_ls:\n",
    "        \n",
    "        # For did not attempt total tests is total org tests not just sig\n",
    "        if curr_rep == 'DNA':\n",
    "            tot_sig_tests = mets.loc[((mets['Result'] == 'Total ORG tests') &\n",
    "                                 (mets['Metric'] == 'Count') &\n",
    "                                 (mets['Group'] == curr_grp)), 'Value'].tolist()[0]\n",
    "        else:\n",
    "            tot_sig_tests = mets.loc[((mets['Result'] == 'UKB Sig') &\n",
    "                                 (mets['Metric'] == 'Count') &\n",
    "                                 (mets['Group'] == curr_grp)), 'Value'].tolist()[0]\n",
    "\n",
    "\n",
    "        curr_grp_dat = curr_dat.loc[curr_dat['pl_std_lev'] == curr_grp, :].copy(deep = True)\n",
    "        curr_rep_stat_num = len(curr_grp_dat)\n",
    "\n",
    "        #print(f'{curr_grp}: total: {curr_rep_stat_num}')\n",
    "\n",
    "        curr_overlap = f\"{curr_rep_stat_num} | {tot_sig_tests}\"\n",
    "        curr_percent = curr_rep_stat_num / tot_sig_tests\n",
    "\n",
    "        \n",
    "        met_ls.append([curr_rep, 'Count', curr_grp, curr_rep_stat_num])\n",
    "        met_ls.append([curr_rep, 'Overlap', curr_grp, curr_overlap])\n",
    "        met_ls.append([curr_rep, 'Percent', curr_grp, curr_percent])\n",
    "        \n",
    "mets = mets.append(pd.DataFrame(met_ls, columns = MET_COL_LS))\n",
    "\n",
    "# Rename some of our dfs\n",
    "res = dat.copy(deep = True)\n",
    "dat = mets.copy(deep = True)"
   ]
  },
  {
   "cell_type": "code",
   "execution_count": null,
   "metadata": {
    "ExecuteTime": {
     "end_time": "2023-09-05T18:23:56.269976Z",
     "start_time": "2023-09-05T18:23:56.263976Z"
    }
   },
   "outputs": [],
   "source": [
    "# Convert percents to percents instead of decimals\n",
    "dat.loc[dat['Metric'] == 'Percent', 'Value'] = dat.loc[dat['Metric'] == 'Percent', 'Value'] * 100"
   ]
  },
  {
   "cell_type": "code",
   "execution_count": null,
   "metadata": {
    "ExecuteTime": {
     "end_time": "2023-09-05T18:23:56.285977Z",
     "start_time": "2023-09-05T18:23:56.270975Z"
    }
   },
   "outputs": [],
   "source": [
    "# Custom sort dict\n",
    "sort_dict = {\n",
    "                'Tier 1'    : 0, \n",
    "                'Tier 2'    : 1,\n",
    "                'Unknown'   : 2,\n",
    "                'Exp Neg'   : 3,\n",
    "\n",
    "            }"
   ]
  },
  {
   "cell_type": "code",
   "execution_count": null,
   "metadata": {
    "ExecuteTime": {
     "end_time": "2023-09-05T18:23:56.296008Z",
     "start_time": "2023-09-05T18:23:56.287980Z"
    }
   },
   "outputs": [],
   "source": [
    "# Total number of tests per group\n",
    "tmp = dat.loc[((dat['Result'] == 'Total ORG tests') &\n",
    "             (dat['Metric'] == 'Count')), ['Group', 'Value']]\n",
    "    \n",
    "tmp = tmp.set_index('Group')\n",
    "\n",
    "tots = tmp['Value'].to_dict()\n",
    "\n",
    "# tots: {'Total': 8616, 'Tier 1': 8, 'Tier 2': 83, 'Exp Neg': 88, 'Unknown': 8437}"
   ]
  },
  {
   "cell_type": "markdown",
   "metadata": {
    "ExecuteTime": {
     "end_time": "2021-08-24T16:45:48.853140Z",
     "start_time": "2021-08-24T16:45:48.828090Z"
    }
   },
   "source": [
    "## Split data into UKB Res and TNX res"
   ]
  },
  {
   "cell_type": "code",
   "execution_count": null,
   "metadata": {
    "ExecuteTime": {
     "end_time": "2023-09-05T18:23:56.303977Z",
     "start_time": "2023-09-05T18:23:56.298980Z"
    }
   },
   "outputs": [],
   "source": [
    "# UKB Res: Percents of total UKB tests that were sig or not\n",
    "# TNX Res: Percents of significant UKB tests that were sig or not\n",
    "\n",
    "ukb = dat.loc[dat['Result'].isin(['UKB Sig', 'DNA']), :]\n",
    "tnx = dat.loc[dat['Result'].isin(['CNR', 'DNR', 'REP']), :]"
   ]
  },
  {
   "cell_type": "markdown",
   "metadata": {},
   "source": [
    "# Build the plot"
   ]
  },
  {
   "cell_type": "code",
   "execution_count": null,
   "metadata": {
    "ExecuteTime": {
     "end_time": "2023-09-05T18:23:56.317975Z",
     "start_time": "2023-09-05T18:23:56.305980Z"
    }
   },
   "outputs": [],
   "source": [
    "ukb_percs = ukb.loc[ukb['Metric'] == 'Percent', :]\n",
    "ukb_percs = ukb_percs.loc[ukb_percs['Group'] != \"Total\"]\n",
    "ukb_percs = ukb_percs.loc[ukb_percs['Result'] != \"Total ORG tests\"]\n",
    "ukb_percs = ukb_percs.sort_values(by = ['Group'], key = lambda x: x.map(sort_dict))\n",
    "\n",
    "tnx_percs = tnx.loc[tnx['Metric'] == 'Percent', :]\n",
    "tnx_percs = tnx_percs.loc[tnx_percs['Group'] != \"Total\"]\n",
    "tnx_percs = tnx_percs.loc[tnx_percs['Result'] != \"Total ORG tests\"]\n",
    "tnx_percs = tnx_percs.sort_values(by = ['Group'], key = lambda x: x.map(sort_dict))\n"
   ]
  },
  {
   "cell_type": "markdown",
   "metadata": {},
   "source": [
    "## Split into our 2 categories"
   ]
  },
  {
   "cell_type": "code",
   "execution_count": null,
   "metadata": {
    "ExecuteTime": {
     "end_time": "2023-09-05T18:23:56.326007Z",
     "start_time": "2023-09-05T18:23:56.318977Z"
    }
   },
   "outputs": [],
   "source": [
    "# Split out the data\n",
    "ukb_dna = ukb_percs.loc[ukb_percs['Result'] == 'DNA', :]\n",
    "ukb_sig = ukb_percs.loc[ukb_percs['Result'] == 'UKB Sig', :]"
   ]
  },
  {
   "cell_type": "markdown",
   "metadata": {},
   "source": [
    "## Build the data labels"
   ]
  },
  {
   "cell_type": "markdown",
   "metadata": {},
   "source": [
    "### UKB"
   ]
  },
  {
   "cell_type": "code",
   "execution_count": null,
   "metadata": {
    "ExecuteTime": {
     "end_time": "2023-09-05T18:23:56.339977Z",
     "start_time": "2023-09-05T18:23:56.327978Z"
    },
    "code_folding": []
   },
   "outputs": [],
   "source": [
    "plt_order = ['DNA', 'UKB Sig']\n",
    "plt_order = ['UKB Sig']\n",
    "ukb_x_labs = ukb_percs['Group'].unique().tolist()\n",
    "\n",
    "ukb_data_labs = [] \n",
    "# Build labels\n",
    "for x in plt_order:\n",
    "    for y in ukb_x_labs:\n",
    "        curr_over = ukb[((ukb['Result'] == x) & (ukb['Group'] == y) &\n",
    "                         (ukb['Metric'] == 'Overlap'))]['Value'].values[0]\n",
    "        \n",
    "        ukb_data_labs.append(curr_over)\n",
    "        \n",
    "up_ukb_data_labs = []\n",
    "\n",
    "# Add thousands separators to data labels\n",
    "for x in range(0, len(ukb_data_labs)):\n",
    "    \n",
    "    curr_lab = ukb_data_labs[x]\n",
    "    curr_arr = curr_lab.split(\"|\")\n",
    "    \n",
    "    # Numerator\n",
    "    num = f'{int(curr_arr[0]):,}'\n",
    "    \n",
    "    # Denominator\n",
    "    denom = f'{int(curr_arr[1]):,}'\n",
    "    \n",
    "    # Put them back together and add to fixed arr\n",
    "    up_ukb_data_labs.append(f\"{num} | {denom}\")\n",
    "    \n",
    "ukb_data_labs = up_ukb_data_labs"
   ]
  },
  {
   "cell_type": "markdown",
   "metadata": {},
   "source": [
    "### TNX"
   ]
  },
  {
   "cell_type": "code",
   "execution_count": null,
   "metadata": {
    "ExecuteTime": {
     "end_time": "2023-09-05T18:23:56.365976Z",
     "start_time": "2023-09-05T18:23:56.340975Z"
    },
    "code_folding": []
   },
   "outputs": [],
   "source": [
    "# TNX labels\n",
    "plt_order = ['DNR', 'REP']\n",
    "plt_order = ['REP']\n",
    "\n",
    "tnx_x_labs = tnx_percs['Group'].unique().tolist()\n",
    "\n",
    "tnx_rep = pd.DataFrame(columns = ['Result', 'Metric', 'Group', 'Value'])\n",
    "\n",
    "tnx_data_labs = [] \n",
    "# Build labels and data for plotting\n",
    "for x in tnx_x_labs:\n",
    "    curr_grp = tnx[((tnx['Group'] == x)  &\n",
    "                 (tnx['Metric'] == 'Count'))]\n",
    "\n",
    "\n",
    "    curr_dnr = curr_grp[curr_grp['Result'] == 'DNR']['Value'].values[0]\n",
    "    curr_rep = curr_grp[curr_grp['Result'] == 'REP']['Value'].values[0]\n",
    "    curr_cnr = curr_grp[curr_grp['Result'] == 'CNR']['Value'].values[0]\n",
    "\n",
    "    curr_tot = curr_dnr + curr_rep\n",
    "\n",
    "    dnr_perc = (curr_dnr / curr_tot) * 100\n",
    "    rep_perc = (curr_rep / curr_tot) * 100\n",
    "\n",
    "    # Add our data labels - might want to skip if == 0\n",
    "    tnx_data_labs.append(f'{curr_rep} | {curr_tot}')\n",
    "\n",
    "    # Now add percents to data for plots\n",
    "    tnx_rep.loc[len(tnx_rep)] = ['REP', 'Percent', x, rep_perc]\n",
    "\n",
    "tnx_up_data_labs = []\n",
    "\n",
    "# Add thousands separators to data labels\n",
    "for x in range(0, len(tnx_data_labs)):\n",
    "    \n",
    "    curr_lab = tnx_data_labs[x]\n",
    "    curr_arr = curr_lab.split(\"|\")\n",
    "    \n",
    "    # Numerator\n",
    "    num = f'{int(curr_arr[0]):,}'\n",
    "    \n",
    "    # Denominator\n",
    "    denom = f'{int(curr_arr[1]):,}'\n",
    "    \n",
    "    # Put them back together and add to fixed arr\n",
    "    tnx_up_data_labs.append(f\"{num} | {denom}\")\n",
    "    \n",
    "tnx_data_labs = tnx_up_data_labs"
   ]
  },
  {
   "cell_type": "markdown",
   "metadata": {},
   "source": [
    "## Build the plot"
   ]
  },
  {
   "cell_type": "code",
   "execution_count": null,
   "metadata": {
    "ExecuteTime": {
     "end_time": "2023-09-05T18:23:56.896051Z",
     "start_time": "2023-09-05T18:23:56.367977Z"
    },
    "code_folding": [
     207
    ],
    "scrolled": true
   },
   "outputs": [],
   "source": [
    "# Plot\n",
    "import matplotlib.patches as patches\n",
    "from matplotlib.patches import FancyArrowPatch as Arrow\n",
    "import matplotlib.lines as lines\n",
    "\n",
    "FIG_W = 14\n",
    "FIG_H = 6\n",
    "\n",
    "UKB_COLOR = '#5b9bd5'\n",
    "TNX_COLOR = '#f4b183'\n",
    "\n",
    "TEXT_LABEL_FONT_SIZE = 13\n",
    "X_TICK_LABEL_FONT_SIZE = 13\n",
    "Y_TICK_LABEL_FONT_SIZE = 13\n",
    "\n",
    "\n",
    "DASHED_LWD = 4\n",
    "DASHED_LINE_ALPHA = 0.95\n",
    "\n",
    "BAR_W = 0.95\n",
    "TNX_BAR_W = 0.95\n",
    "\n",
    "\n",
    "fig = plt.figure(figsize = (FIG_W, FIG_H), facecolor = 'white')\n",
    "\n",
    "gs = fig.add_gridspec(nrows = 1, ncols = 2, wspace = 0.50)\n",
    "\n",
    "ukb_ax = fig.add_subplot(gs[0, 0:1])\n",
    "tnx_ax = fig.add_subplot(gs[0, 1:])\n",
    "\n",
    "\n",
    "\n",
    "ukb_ax.bar(ukb_x_labs, label = 'UKB Significant',\n",
    "           height = ukb_sig['Value'],\n",
    "           bottom = 0,\n",
    "           color = UKB_COLOR,\n",
    "           edgecolor = 'white',\n",
    "           linewidth = 5,\n",
    "           width = BAR_W)\n",
    "\n",
    "\n",
    "tnx_ax.bar(tnx_x_labs, label = 'Replicated',\n",
    "       height = tnx_rep['Value'],\n",
    "       bottom = 0,\n",
    "       edgecolor = 'white',\n",
    "       color = TNX_COLOR, \n",
    "       linewidth = 5,\n",
    "       width = TNX_BAR_W)\n",
    "\n",
    "\n",
    "# get our rectangles\n",
    "ukb_rects = ukb_ax.patches\n",
    "tnx_rects = tnx_ax.patches\n",
    "\n",
    "# Add the data labels\n",
    "# https://stackoverflow.com/a/28931750\n",
    "# UKB\n",
    "for curr_rect, curr_lab in zip(ukb_rects, ukb_data_labs):\n",
    "    curr_height = curr_rect.get_height()\n",
    "    \n",
    "    # If the height is 0 then it doesn't actually show up \n",
    "    # in plot and thus we don't want to label it.\n",
    "    if curr_height == 0:\n",
    "        continue\n",
    "    \n",
    "    else:\n",
    "        # Center our label on bar\n",
    "        curr_x = curr_rect.get_x() + (curr_rect.get_width() / 2)\n",
    "        \n",
    "        # Need to pull y-value because bars are stacked, then just\n",
    "        # center it in that space.\n",
    "        #curr_y = curr_rect.get_y() + (curr_height / 2)\n",
    "        curr_y = curr_rect.get_height() + 2\n",
    "\n",
    "        ukb_ax.text(curr_x, curr_y, curr_lab, \n",
    "                color = 'black',\n",
    "                ha=\"center\", va=\"bottom\", fontsize = TEXT_LABEL_FONT_SIZE)\n",
    "\n",
    "# TNX\n",
    "for curr_rect, curr_lab in zip(tnx_rects, tnx_data_labs):\n",
    "    curr_height = curr_rect.get_height()\n",
    "    \n",
    "    # If the height is 0 then it doesn't actually show up \n",
    "    # in plot and thus we don't want to label it.\n",
    "    if curr_height == 0:\n",
    "        print(\"caught!\")\n",
    "        continue\n",
    "    \n",
    "    else:\n",
    "        # Center our label on bar\n",
    "        curr_x = curr_rect.get_x() + (curr_rect.get_width() / 2)\n",
    "        \n",
    "        # Need to pull y-value because bars are stacked, then just\n",
    "        # center it in that space.\n",
    "        #curr_y = curr_rect.get_y() + (curr_height / 2)\n",
    "        curr_y = curr_rect.get_height() + 2\n",
    "\n",
    "        tnx_ax.text(curr_x, curr_y, curr_lab, \n",
    "                color = 'black',\n",
    "                ha = \"center\", va = \"bottom\", \n",
    "                fontsize = TEXT_LABEL_FONT_SIZE)\n",
    "                \n",
    "for curr_ax in [ukb_ax, tnx_ax]:\n",
    "    curr_ax.spines['top'].set_visible(False)\n",
    "    curr_ax.spines['right'].set_visible(False)\n",
    "    \n",
    "\n",
    "ukb_ax.tick_params(axis=\"x\", \n",
    "                   bottom = False, top = False, \n",
    "                   labelbottom = True, labeltop = False,\n",
    "                   labelsize = X_TICK_LABEL_FONT_SIZE)\n",
    "   \n",
    "ukb_ax.tick_params(axis=\"y\", left = True, right = False, \n",
    "                   labelleft = True, labelright = False,\n",
    "                   labelsize = Y_TICK_LABEL_FONT_SIZE,\n",
    "                   direction = 'out')\n",
    "\n",
    "tnx_ax.tick_params(axis=\"x\", \n",
    "                   bottom = False, top = False, \n",
    "                   labelbottom = True, labeltop = False,\n",
    "                   labelsize = X_TICK_LABEL_FONT_SIZE)\n",
    "   \n",
    "tnx_ax.tick_params(axis=\"y\", left = True, right = False, \n",
    "                   labelleft = True, labelright = False,\n",
    "                   labelsize = Y_TICK_LABEL_FONT_SIZE,\n",
    "                   direction = 'out')\n",
    "\n",
    "# Draw the dashed green lines around signif bars in UKB\n",
    "heights = [p.get_height() for p in ukb_ax.patches]\n",
    "widths = [p.get_width() for p in ukb_ax.patches]\n",
    "\n",
    "\n",
    "x_coords = [-0.5, -0.5, 0.5, 0.5, 1.5, 1.5, 2.5, 2.5]\n",
    "y_coords = [0, heights[0], heights[0], heights[1], heights[1],\n",
    "            heights[2], heights[2], 0]\n",
    "\n",
    "\n",
    "TOP_FUDGE = 1.005\n",
    "coord_path = np.array([[-0.5, 0], \n",
    "                       [-0.5, (heights[0] * TOP_FUDGE)], \n",
    "                       [0.5, (heights[0] * TOP_FUDGE)],\n",
    "                       [0.5, (heights[1] * TOP_FUDGE)], \n",
    "                       [1.5, (heights[1] * TOP_FUDGE)],\n",
    "                       [1.5, (heights[2] * TOP_FUDGE)], \n",
    "                       [2.5, (heights[2] * TOP_FUDGE)],\n",
    "                       [2.5, (heights[3] * TOP_FUDGE)],\n",
    "                       [3.5, (heights[3] * TOP_FUDGE)],\n",
    "                       [3.5, 0]])\n",
    "\n",
    "\n",
    "\n",
    "path_poly = patches.Polygon(coord_path,\n",
    "                            alpha = 1,\n",
    "                            linestyle = \"dashed\",\n",
    "                            linewidth = DASHED_LWD,\n",
    "                            ec = '#55a868', \n",
    "                            fc = 'None')\n",
    "                \n",
    "ukb_ax.add_patch(path_poly)\n",
    "\n",
    "\n",
    "\n",
    "# Draw arrow over from UKB results to TNX results\n",
    "# Using workaround from: https://github.com/matplotlib/matplotlib/issues/17284#issuecomment-772820638\n",
    "ARROW_ST_X = 0.4\n",
    "ARROW_END_X = 1.25\n",
    "\n",
    "ARROW_ST_Y = 0.75\n",
    "ARROR_END_Y = 0.75\n",
    "\n",
    "arrow_line = Arrow((ARROW_ST_X, ARROW_ST_Y), (ARROW_END_X, ARROR_END_Y), \n",
    "           arrowstyle = '-',\n",
    "           shrinkA = 0, shrinkB = 5,\n",
    "           connectionstyle = \"arc3, rad = -0.25\",\n",
    "           linestyle = \"dashed\",\n",
    "           linewidth = DASHED_LWD,\n",
    "           ec = '#55a868',\n",
    "           fc = '#55a868', \n",
    "           transform = ukb_ax.transAxes)\n",
    "\n",
    "\n",
    "ar_style = patches.ArrowStyle.CurveFilledB(angleA = 0)\n",
    "arrow_head = Arrow((ARROW_ST_X, ARROW_ST_Y), (ARROW_END_X, ARROR_END_Y), \n",
    "                   arrowstyle = ar_style,\n",
    "                   shrinkA = 0, shrinkB = 0,\n",
    "                   connectionstyle = \"arc3, rad = -0.25\",\n",
    "                   linestyle = \"solid\",\n",
    "                   linewidth = 0,\n",
    "                   ec = None,\n",
    "                   fc = '#55a868', mutation_scale = 50,\n",
    "                   transform = ukb_ax.transAxes)\n",
    "\n",
    "ar_text_x = ARROW_ST_X + ((ARROW_END_X - ARROW_ST_X) / 2)\n",
    "ar_text_y = ARROW_ST_Y + .15\n",
    "ar_text_va = 'center'\n",
    "ar_text_ha = 'center'\n",
    "\n",
    "ar_text_fd = {\n",
    "            'family': 'DejaVu Sans',\n",
    "            'color':  'black',\n",
    "            'weight': 'normal',\n",
    "            'size': 14,  \n",
    "}\n",
    "\n",
    "ar_text = ukb_ax.text(x = ar_text_x, \n",
    "                      y = ar_text_y,\n",
    "                      s = \"Test significant pairs\\nfor replication\",\n",
    "                      ha = ar_text_ha,\n",
    "                      va = ar_text_va, \n",
    "                      fontdict = ar_text_fd,\n",
    "                      transform = ukb_ax.transAxes)\n",
    "fig.patches.extend([arrow_head, arrow_line])\n",
    "\n",
    "\n",
    "\n",
    "test_label_x = 0.0\n",
    "test_label_y = 1.08\n",
    "test_label_ha = 'left'\n",
    "\n",
    "ukb_label_font = {\n",
    "            'family': 'DejaVu Sans',\n",
    "            'color':  UKB_COLOR,\n",
    "            'weight': 'normal',\n",
    "            'size': 16,\n",
    "}\n",
    "\n",
    "\n",
    "tnx_label_font = {\n",
    "            'family': 'DejaVu Sans',\n",
    "            'color':  TNX_COLOR,\n",
    "            'weight': 'normal',\n",
    "            'size': 16,\n",
    "}\n",
    "\n",
    "\n",
    "Y_TITLE_FONT = {\n",
    "            'family': 'DejaVu Sans',\n",
    "            'color':  'black',\n",
    "            'weight': 'normal',\n",
    "            'size': 15,\n",
    "}\n",
    "\n",
    "# Datasource labels\n",
    "ukb_data_lab = ukb_ax.text(x = test_label_x, y = test_label_y, \n",
    "                           s = \"UK Biobank: Discovery\", \n",
    "                           va = 'bottom', ha = test_label_ha,\n",
    "                           transform = ukb_ax.transAxes, \n",
    "                           fontdict = ukb_label_font)\n",
    "\n",
    "tnx_data_lab = tnx_ax.text(x = test_label_x, y = test_label_y, \n",
    "                           s = \"TriNetX: Replication\", \n",
    "                           va = 'bottom', ha = test_label_ha,\n",
    "                           transform = tnx_ax.transAxes, \n",
    "                           fontdict = tnx_label_font)\n",
    "\n",
    "\n",
    "ukb_ax.set_ylabel('% Sig Disease-Pathogen of All Pairs Tested', fontdict = Y_TITLE_FONT)\n",
    "tnx_ax.set_ylabel('% UKB Sig Pairs with TNX Data', fontdict = Y_TITLE_FONT)\n",
    "\n",
    "\n",
    "TIER_1_TEXT = 'Tier 1\\nPositives'\n",
    "TIER_2_TEXT = 'Tier 2\\nPositives'\n",
    "EXP_NEG_TEXT = 'Expected\\nNegatives'\n",
    "\n",
    "ukb_ticks = ukb_ax.get_xticklabels()\n",
    "tnx_ticks = tnx_ax.get_xticklabels()\n",
    "\n",
    "for curr_tick in ukb_ticks:\n",
    "\n",
    "    if curr_tick.get_text() == 'Tier 1':\n",
    "        curr_tick.set_text(TIER_1_TEXT)\n",
    "\n",
    "    elif curr_tick.get_text() == 'Tier 2':\n",
    "        curr_tick.set_text(TIER_2_TEXT) \n",
    "\n",
    "    elif curr_tick.get_text() == 'Exp Neg':\n",
    "        curr_tick.set_text(EXP_NEG_TEXT)         \n",
    "        \n",
    "for curr_tick in tnx_ticks:\n",
    "\n",
    "    if curr_tick.get_text() == 'Tier 1':\n",
    "        curr_tick.set_text(TIER_1_TEXT)\n",
    "\n",
    "    elif curr_tick.get_text() == 'Tier 2':\n",
    "        curr_tick.set_text(TIER_2_TEXT) \n",
    "        \n",
    "    elif curr_tick.get_text() == 'Exp Neg':\n",
    "        curr_tick.set_text(EXP_NEG_TEXT)      \n",
    "        \n",
    "        \n",
    "ukb_ticks_loc = ukb_ax.get_xticks()\n",
    "tnx_ticks_loc = tnx_ax.get_xticks()\n",
    "\n",
    "ukb_ax.set_xticks(ukb_ticks_loc)\n",
    "tnx_ax.set_xticks(tnx_ticks_loc)\n",
    "\n",
    "ukb_ax.set_xticklabels(ukb_ticks)\n",
    "tnx_ax.set_xticklabels(tnx_ticks)\n",
    "\n",
    "\n",
    "ukb_ax.set_ylim(0, 102)\n",
    "tnx_ax.set_ylim(0, 102)"
   ]
  },
  {
   "cell_type": "code",
   "execution_count": null,
   "metadata": {
    "ExecuteTime": {
     "end_time": "2023-09-05T18:23:57.449772Z",
     "start_time": "2023-09-05T18:23:56.897022Z"
    }
   },
   "outputs": [],
   "source": [
    "out_dir = '../manuscript/figures/fig_3'\n",
    "fn = f\"{out_dir}/fig_3_pub.pdf\"\n",
    "fig.savefig(fn, format = 'pdf', dpi = 600, bbox_inches=\"tight\")"
   ]
  }
 ],
 "metadata": {
  "kernelspec": {
   "display_name": "Python 3 (ipykernel)",
   "language": "python",
   "name": "python3"
  },
  "language_info": {
   "codemirror_mode": {
    "name": "ipython",
    "version": 3
   },
   "file_extension": ".py",
   "mimetype": "text/x-python",
   "name": "python",
   "nbconvert_exporter": "python",
   "pygments_lexer": "ipython3",
   "version": "3.10.4"
  },
  "notify_time": "5",
  "toc": {
   "base_numbering": 1,
   "nav_menu": {},
   "number_sections": true,
   "sideBar": false,
   "skip_h1_title": false,
   "title_cell": "Table of Contents",
   "title_sidebar": "Contents",
   "toc_cell": false,
   "toc_position": {},
   "toc_section_display": true,
   "toc_window_display": false
  },
  "varInspector": {
   "cols": {
    "lenName": 16,
    "lenType": 16,
    "lenVar": 40
   },
   "kernels_config": {
    "python": {
     "delete_cmd_postfix": "",
     "delete_cmd_prefix": "del ",
     "library": "var_list.py",
     "varRefreshCmd": "print(var_dic_list())"
    },
    "r": {
     "delete_cmd_postfix": ") ",
     "delete_cmd_prefix": "rm(",
     "library": "var_list.r",
     "varRefreshCmd": "cat(var_dic_list()) "
    }
   },
   "types_to_exclude": [
    "module",
    "function",
    "builtin_function_or_method",
    "instance",
    "_Feature"
   ],
   "window_display": false
  }
 },
 "nbformat": 4,
 "nbformat_minor": 4
}
