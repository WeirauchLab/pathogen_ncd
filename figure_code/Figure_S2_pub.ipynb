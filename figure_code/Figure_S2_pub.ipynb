{
 "cells": [
  {
   "cell_type": "raw",
   "metadata": {},
   "source": [
    "Name:\n",
    "        Figure_S2_pub.ipynb\n",
    "\n",
    "Author:   \n",
    "        Mike Lape\n",
    "\n",
    "Date:  \n",
    "        2023\n",
    "\n",
    "Description:\n",
    "        This notebook generates Figure S2 for the manuscript.\n",
    "\n",
    "\n",
    "Figure S2 | Nominal versus empirical p-values across all UK Biobank antibody-disease models.\n",
    "\n",
    "Scatter plot comparing the nominal and empirical p-values for all discovery cohort antibody-disease models. To calculate empirical p-values, 10,000 permutations of each antibody-disease model were performed. All permutations for a particular disease were combined into a per-disease null distribution, yielding 450,000 permutation results per disease (see Methods). The nominal p-value for a specific antibody-disease model was compared to the disease-specific null distribution to calculate the empirical p-value."
   ]
  },
  {
   "cell_type": "markdown",
   "metadata": {},
   "source": [
    "# Load Libraries"
   ]
  },
  {
   "cell_type": "code",
   "execution_count": null,
   "metadata": {},
   "outputs": [],
   "source": [
    "# Data manipulation\n",
    "import numpy as np\n",
    "import pandas as pd\n",
    "\n",
    "# Data science\n",
    "import math\n",
    "import scipy.stats as stats\n",
    "from sklearn.experimental import enable_iterative_imputer\n",
    "from sklearn.impute import IterativeImputer\n",
    "from statsmodels.stats.multitest import multipletests as mt\n",
    "\n",
    "# Plots\n",
    "import matplotlib as mpl\n",
    "import seaborn as sns\n",
    "import matplotlib.pyplot as plt\n",
    "\n",
    "# Working with dates\n",
    "from datetime import date,datetime\n",
    "import dateutil\n",
    "\n",
    "# Looping  progress\n",
    "from tqdm.notebook import tqdm\n",
    "\n",
    "# Reg expressions\n",
    "import re\n",
    "\n",
    "# Reading/Writing Excel files with Pandas\n",
    "import xlrd\n",
    "\n",
    "# Pretty table printing\n",
    "import tabulate\n",
    "\n",
    "import os\n",
    "import subprocess\n",
    "\n",
    "# Misc libraries\n",
    "from IPython.display import display, HTML\n",
    "#from IPython.core.display import display, HTML\n",
    "\n",
    "# Set seaborn figure size, font size, and style\n",
    "sns.set(rc={'figure.figsize':(11.7,8.27)})\n",
    "sns.set(font_scale=1.5)\n",
    "sns.set_style(\"white\")\n",
    "\n",
    "# Set Pandas options so we can see our entire dataframe\n",
    "pd.options.display.max_rows = 10000\n",
    "pd.options.display.max_columns = 10000\n",
    "pd.options.display.max_colwidth = None\n",
    "\n",
    "# Print our versions of this packages, this allows us to make sure\n",
    "# we have the working versions we need. \n",
    "print(f\"Pandas version: {pd.__version__}\")\n",
    "\n",
    "# Specify the directory where custom fonts are stored\n",
    "font_dir = '/users/lapt3u/.fonts'\n",
    "\n",
    "# Add fonts from the specified directory to Matplotlib's font manager\n",
    "font_files = fm.findSystemFonts(fontpaths=[font_dir])\n",
    "for font_file in font_files:\n",
    "    fm.fontManager.addfont(font_file)\n",
    "\n",
    "# Set the default font family to Arial (if Arial is available)\n",
    "plt.rcParams['font.family'] = 'Arial'\n",
    "\n",
    "print(plt.rcParams['font.family'])"
   ]
  },
  {
   "cell_type": "markdown",
   "metadata": {},
   "source": [
    "# Prep Environment"
   ]
  },
  {
   "cell_type": "code",
   "execution_count": null,
   "metadata": {},
   "outputs": [],
   "source": [
    "HOME_DIR = \"/data/pathogen_ncd\"\n",
    "os.chdir(f'{HOME_DIR}/results')"
   ]
  },
  {
   "cell_type": "markdown",
   "metadata": {},
   "source": [
    "# UKB Analytical vs Empirical Scattter "
   ]
  },
  {
   "cell_type": "code",
   "execution_count": null,
   "metadata": {},
   "outputs": [],
   "source": [
    "# Read in latest results\n",
    "dat = pd.read_csv('emp_results_01_17_2023.tsv', sep = '\\t')"
   ]
  },
  {
   "cell_type": "code",
   "execution_count": null,
   "metadata": {},
   "outputs": [],
   "source": [
    "PLOT_W = 5\n",
    "PLOT_H = 5\n",
    "\n",
    "corr_val = dat['p_val'].corr(dat['mod_3_emp_p'], method = 'pearson')\n",
    "\n",
    "fig, ax = plt.subplots(figsize = (PLOT_W, PLOT_H), facecolor = 'white')    \n",
    "sns.scatterplot(data = dat, x = 'p_val', y = 'mod_3_emp_p', ax = ax)\n",
    "\n",
    "ax.set_xlabel('Nominal P-value')\n",
    "ax.set_ylabel('Empirical P-value')\n",
    "ax.set_xlim(0, 1)\n",
    "ax.set_ylim(0, 1)\n",
    "ax.text(x = 0.35, y = 0.925,\n",
    "        s = f\"Pearson's r: {round(corr_val, 6)}\", \n",
    "        ha = 'center', va = 'center', fontsize = 16,\n",
    "        bbox = dict(boxstyle = \"round\", fc = \"w\", ec = 'black'))"
   ]
  },
  {
   "cell_type": "code",
   "execution_count": null,
   "metadata": {},
   "outputs": [],
   "source": [
    "out_dir = f'{HOME_DIR}/manuscript/figures\n",
    "\n",
    "fn = f\"{out_dir}/Figure_S2.svg\"\n",
    "fig.savefig(fn, format = 'svg', dpi = 600, bbox_inches = \"tight\")"
   ]
  }
 ],
 "metadata": {},
 "nbformat": 4,
 "nbformat_minor": 4
}
