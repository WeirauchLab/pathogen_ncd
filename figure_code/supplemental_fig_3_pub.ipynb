{
 "cells": [
  {
   "cell_type": "markdown",
   "metadata": {},
   "source": [
    "# Load Libraries"
   ]
  },
  {
   "cell_type": "code",
   "execution_count": null,
   "metadata": {
    "ExecuteTime": {
     "end_time": "2023-09-05T18:29:24.152864Z",
     "start_time": "2023-09-05T18:29:20.815002Z"
    },
    "code_folding": []
   },
   "outputs": [],
   "source": [
    "# Data manipulation\n",
    "import numpy as np\n",
    "import pandas as pd\n",
    "\n",
    "# Data science\n",
    "import math\n",
    "import scipy.stats as stats\n",
    "from sklearn.experimental import enable_iterative_imputer\n",
    "from sklearn.impute import IterativeImputer\n",
    "from statsmodels.stats.multitest import multipletests as mt\n",
    "import random\n",
    "\n",
    "# Plots\n",
    "import matplotlib as mpl\n",
    "import seaborn as sns\n",
    "import matplotlib.pyplot as plt\n",
    "from matplotlib import ticker\n",
    "from matplotlib import gridspec\n",
    "from matplotlib.colors import to_hex\n",
    "import colorcet as cc\n",
    "from matplotlib.lines import Line2D\n",
    "\n",
    "# Working with dates\n",
    "from datetime import date,datetime\n",
    "import dateutil\n",
    "\n",
    "# Looping  progress\n",
    "from tqdm.notebook import tqdm\n",
    "\n",
    "# Reg expressions\n",
    "import re\n",
    "\n",
    "# Pretty table printing\n",
    "import tabulate\n",
    "\n",
    "import os\n",
    "import subprocess\n",
    "\n",
    "# Misc libraries\n",
    "from IPython.display import display, HTML\n",
    "#from IPython.core.display import display, HTML\n",
    "\n",
    "# Set seaborn figure size, font size, and style\n",
    "sns.set(rc={'figure.figsize':(11.7,8.27)})\n",
    "sns.set(font_scale=1.5)\n",
    "sns.set_style(\"white\")\n",
    "\n",
    "# Set Pandas options so we can see our entire dataframe\n",
    "pd.options.display.max_rows = 10000\n",
    "pd.options.display.max_columns = 10000\n",
    "pd.options.display.max_colwidth = None\n",
    "\n",
    "# Print our versions of this packages, this allows us to make sure\n",
    "# we have the working versions we need. \n",
    "print(f\"Pandas version: {pd.__version__}\")"
   ]
  },
  {
   "cell_type": "markdown",
   "metadata": {},
   "source": [
    "# Prep Environment"
   ]
  },
  {
   "cell_type": "code",
   "execution_count": null,
   "metadata": {
    "ExecuteTime": {
     "end_time": "2023-09-05T18:29:24.168864Z",
     "start_time": "2023-09-05T18:29:24.154865Z"
    }
   },
   "outputs": [],
   "source": [
    "# Remove grey side bars\n",
    "display(HTML(\"<style>.container { width:90% !important; }</style>\"))\n",
    "\n",
    "os.chdir('../../../../results/')"
   ]
  },
  {
   "cell_type": "markdown",
   "metadata": {},
   "source": [
    "# Data prep"
   ]
  },
  {
   "cell_type": "code",
   "execution_count": null,
   "metadata": {
    "ExecuteTime": {
     "end_time": "2023-09-05T18:29:30.932603Z",
     "start_time": "2023-09-05T18:29:24.171867Z"
    }
   },
   "outputs": [],
   "source": [
    "all_res = pd.read_excel('../manuscript/latest/supplemental_datasets/supplemental_dataset_2.xlsx',\n",
    "                    sheet_name = 'Results')"
   ]
  },
  {
   "cell_type": "code",
   "execution_count": null,
   "metadata": {
    "ExecuteTime": {
     "end_time": "2023-09-05T18:29:30.976635Z",
     "start_time": "2023-09-05T18:29:30.935605Z"
    },
    "code_folding": [
     0,
     1,
     23,
     48
    ]
   },
   "outputs": [],
   "source": [
    "# Revert our more human-friendly column names back to computer-friendly ones.\n",
    "human_to_computer_column_dict = {'Disease' : 'disease', \n",
    "                                'ICD10' : 'icd', \n",
    "                                'Organism' : 'org', \n",
    "                                'Antibody' : 'anti', \n",
    "                                'Pair is Associated' : 'pair_is_associated', \n",
    "                                'Standard Level' : 'std_lev', \n",
    "                                'Replication Status' : 'rep_stat', \n",
    "                                'UKB adj p' : 'ukb_per_dis_bh_fdr_corr_nom_p', \n",
    "                                'TNX adj p' : 'tnx_per_dis_bh_fdr_corr_p', \n",
    "                                'UKB OR' : 'ukb_OR', \n",
    "                                'TNX OR' : 'tnx_OR', \n",
    "                                'UKB CI' : 'ukb_anti_CI', \n",
    "                                'TNX CI' : 'tnx_CI', \n",
    "                                'UKB nCase' : 'ukb_nCase',\n",
    "                                'UKB nControl' : 'ukb_nControl',\n",
    "                                'TNX nCase' : 'tnx_nCase', \n",
    "                                'TNX nControl' : 'tnx_nControl'\n",
    "}\n",
    "\n",
    "all_res = all_res.rename(columns = human_to_computer_column_dict)\n",
    "\n",
    "# Revert human friendly organism names to computationally friendly ones\n",
    "human_to_computer_org_dict = {\n",
    "                                'BKV': 'bkv',\n",
    "                                'C. trachomatis': 'c_trach',\n",
    "                                'CMV': 'cmv',\n",
    "                                'EBV': 'ebv',\n",
    "                                'H. pylori': 'h_pylor',\n",
    "                                'HBV': 'hbv',\n",
    "                                'HCV': 'hcv',\n",
    "                                'HHV-6': 'hhv_6',\n",
    "                                'HHV-7': 'hhv_7',\n",
    "                                'HIV': 'hiv',\n",
    "                                'HPV-16': 'hpv_16',\n",
    "                                'HPV-18': 'hpv_18',\n",
    "                                'HSV-1': 'hsv_1',\n",
    "                                'HSV-2': 'hsv_2',\n",
    "                                'HTLV-1': 'htlv',\n",
    "                                'JCV': 'jcv',\n",
    "                                'KSHV': 'kshv',\n",
    "                                'MCV': 'mcv',\n",
    "                                'T. gondii': 't_gond',\n",
    "                                'VZV': 'vzv'\n",
    "                            }\n",
    "all_res.loc[:, 'org'] = all_res.loc[:, 'org'].replace(human_to_computer_org_dict)\n",
    "\n",
    "\n",
    "human_to_computer_anti_dict = {\n",
    "                                    'K8.1' : 'K8_1', \n",
    "                                    'gE / gI' : 'gE_gl', \n",
    "                                    'pp 52' : 'pp52', \n",
    "                                    'pp 28' : 'pp28', \n",
    "                                    '2mgG' : 'IgG', \n",
    "                                    'momp A' : 'momp_A', \n",
    "                                    'pp150 Nter' : 'pp150_Nter', \n",
    "                                    '1gG' : 'IgG', \n",
    "                                    'p101 k' : 'p101_k', \n",
    "                                    'tarp-D F2' : 'tarp-D_F2', \n",
    "                                    'momp D' : 'momp_D', \n",
    "                                    'tarp-D F1' : 'tarp-D_F1', \n",
    "                                    'VCA p18' : 'VCA_p18'\n",
    "}\n",
    "all_res.loc[:, 'anti'] = all_res.loc[:, 'anti'].replace(human_to_computer_anti_dict)\n",
    "\n",
    "human_to_computer_std_lev_dict = {\n",
    "    'Unknown' : 'unk',\n",
    "    'Exp. Negative' : 'exp_neg'\n",
    "}\n",
    "all_res.loc[:, 'std_lev'] = all_res.loc[:, 'std_lev'].replace(human_to_computer_std_lev_dict)\n",
    "\n",
    "human_to_computer_rep_dict = {\n",
    "    'Did not attempt' : 'did_not_attempt', \n",
    "    'Replicated' : 'replicated', \n",
    "    'Failed Replication' : 'did_not', \n",
    "    'Could not attempt' : 'could_not'\n",
    "}\n",
    "all_res.loc[:, 'rep_stat'] = all_res.loc[:, 'rep_stat'].replace(human_to_computer_rep_dict)"
   ]
  },
  {
   "cell_type": "code",
   "execution_count": null,
   "metadata": {
    "ExecuteTime": {
     "end_time": "2023-09-05T18:29:30.984764Z",
     "start_time": "2023-09-05T18:29:30.978636Z"
    }
   },
   "outputs": [],
   "source": [
    "res = all_res.loc[all_res['rep_stat'] == 'replicated', :]"
   ]
  },
  {
   "cell_type": "markdown",
   "metadata": {},
   "source": [
    "## Get Abbreviated Disease Names"
   ]
  },
  {
   "cell_type": "code",
   "execution_count": null,
   "metadata": {
    "ExecuteTime": {
     "end_time": "2023-09-05T18:29:31.068722Z",
     "start_time": "2023-09-05T18:29:30.986762Z"
    }
   },
   "outputs": [],
   "source": [
    "dis_dat = pd.read_excel('../dicts/dis_abbrev_dict.xlsx')\n",
    "res = pd.merge(res, dis_dat[['icd', 'dis_abbrev']], \n",
    "         left_on = 'icd', \n",
    "         right_on = 'icd',\n",
    "         how = 'left')\n",
    "\n",
    "\n",
    "res.loc[:, 'dis_abbrev_lab'] = \"[\" + res.loc[:, 'icd'] + \"] \" + res.loc[:, 'dis_abbrev']"
   ]
  },
  {
   "cell_type": "markdown",
   "metadata": {},
   "source": [
    "## Get nice organism names"
   ]
  },
  {
   "cell_type": "code",
   "execution_count": null,
   "metadata": {
    "ExecuteTime": {
     "end_time": "2023-09-05T18:29:31.108722Z",
     "start_time": "2023-09-05T18:29:31.070686Z"
    }
   },
   "outputs": [],
   "source": [
    "vir_dat = pd.read_excel('../dicts/antigen_dict.xlsx')\n",
    "vir_dat = vir_dat[['Tag', 'Organism', 'Family', 'Species', 'Baltimore']].drop_duplicates()\n",
    "\n",
    "res = pd.merge(res, vir_dat, \n",
    "         left_on = 'org', \n",
    "         right_on = 'Tag',\n",
    "         how = 'left')"
   ]
  },
  {
   "cell_type": "code",
   "execution_count": null,
   "metadata": {
    "ExecuteTime": {
     "end_time": "2023-09-05T18:29:31.116743Z",
     "start_time": "2023-09-05T18:29:31.110722Z"
    },
    "code_folding": [
     0
    ]
   },
   "outputs": [],
   "source": [
    "simp_org_name = {\n",
    "                      'Human Polyomavirus BKV': 'BKV',\n",
    "                      'Epstein-Barr Virus': 'EBV',\n",
    "                      'Human Herpesvirus-7': 'HHV-7',\n",
    "                      'Herpes Simplex virus-1': 'HSV-1',\n",
    "                      'Herpes Simplex virus-2': 'HSV-2',\n",
    "                      'Human Herpesvirus-6': 'HHV-6',\n",
    "                      \"Kaposi's Sarcoma-Associated Herpesvirus\": 'KSHV',\n",
    "                      'Human T-Lymphotropic Virus 1': 'HTLV-1',\n",
    "                      'Human Immunodeficiency Virus': 'HIV',\n",
    "                      'Varicella Zoster Virus': 'VZV',\n",
    "                      'Merkel Cell Polyomavirus': 'MCV',\n",
    "                      'Human Papillomavirus type-18': 'HPV-18',\n",
    "                      'Hepatitis C Virus': 'HCV',\n",
    "                      'Human Polyomavirus JCV': 'JCV',\n",
    "                      'Human Papillomavirus type-16': 'HPV-16',\n",
    "                      'Human Cytomegalovirus': 'CMV',\n",
    "                      'Hepatitis B Virus': 'HBV',\n",
    "\n",
    "            }"
   ]
  },
  {
   "cell_type": "markdown",
   "metadata": {},
   "source": [
    "# Horizontal barplot of ICD10 risk/protect split"
   ]
  },
  {
   "cell_type": "markdown",
   "metadata": {},
   "source": [
    "## Collect data"
   ]
  },
  {
   "cell_type": "code",
   "execution_count": null,
   "metadata": {
    "ExecuteTime": {
     "end_time": "2023-09-05T18:29:31.189607Z",
     "start_time": "2023-09-05T18:29:31.118687Z"
    },
    "code_folding": []
   },
   "outputs": [],
   "source": [
    "# Add blocks\n",
    "all_res['icd_cat'] = all_res.loc[:, 'icd'].str[:1]\n",
    "all_res['icd_site'] = all_res.loc[:, 'icd'].str[1:].astype(str)\n",
    "\n",
    "\n",
    "# Create ICD10 Blocks with descriptions\n",
    "all_res['icd_block'] = np.nan\n",
    "all_res['icd_descr'] = np.nan\n",
    "\n",
    "\n",
    "\n",
    "all_res.loc[((all_res['icd_cat'].isin(['A', 'B']))), 'icd_block'] = 'A00-B99'\n",
    "\n",
    "all_res.loc[(\n",
    "                (all_res['icd_cat'] == 'C') |\n",
    "    \n",
    "                ((all_res['icd_cat'] == 'D') & (all_res['icd_site'].astype(int) < 50))\n",
    "            ), 'icd_block'] = 'C00-D49'\n",
    "\n",
    "\n",
    "all_res.loc[((all_res['icd_cat'] == 'D') & (all_res['icd_site'].astype(int) >= 50)), \n",
    "            'icd_block'] = 'D50-D89'\n",
    "\n",
    "all_res.loc[(all_res['icd_cat'] == 'E'), 'icd_block'] = 'E00-E90'\n",
    "\n",
    "all_res.loc[(all_res['icd_cat'] == 'F'), 'icd_block'] = 'F00-F99'\n",
    "\n",
    "all_res.loc[(all_res['icd_cat'] == 'G'), 'icd_block'] = 'G00-G99'\n",
    "\n",
    "\n",
    "\n",
    "all_res.loc[((all_res['icd_cat'] == 'H') & (all_res['icd_site'].astype(int) < 60)), \n",
    "            'icd_block'] = 'H00-H59'\n",
    "\n",
    "\n",
    "all_res.loc[((all_res['icd_cat'] == 'H') & (all_res['icd_site'].astype(int) >= 60)), \n",
    "            'icd_block'] = 'H60-H95'\n",
    "\n",
    "all_res.loc[(all_res['icd_cat'] == 'I'), 'icd_block'] = 'I00-I99'\n",
    "all_res.loc[(all_res['icd_cat'] == 'J'), 'icd_block'] = 'J00-J99'\n",
    "all_res.loc[(all_res['icd_cat'] == 'K'), 'icd_block'] = 'K00-K93'\n",
    "all_res.loc[(all_res['icd_cat'] == 'L'), 'icd_block'] = 'L00-L99'\n",
    "all_res.loc[(all_res['icd_cat'] == 'M'), 'icd_block'] = 'M00-M99'\n",
    "all_res.loc[(all_res['icd_cat'] == 'N'), 'icd_block'] = 'N00-N99'\n",
    "all_res.loc[(all_res['icd_cat'] == 'O'), 'icd_block'] = 'O00-O99'\n",
    "\n",
    "\n",
    "\n",
    "all_res.loc[((all_res['icd_cat'].isin(['A', 'B']))), 'icd_descr'] = '[A00-B99] Infectious'\n",
    "\n",
    "all_res.loc[(\n",
    "                (all_res['icd_cat'] == 'C') |\n",
    "    \n",
    "                ((all_res['icd_cat'] == 'D') & (all_res['icd_site'].astype(int) < 50))\n",
    "            ), 'icd_descr'] = '[C00-D49] Neoplasms'\n",
    "\n",
    "\n",
    "all_res.loc[((all_res['icd_cat'] == 'D') & (all_res['icd_site'].astype(int) >= 50)), \n",
    "            'icd_descr'] = '[D50-D89] Blood'\n",
    "\n",
    "all_res.loc[(all_res['icd_cat'] == 'E'), 'icd_descr'] = '[E00-E90] Endocrine, Nutritional, Metabolic'\n",
    "\n",
    "all_res.loc[(all_res['icd_cat'] == 'F'), 'icd_descr'] = '[F00-F99] Mental, Behavioral'\n",
    "\n",
    "all_res.loc[(all_res['icd_cat'] == 'G'), 'icd_descr'] = '[G00-G99] Nervous'\n",
    "\n",
    "\n",
    "\n",
    "all_res.loc[((all_res['icd_cat'] == 'H') & (all_res['icd_site'].astype(int) < 60)), \n",
    "            'icd_descr'] = '[H00-H59] Eye'\n",
    "\n",
    "\n",
    "all_res.loc[((all_res['icd_cat'] == 'H') & (all_res['icd_site'].astype(int) >= 60)), \n",
    "            'icd_descr'] = '[H60-H95] Ear'\n",
    "\n",
    "all_res.loc[(all_res['icd_cat'] == 'I'), 'icd_descr'] = '[I00-I99] Circulatory'\n",
    "all_res.loc[(all_res['icd_cat'] == 'J'), 'icd_descr'] = '[J00-J99] Respiratory'\n",
    "all_res.loc[(all_res['icd_cat'] == 'K'), 'icd_descr'] = '[K00-K93] Digestive'\n",
    "all_res.loc[(all_res['icd_cat'] == 'L'), 'icd_descr'] = '[L00-L99] Skin'\n",
    "all_res.loc[(all_res['icd_cat'] == 'M'), 'icd_descr'] = '[M00-M99] Musculoskeletal'\n",
    "all_res.loc[(all_res['icd_cat'] == 'N'), 'icd_descr'] = '[N00-N99] Genitourinary'\n",
    "all_res.loc[(all_res['icd_cat'] == 'O'), 'icd_descr'] = '[O00-O99] Pregnancy, Childbirth'"
   ]
  },
  {
   "cell_type": "code",
   "execution_count": null,
   "metadata": {
    "ExecuteTime": {
     "end_time": "2023-09-05T18:29:31.217263Z",
     "start_time": "2023-09-05T18:29:31.192605Z"
    },
    "code_folding": []
   },
   "outputs": [],
   "source": [
    "# Split up results into risk vs protect\n",
    "all_res['is_risk'] = False\n",
    "all_res.loc[all_res['ukb_OR'] > 1, 'is_risk'] = True\n",
    "\n",
    "dat = all_res.loc[all_res['rep_stat'] == 'replicated', :]\n",
    "\n",
    "pl_dat = pd.DataFrame(dat.groupby(['org', 'icd_descr', \n",
    "                                   'rep_stat' ]).size()).reset_index(drop = False)\n",
    "pl_dat.columns = ['org', 'icd_descr', 'rep_stat',  'count']\n",
    "\n",
    "\n",
    "# Push in the nicer org names\n",
    "pl_dat = pl_dat.merge(vir_dat, left_on = 'org', right_on = 'Tag', how = 'left')\n",
    "pl_dat.loc[:, 'Baltimore']  = pl_dat.loc[:, 'Baltimore'].fillna(0)\n",
    "pl_dat.loc[:, 'Baltimore']  = pl_dat.loc[:, 'Baltimore'].astype(int)\n",
    "\n",
    "pl_dat['simple_name'] = pl_dat.loc[:, 'Organism'].replace(simp_org_name)"
   ]
  },
  {
   "cell_type": "code",
   "execution_count": null,
   "metadata": {
    "ExecuteTime": {
     "end_time": "2023-09-05T18:29:31.451412Z",
     "start_time": "2023-09-05T18:29:31.219285Z"
    },
    "code_folding": [
     2
    ]
   },
   "outputs": [],
   "source": [
    "spl_ls = []\n",
    "\n",
    "for _, curr_row in tqdm(pl_dat.iterrows(), total = len(pl_dat)):\n",
    "\n",
    "    curr_row_ls = curr_row.tolist()\n",
    "\n",
    "    curr_org = curr_row['org']\n",
    "    curr_dis = curr_row['icd_descr']\n",
    "\n",
    "    curr_block = dat.loc[((dat['org'] == curr_org) & \n",
    "                      (dat['icd_descr'] == curr_dis) &\n",
    "                     (dat['rep_stat'] == 'replicated')), :]\n",
    "\n",
    "    curr_risk_dict = curr_block['is_risk'].value_counts().to_dict()\n",
    "\n",
    "\n",
    "    if False in curr_risk_dict.keys():\n",
    "        curr_protect = curr_risk_dict[False]\n",
    "    else:\n",
    "        curr_protect = 0\n",
    "\n",
    "    if True in curr_risk_dict.keys():\n",
    "        curr_risk = curr_risk_dict[True]\n",
    "    else:\n",
    "        curr_risk = 0\n",
    "\n",
    "    curr_row_ls.extend([curr_risk, curr_protect])\n",
    "\n",
    "    spl_ls.append(curr_row_ls)\n",
    "    \n",
    "up_pl_dat = pd.DataFrame(spl_ls, columns = pl_dat.columns.tolist() + ['risk_cnt', 'protect_cnt'])\n",
    "\n",
    "\n",
    "pl_dat = up_pl_dat.copy(deep = True)\n",
    "\n",
    "viruses = pl_dat.copy(deep = True)\n",
    "viruses = viruses.loc[((viruses['Tag'] != 'c_trach') & \n",
    "                       (viruses['Tag'] != 'h_pylor') &\n",
    "                       (viruses['Tag'] != 't_gond')), :]\n",
    "\n",
    "viruses['formatted_name'] = viruses.loc[:, 'simple_name']\n",
    "viruses['org_type'] = 'virus'\n",
    "\n",
    "microbes = pl_dat.copy(deep = True)\n",
    "microbes = microbes.loc[((microbes['Tag'] == 'c_trach') | \n",
    "                         (microbes['Tag'] == 'h_pylor') |\n",
    "                         (microbes['Tag'] == 't_gond')), :]\n",
    "\n",
    "corr_name_ls = []\n",
    "for _, curr_row in tqdm(microbes.iterrows(), total = len(microbes)):\n",
    "    \n",
    "    curr_name = curr_row['Organism']\n",
    "    \n",
    "    if curr_name == 'Toxoplasma gondii':\n",
    "        corr_name_ls.append('$\\it{T. gondii}$')\n",
    "    \n",
    "    elif curr_name == 'Helicobacter pylori':\n",
    "        corr_name_ls.append('$\\it{H. pylori}$')\n",
    "\n",
    "    elif curr_name == 'Chlamydia trachomatis': \n",
    "        corr_name_ls.append('$\\it{C. trachomatis}$')   \n",
    "        \n",
    "microbes['formatted_name'] = corr_name_ls\n",
    "microbes['org_type'] = 'microbe'\n",
    "\n",
    "fin_pl = pd.concat([microbes, viruses])\n",
    "\n",
    "rep = fin_pl.loc[fin_pl['rep_stat'] == 'replicated', :]"
   ]
  },
  {
   "cell_type": "markdown",
   "metadata": {},
   "source": [
    "## Do some counting!"
   ]
  },
  {
   "cell_type": "code",
   "execution_count": null,
   "metadata": {
    "ExecuteTime": {
     "end_time": "2023-09-05T18:29:33.299113Z",
     "start_time": "2023-09-05T18:29:31.452930Z"
    },
    "code_folding": [],
    "scrolled": true
   },
   "outputs": [],
   "source": [
    "tot_df = rep.groupby('org').agg({'count' : 'sum', 'risk_cnt' : 'sum', 'protect_cnt' : 'sum'})\n",
    "tot_df = tot_df.reset_index(drop = False)\n",
    "\n",
    "tots = pd.DataFrame(columns = rep.columns)\n",
    "\n",
    "for curr_row in tot_df.values:\n",
    "\n",
    "    curr_org = curr_row[0]\n",
    "    curr_tot_cnt = curr_row[1]\n",
    "    curr_tot_risk = curr_row[2]\n",
    "    curr_tot_prot = curr_row[3]\n",
    "\n",
    "    curr_org_info = rep.loc[rep['org'] == curr_org, :].iloc[0].copy(deep = True)\n",
    "\n",
    "    curr_org_info['icd_descr'] = '[A00 - O99] All Diseases'\n",
    "    curr_org_info['count'] = curr_tot_cnt\n",
    "    curr_org_info['risk_cnt'] = curr_tot_risk\n",
    "    curr_org_info['protect_cnt'] = curr_tot_prot\n",
    "\n",
    "    tots = tots.append(curr_org_info, ignore_index = True)\n",
    "    \n",
    "tots['neg_protect_cnt'] = tots.loc[:, 'protect_cnt'] * -1\n",
    "\n",
    "# Ugly way to manuallys specify org order\n",
    "ordered_orgs = [\n",
    "\n",
    "                # Bacteria\n",
    "                ('$\\\\it{C. trachomatis}$', 0),\n",
    "                ('$\\\\it{H. pylori}$', 1),\n",
    "                \n",
    "                # Alveolata\n",
    "                ('$\\\\it{T. gondii}$', 2),\n",
    "                \n",
    "                # Riboviria - HBV more closely related to HIV and HTLV-1 than HCV atleast by phylo\n",
    "                ('HBV', 3),\n",
    "                ('HCV', 4),\n",
    "                ('HIV', 5),\n",
    "                ('HTLV1', 6),\n",
    "                \n",
    "                # Papovaviricetes\n",
    "                ('BKV', 7),\n",
    "                ('JCV', 8),\n",
    "                ('MCV', 9),\n",
    "                ('HPV16', 10),\n",
    "                ('HPV18', 11),\n",
    "                \n",
    "                # Herpes\n",
    "                ('CMV', 12),\n",
    "                ('EBV', 13),\n",
    "                ('HSV1', 14),\n",
    "                ('HSV2', 15),\n",
    "                ('HHV6', 16),\n",
    "                ('HHV7', 17),\n",
    "                ('VZV', 18),\n",
    "                ('KSHV/HHV8', 19),\n",
    "            \n",
    "                ]\n",
    "\n",
    "corr_x_names = [x[0] for x in ordered_orgs]\n",
    "ordered_orgs_df = pd.DataFrame(ordered_orgs)\n",
    "ordered_orgs_df.columns = ['formatted_name', 'enum_num']\n",
    "\n",
    "tots.loc[:, 'formatted_name'] = tots.loc[:, 'formatted_name'].str.replace('-', '')\n",
    "tots = tots.merge(ordered_orgs_df, on = 'formatted_name', how = 'left')\n",
    "\n",
    "# Per Leah, bold the ICD description but not the code range\n",
    "rep.loc[:, 'icd_descr'] = rep.loc[:, 'icd_descr'].str.replace('] ', '] $\\\\bf{', regex = False) + '}$'\n",
    "tots.loc[:, 'icd_descr'] = tots.loc[:, 'icd_descr'].str.replace('] ', '] $\\\\bf{', regex = False) + '}$'\n"
   ]
  },
  {
   "cell_type": "markdown",
   "metadata": {},
   "source": [
    "## Little more processing"
   ]
  },
  {
   "cell_type": "code",
   "execution_count": null,
   "metadata": {
    "ExecuteTime": {
     "end_time": "2023-09-05T18:29:33.309114Z",
     "start_time": "2023-09-05T18:29:33.301113Z"
    }
   },
   "outputs": [],
   "source": [
    "tots = tots.sort_values('enum_num', ascending = False)\n",
    "clean = tots.loc[:, ['org', 'formatted_name', 'risk_cnt', 'protect_cnt']]\n",
    "  \n",
    "\n",
    "clean.loc[:, 'protect_cnt'] = -1 * clean.loc[:, 'protect_cnt']\n",
    "clean['tot'] = clean['risk_cnt'] + (clean['protect_cnt'] * -1)\n",
    "\n",
    "# per Matt for v04\n",
    "clean = clean.sort_values('tot')"
   ]
  },
  {
   "cell_type": "markdown",
   "metadata": {},
   "source": [
    "## Generate plot"
   ]
  },
  {
   "cell_type": "code",
   "execution_count": null,
   "metadata": {
    "ExecuteTime": {
     "end_time": "2023-09-05T18:29:34.169822Z",
     "start_time": "2023-09-05T18:29:33.311115Z"
    }
   },
   "outputs": [],
   "source": [
    "from matplotlib.patches import  FancyArrowPatch as Arrow\n",
    "CON_COLOR =  '#4A6990'\n",
    "CASE_COLOR = '#bb3d2e'\n",
    "\n",
    "BAR_LAB_FONT_SIZE = 16\n",
    "\n",
    "fig, ax = plt.subplots(figsize = (6, 15), facecolor = 'white')\n",
    "\n",
    "p1 = ax.barh(y = clean['formatted_name'], width = clean['risk_cnt'], left = 0, \n",
    "        align = 'center', color = CASE_COLOR)\n",
    "p2 = ax.barh(y = clean['formatted_name'], width = clean['protect_cnt'], left = 0, \n",
    "        align = 'center', color = CON_COLOR)\n",
    "\n",
    "ax.axvline(0, color = '#242424', linewidth = 1)\n",
    "\n",
    "risk_labs = ax.bar_label(p1, label_type='edge', color = '#242424', fontsize = BAR_LAB_FONT_SIZE)\n",
    "prot_labs = ax.bar_label(p2, label_type='edge', color = '#242424', fontsize = BAR_LAB_FONT_SIZE)\n",
    "\n",
    "ax.set_xlim(-25, 25)\n",
    "\n",
    "fin_labs = []\n",
    "for curr_text in ax.get_xticklabels():\n",
    "    #print(curr_text)\n",
    "    curr_text_val = curr_text.get_text()\n",
    "    #print(curr_text_val)\n",
    "    if u\"\\u2212\" in curr_text_val:\n",
    "        curr_text_val = re.sub(u\"\\u2212\", \"\", curr_text_val)\n",
    "        #print(curr_text_val)\n",
    "        curr_text.set_text(curr_text_val)\n",
    "    fin_labs.append(curr_text)\n",
    "        \n",
    "        \n",
    "ax.set_xticklabels(fin_labs)\n",
    "\n",
    "for curr_text in risk_labs:\n",
    "    if(int(curr_text.get_text())) == 0:\n",
    "        curr_text.set_x(2)\n",
    "        print(curr_text)\n",
    "        continue\n",
    "\n",
    "\n",
    "for curr_text in prot_labs:\n",
    "    if(int(curr_text.get_text())) == 0:\n",
    "        curr_text.set_x(-10)\n",
    "        print(curr_text)\n",
    "        continue\n",
    "        \n",
    "    curr_text.set_text(str(int(curr_text.get_text()) * -1)) \n",
    "   \n",
    "ARROW_Y = -0.05\n",
    "TEXT_Y  = -0.075\n",
    "X_LAB_Y = -0.125\n",
    "ARROW_TEXT_FONT = {\n",
    "            'family': 'DejaVu Sans',\n",
    "            'color':  'black',\n",
    "            'weight': 'normal',\n",
    "            'size': 13,  \n",
    "}\n",
    "\n",
    "X_LAB_FONT = {\n",
    "            'family': 'DejaVu Sans',\n",
    "            'color':  'black',\n",
    "            'weight': 'normal',\n",
    "            'size': 15,  \n",
    "}\n",
    "\n",
    "ARROW_LEN = 0.375\n",
    "ARROW_OFF_CENTER = 0.02\n",
    "CENTER = 0.5\n",
    "\n",
    "\n",
    "risk_ar_st_x = CENTER + ARROW_OFF_CENTER\n",
    "risk_ar_end_x = risk_ar_st_x + ARROW_LEN\n",
    "risk_mid_x = CENTER + (ARROW_LEN / 2)\n",
    "\n",
    "prot_ar_st_x = CENTER - ARROW_OFF_CENTER\n",
    "prot_ar_end_x = prot_ar_st_x - ARROW_LEN\n",
    "prot_mid_x = CENTER - (ARROW_LEN / 2)\n",
    "\n",
    "\n",
    "risk_ar = Arrow(posA = (risk_ar_st_x, ARROW_Y), posB = (risk_ar_end_x, ARROW_Y), arrowstyle = \"-|>\",\n",
    "                color = CASE_COLOR, linewidth = 2, mutation_scale = 25, \n",
    "                transform = ax.transAxes)\n",
    " \n",
    "prot_ar = Arrow(posA = (prot_ar_st_x, ARROW_Y), posB = (prot_ar_end_x, ARROW_Y), arrowstyle = \"-|>\",\n",
    "                color = CON_COLOR, linewidth = 2, mutation_scale = 25, \n",
    "                transform = ax.transAxes)    \n",
    "\n",
    "fig.patches.extend([risk_ar, prot_ar])\n",
    "\n",
    "ax.text(x = risk_mid_x, \n",
    "        y = TEXT_Y, \n",
    "        s = 'Increases Risk\\n[OR > 1]',\n",
    "        ha = 'center', va = 'center',\n",
    "        transform = ax.transAxes, \n",
    "        fontdict = ARROW_TEXT_FONT)\n",
    "\n",
    "\n",
    "ax.text(x = prot_mid_x, \n",
    "        y = TEXT_Y, \n",
    "        s = 'Decreases Risk\\n[OR < 1]',\n",
    "        ha = 'center', va = 'center',\n",
    "        transform = ax.transAxes, \n",
    "        fontdict = ARROW_TEXT_FONT)\n",
    "\n",
    "\n",
    "ax.text(x = 0.5, \n",
    "        y = X_LAB_Y, \n",
    "        s = 'Number of Replicated Results',\n",
    "        ha = 'center', va = 'center',\n",
    "        transform = ax.transAxes, \n",
    "        fontdict = X_LAB_FONT)"
   ]
  },
  {
   "cell_type": "markdown",
   "metadata": {},
   "source": [
    "## Save plot"
   ]
  },
  {
   "cell_type": "code",
   "execution_count": null,
   "metadata": {
    "ExecuteTime": {
     "end_time": "2023-09-05T18:29:34.890153Z",
     "start_time": "2023-09-05T18:29:34.171824Z"
    }
   },
   "outputs": [],
   "source": [
    "out_dir = '../manuscript/figures/supp_fig_3'\n",
    "fn = f\"{out_dir}/supp_fig_3.pdf\"\n",
    "fig.savefig(fn, format = 'pdf', dpi = 600, bbox_inches=\"tight\")"
   ]
  }
 ],
 "metadata": {
  "kernelspec": {
   "display_name": "Python 3 (ipykernel)",
   "language": "python",
   "name": "python3"
  },
  "language_info": {
   "codemirror_mode": {
    "name": "ipython",
    "version": 3
   },
   "file_extension": ".py",
   "mimetype": "text/x-python",
   "name": "python",
   "nbconvert_exporter": "python",
   "pygments_lexer": "ipython3",
   "version": "3.10.4"
  },
  "notify_time": "10",
  "toc": {
   "base_numbering": 1,
   "nav_menu": {},
   "number_sections": true,
   "sideBar": false,
   "skip_h1_title": false,
   "title_cell": "Table of Contents",
   "title_sidebar": "Contents",
   "toc_cell": false,
   "toc_position": {},
   "toc_section_display": true,
   "toc_window_display": false
  },
  "varInspector": {
   "cols": {
    "lenName": 16,
    "lenType": 16,
    "lenVar": 40
   },
   "kernels_config": {
    "python": {
     "delete_cmd_postfix": "",
     "delete_cmd_prefix": "del ",
     "library": "var_list.py",
     "varRefreshCmd": "print(var_dic_list())"
    },
    "r": {
     "delete_cmd_postfix": ") ",
     "delete_cmd_prefix": "rm(",
     "library": "var_list.r",
     "varRefreshCmd": "cat(var_dic_list()) "
    }
   },
   "types_to_exclude": [
    "module",
    "function",
    "builtin_function_or_method",
    "instance",
    "_Feature"
   ],
   "window_display": false
  }
 },
 "nbformat": 4,
 "nbformat_minor": 4
}
