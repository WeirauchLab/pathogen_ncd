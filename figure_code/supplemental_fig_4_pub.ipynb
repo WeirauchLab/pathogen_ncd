{
 "cells": [
  {
   "cell_type": "markdown",
   "metadata": {},
   "source": [
    "# Load Libraries"
   ]
  },
  {
   "cell_type": "code",
   "execution_count": null,
   "metadata": {
    "ExecuteTime": {
     "end_time": "2023-09-05T18:29:38.639383Z",
     "start_time": "2023-09-05T18:29:35.640404Z"
    },
    "code_folding": []
   },
   "outputs": [],
   "source": [
    "# Data manipulation\n",
    "import numpy as np\n",
    "import pandas as pd\n",
    "\n",
    "# Data science\n",
    "import math\n",
    "import scipy.stats as stats\n",
    "from sklearn.experimental import enable_iterative_imputer\n",
    "from sklearn.impute import IterativeImputer\n",
    "from statsmodels.stats.multitest import multipletests as mt\n",
    "import random\n",
    "\n",
    "# Plots\n",
    "import matplotlib as mpl\n",
    "import seaborn as sns\n",
    "import matplotlib.pyplot as plt\n",
    "from matplotlib import ticker\n",
    "from matplotlib import gridspec\n",
    "from matplotlib.colors import to_hex\n",
    "import colorcet as cc\n",
    "from matplotlib.lines import Line2D\n",
    "\n",
    "# Working with dates\n",
    "from datetime import date,datetime\n",
    "import dateutil\n",
    "\n",
    "# Looping  progress\n",
    "from tqdm.notebook import tqdm\n",
    "\n",
    "# Reg expressions\n",
    "import re\n",
    "\n",
    "# Pretty table printing\n",
    "import tabulate\n",
    "\n",
    "import os\n",
    "import subprocess\n",
    "\n",
    "# Misc libraries\n",
    "from IPython.display import display, HTML\n",
    "#from IPython.core.display import display, HTML\n",
    "\n",
    "# Set seaborn figure size, font size, and style\n",
    "sns.set(rc={'figure.figsize':(11.7,8.27)})\n",
    "sns.set(font_scale=1.5)\n",
    "sns.set_style(\"white\")\n",
    "\n",
    "# Set Pandas options so we can see our entire dataframe\n",
    "pd.options.display.max_rows = 10000\n",
    "pd.options.display.max_columns = 10000\n",
    "pd.options.display.max_colwidth = None\n",
    "\n",
    "# Print our versions of this packages, this allows us to make sure\n",
    "# we have the working versions we need. \n",
    "print(f\"Pandas version: {pd.__version__}\")"
   ]
  },
  {
   "cell_type": "markdown",
   "metadata": {},
   "source": [
    "# Prep Environment"
   ]
  },
  {
   "cell_type": "code",
   "execution_count": null,
   "metadata": {
    "ExecuteTime": {
     "end_time": "2023-09-05T18:29:38.653384Z",
     "start_time": "2023-09-05T18:29:38.641384Z"
    }
   },
   "outputs": [],
   "source": [
    "# Remove grey side bars\n",
    "display(HTML(\"<style>.container { width:90% !important; }</style>\"))\n",
    "\n",
    "os.chdir('../../../../results/')"
   ]
  },
  {
   "cell_type": "markdown",
   "metadata": {},
   "source": [
    "# Data prep"
   ]
  },
  {
   "cell_type": "code",
   "execution_count": null,
   "metadata": {
    "ExecuteTime": {
     "end_time": "2023-09-05T18:29:45.126640Z",
     "start_time": "2023-09-05T18:29:38.655379Z"
    }
   },
   "outputs": [],
   "source": [
    "all_res = pd.read_excel('../manuscript/latest/supplemental_datasets/supplemental_dataset_2.xlsx',\n",
    "                    sheet_name = 'Results')"
   ]
  },
  {
   "cell_type": "code",
   "execution_count": null,
   "metadata": {
    "ExecuteTime": {
     "end_time": "2023-09-05T18:29:45.170982Z",
     "start_time": "2023-09-05T18:29:45.128606Z"
    },
    "code_folding": [
     0
    ]
   },
   "outputs": [],
   "source": [
    "# Revert our more human-friendly column names back to computer-friendly ones.\n",
    "human_to_computer_column_dict = {'Disease' : 'disease', \n",
    "                                'ICD10' : 'icd', \n",
    "                                'Organism' : 'org', \n",
    "                                'Antibody' : 'anti', \n",
    "                                'Pair is Associated' : 'pair_is_associated', \n",
    "                                'Standard Level' : 'std_lev', \n",
    "                                'Replication Status' : 'rep_stat', \n",
    "                                'UKB adj p' : 'ukb_per_dis_bh_fdr_corr_nom_p', \n",
    "                                'TNX adj p' : 'tnx_per_dis_bh_fdr_corr_p', \n",
    "                                'UKB OR' : 'ukb_OR', \n",
    "                                'TNX OR' : 'tnx_OR', \n",
    "                                'UKB CI' : 'ukb_anti_CI', \n",
    "                                'TNX CI' : 'tnx_CI', \n",
    "                                'UKB nCase' : 'ukb_nCase',\n",
    "                                'UKB nControl' : 'ukb_nControl',\n",
    "                                'TNX nCase' : 'tnx_nCase', \n",
    "                                'TNX nControl' : 'tnx_nControl'\n",
    "}\n",
    "\n",
    "all_res = all_res.rename(columns = human_to_computer_column_dict)\n",
    "\n",
    "# Revert human friendly organism names to computationally friendly ones\n",
    "human_to_computer_org_dict = {\n",
    "                                'BKV': 'bkv',\n",
    "                                'C. trachomatis': 'c_trach',\n",
    "                                'CMV': 'cmv',\n",
    "                                'EBV': 'ebv',\n",
    "                                'H. pylori': 'h_pylor',\n",
    "                                'HBV': 'hbv',\n",
    "                                'HCV': 'hcv',\n",
    "                                'HHV-6': 'hhv_6',\n",
    "                                'HHV-7': 'hhv_7',\n",
    "                                'HIV': 'hiv',\n",
    "                                'HPV-16': 'hpv_16',\n",
    "                                'HPV-18': 'hpv_18',\n",
    "                                'HSV-1': 'hsv_1',\n",
    "                                'HSV-2': 'hsv_2',\n",
    "                                'HTLV-1': 'htlv',\n",
    "                                'JCV': 'jcv',\n",
    "                                'KSHV': 'kshv',\n",
    "                                'MCV': 'mcv',\n",
    "                                'T. gondii': 't_gond',\n",
    "                                'VZV': 'vzv'\n",
    "                            }\n",
    "all_res.loc[:, 'org'] = all_res.loc[:, 'org'].replace(human_to_computer_org_dict)\n",
    "\n",
    "\n",
    "human_to_computer_anti_dict = {\n",
    "                                    'K8.1' : 'K8_1', \n",
    "                                    'gE / gI' : 'gE_gl', \n",
    "                                    'pp 52' : 'pp52', \n",
    "                                    'pp 28' : 'pp28', \n",
    "                                    '2mgG' : 'IgG', \n",
    "                                    'momp A' : 'momp_A', \n",
    "                                    'pp150 Nter' : 'pp150_Nter', \n",
    "                                    '1gG' : 'IgG', \n",
    "                                    'p101 k' : 'p101_k', \n",
    "                                    'tarp-D F2' : 'tarp-D_F2', \n",
    "                                    'momp D' : 'momp_D', \n",
    "                                    'tarp-D F1' : 'tarp-D_F1', \n",
    "                                    'VCA p18' : 'VCA_p18'\n",
    "}\n",
    "all_res.loc[:, 'anti'] = all_res.loc[:, 'anti'].replace(human_to_computer_anti_dict)\n",
    "\n",
    "human_to_computer_std_lev_dict = {\n",
    "    'Unknown' : 'unk',\n",
    "    'Exp. Negative' : 'exp_neg'\n",
    "}\n",
    "all_res.loc[:, 'std_lev'] = all_res.loc[:, 'std_lev'].replace(human_to_computer_std_lev_dict)\n",
    "\n",
    "human_to_computer_rep_dict = {\n",
    "    'Did not attempt' : 'did_not_attempt', \n",
    "    'Replicated' : 'replicated', \n",
    "    'Failed Replication' : 'did_not', \n",
    "    'Could not attempt' : 'could_not'\n",
    "}\n",
    "all_res.loc[:, 'rep_stat'] = all_res.loc[:, 'rep_stat'].replace(human_to_computer_rep_dict)"
   ]
  },
  {
   "cell_type": "code",
   "execution_count": null,
   "metadata": {
    "ExecuteTime": {
     "end_time": "2023-09-05T18:29:45.178739Z",
     "start_time": "2023-09-05T18:29:45.172952Z"
    }
   },
   "outputs": [],
   "source": [
    "res = all_res.loc[all_res['rep_stat'] == 'replicated', :]"
   ]
  },
  {
   "cell_type": "markdown",
   "metadata": {},
   "source": [
    "## Get Abbreviated Disease Names"
   ]
  },
  {
   "cell_type": "code",
   "execution_count": null,
   "metadata": {
    "ExecuteTime": {
     "end_time": "2023-09-05T18:29:45.247503Z",
     "start_time": "2023-09-05T18:29:45.180738Z"
    }
   },
   "outputs": [],
   "source": [
    "dis_dat = pd.read_excel('../dicts/dis_abbrev_dict.xlsx')\n",
    "res = pd.merge(res, dis_dat[['icd', 'dis_abbrev']], \n",
    "         left_on = 'icd', \n",
    "         right_on = 'icd',\n",
    "         how = 'left')\n",
    "\n",
    "res.loc[:, 'dis_abbrev_lab'] = \"[\" + res.loc[:, 'icd'] + \"] \" + res.loc[:, 'dis_abbrev']"
   ]
  },
  {
   "cell_type": "markdown",
   "metadata": {},
   "source": [
    "## Get nice organism names"
   ]
  },
  {
   "cell_type": "code",
   "execution_count": null,
   "metadata": {
    "ExecuteTime": {
     "end_time": "2023-09-05T18:29:45.285604Z",
     "start_time": "2023-09-05T18:29:45.248502Z"
    }
   },
   "outputs": [],
   "source": [
    "vir_dat = pd.read_excel('../dicts/antigen_dict.xlsx')\n",
    "vir_dat = vir_dat[['Tag', 'Organism', 'Family', 'Species', 'Baltimore']].drop_duplicates()\n",
    "\n",
    "res = pd.merge(res, vir_dat, \n",
    "         left_on = 'org', \n",
    "         right_on = 'Tag',\n",
    "         how = 'left')"
   ]
  },
  {
   "cell_type": "code",
   "execution_count": null,
   "metadata": {
    "ExecuteTime": {
     "end_time": "2023-09-05T18:29:45.293546Z",
     "start_time": "2023-09-05T18:29:45.287548Z"
    },
    "code_folding": [
     0
    ]
   },
   "outputs": [],
   "source": [
    "simp_org_name = {\n",
    "                      'Human Polyomavirus BKV': 'BKV',\n",
    "                      'Epstein-Barr Virus': 'EBV',\n",
    "                      'Human Herpesvirus-7': 'HHV-7',\n",
    "                      'Herpes Simplex virus-1': 'HSV-1',\n",
    "                      'Herpes Simplex virus-2': 'HSV-2',\n",
    "                      'Human Herpesvirus-6': 'HHV-6',\n",
    "                      \"Kaposi's Sarcoma-Associated Herpesvirus\": 'KSHV',\n",
    "                      'Human T-Lymphotropic Virus 1': 'HTLV-1',\n",
    "                      'Human Immunodeficiency Virus': 'HIV',\n",
    "                      'Varicella Zoster Virus': 'VZV',\n",
    "                      'Merkel Cell Polyomavirus': 'MCV',\n",
    "                      'Human Papillomavirus type-18': 'HPV-18',\n",
    "                      'Hepatitis C Virus': 'HCV',\n",
    "                      'Human Polyomavirus JCV': 'JCV',\n",
    "                      'Human Papillomavirus type-16': 'HPV-16',\n",
    "                      'Human Cytomegalovirus': 'CMV',\n",
    "                      'Hepatitis B Virus': 'HBV',\n",
    "\n",
    "            }"
   ]
  },
  {
   "cell_type": "markdown",
   "metadata": {},
   "source": [
    "# Heatmap of ICD10 Blocks (risk/protect split)"
   ]
  },
  {
   "cell_type": "code",
   "execution_count": null,
   "metadata": {
    "ExecuteTime": {
     "end_time": "2023-09-05T18:29:45.365547Z",
     "start_time": "2023-09-05T18:29:45.295548Z"
    },
    "code_folding": [
     0
    ]
   },
   "outputs": [],
   "source": [
    "# Add blocks\n",
    "all_res['icd_cat'] = all_res.loc[:, 'icd'].str[:1]\n",
    "all_res['icd_site'] = all_res.loc[:, 'icd'].str[1:].astype(str)\n",
    "\n",
    "\n",
    "# Create ICD10 Blocks with descriptions\n",
    "all_res['icd_block'] = np.nan\n",
    "all_res['icd_descr'] = np.nan\n",
    "\n",
    "\n",
    "\n",
    "all_res.loc[((all_res['icd_cat'].isin(['A', 'B']))), 'icd_block'] = 'A00-B99'\n",
    "\n",
    "all_res.loc[(\n",
    "                (all_res['icd_cat'] == 'C') |\n",
    "    \n",
    "                ((all_res['icd_cat'] == 'D') & (all_res['icd_site'].astype(int) < 50))\n",
    "            ), 'icd_block'] = 'C00-D49'\n",
    "\n",
    "\n",
    "all_res.loc[((all_res['icd_cat'] == 'D') & (all_res['icd_site'].astype(int) >= 50)), \n",
    "            'icd_block'] = 'D50-D89'\n",
    "\n",
    "all_res.loc[(all_res['icd_cat'] == 'E'), 'icd_block'] = 'E00-E90'\n",
    "\n",
    "all_res.loc[(all_res['icd_cat'] == 'F'), 'icd_block'] = 'F00-F99'\n",
    "\n",
    "all_res.loc[(all_res['icd_cat'] == 'G'), 'icd_block'] = 'G00-G99'\n",
    "\n",
    "\n",
    "\n",
    "all_res.loc[((all_res['icd_cat'] == 'H') & (all_res['icd_site'].astype(int) < 60)), \n",
    "            'icd_block'] = 'H00-H59'\n",
    "\n",
    "\n",
    "all_res.loc[((all_res['icd_cat'] == 'H') & (all_res['icd_site'].astype(int) >= 60)), \n",
    "            'icd_block'] = 'H60-H95'\n",
    "\n",
    "all_res.loc[(all_res['icd_cat'] == 'I'), 'icd_block'] = 'I00-I99'\n",
    "all_res.loc[(all_res['icd_cat'] == 'J'), 'icd_block'] = 'J00-J99'\n",
    "all_res.loc[(all_res['icd_cat'] == 'K'), 'icd_block'] = 'K00-K93'\n",
    "all_res.loc[(all_res['icd_cat'] == 'L'), 'icd_block'] = 'L00-L99'\n",
    "all_res.loc[(all_res['icd_cat'] == 'M'), 'icd_block'] = 'M00-M99'\n",
    "all_res.loc[(all_res['icd_cat'] == 'N'), 'icd_block'] = 'N00-N99'\n",
    "all_res.loc[(all_res['icd_cat'] == 'O'), 'icd_block'] = 'O00-O99'\n",
    "\n",
    "\n",
    "\n",
    "all_res.loc[((all_res['icd_cat'].isin(['A', 'B']))), 'icd_descr'] = '[A00-B99] Infectious'\n",
    "\n",
    "all_res.loc[(\n",
    "                (all_res['icd_cat'] == 'C') |\n",
    "    \n",
    "                ((all_res['icd_cat'] == 'D') & (all_res['icd_site'].astype(int) < 50))\n",
    "            ), 'icd_descr'] = '[C00-D49] Neoplasms'\n",
    "\n",
    "\n",
    "all_res.loc[((all_res['icd_cat'] == 'D') & (all_res['icd_site'].astype(int) >= 50)), \n",
    "            'icd_descr'] = '[D50-D89] Blood'\n",
    "\n",
    "all_res.loc[(all_res['icd_cat'] == 'E'), 'icd_descr'] = '[E00-E90] Endocrine, Nutritional, Metabolic'\n",
    "\n",
    "all_res.loc[(all_res['icd_cat'] == 'F'), 'icd_descr'] = '[F00-F99] Mental, Behavioral'\n",
    "\n",
    "all_res.loc[(all_res['icd_cat'] == 'G'), 'icd_descr'] = '[G00-G99] Nervous'\n",
    "\n",
    "\n",
    "\n",
    "all_res.loc[((all_res['icd_cat'] == 'H') & (all_res['icd_site'].astype(int) < 60)), \n",
    "            'icd_descr'] = '[H00-H59] Eye'\n",
    "\n",
    "\n",
    "all_res.loc[((all_res['icd_cat'] == 'H') & (all_res['icd_site'].astype(int) >= 60)), \n",
    "            'icd_descr'] = '[H60-H95] Ear'\n",
    "\n",
    "all_res.loc[(all_res['icd_cat'] == 'I'), 'icd_descr'] = '[I00-I99] Circulatory'\n",
    "all_res.loc[(all_res['icd_cat'] == 'J'), 'icd_descr'] = '[J00-J99] Respiratory'\n",
    "all_res.loc[(all_res['icd_cat'] == 'K'), 'icd_descr'] = '[K00-K93] Digestive'\n",
    "all_res.loc[(all_res['icd_cat'] == 'L'), 'icd_descr'] = '[L00-L99] Skin, Subcutaneous'\n",
    "all_res.loc[(all_res['icd_cat'] == 'M'), 'icd_descr'] = '[M00-M99] Musculoskeletal'\n",
    "all_res.loc[(all_res['icd_cat'] == 'N'), 'icd_descr'] = '[N00-N99] Genitourinary'\n",
    "all_res.loc[(all_res['icd_cat'] == 'O'), 'icd_descr'] = '[O00-O99] Pregnancy, Childbirth'"
   ]
  },
  {
   "cell_type": "code",
   "execution_count": null,
   "metadata": {
    "ExecuteTime": {
     "end_time": "2023-09-05T18:29:45.389549Z",
     "start_time": "2023-09-05T18:29:45.367548Z"
    },
    "code_folding": []
   },
   "outputs": [],
   "source": [
    "# Split up results into risk vs protect\n",
    "all_res['is_risk'] = False\n",
    "all_res.loc[all_res['ukb_OR'] > 1, 'is_risk'] = True\n",
    "\n",
    "# Filter for CNR and REP\n",
    "dat = all_res.loc[all_res['rep_stat'] == 'replicated', :]\n",
    "\n",
    "pl_dat = pd.DataFrame(dat.groupby(['org', 'icd_descr', \n",
    "                                   'rep_stat' ]).size()).reset_index(drop = False)\n",
    "pl_dat.columns = ['org', 'icd_descr', 'rep_stat',  'count']\n",
    "\n",
    "\n",
    "# Push in the nicer org names\n",
    "pl_dat = pl_dat.merge(vir_dat, left_on = 'org', right_on = 'Tag', how = 'left')\n",
    "pl_dat.loc[:, 'Baltimore']  = pl_dat.loc[:, 'Baltimore'].fillna(0)\n",
    "pl_dat.loc[:, 'Baltimore']  = pl_dat.loc[:, 'Baltimore'].astype(int)\n",
    "\n",
    "pl_dat['simple_name'] = pl_dat.loc[:, 'Organism'].replace(simp_org_name)"
   ]
  },
  {
   "cell_type": "code",
   "execution_count": null,
   "metadata": {
    "ExecuteTime": {
     "end_time": "2023-09-05T18:29:45.614694Z",
     "start_time": "2023-09-05T18:29:45.390547Z"
    },
    "code_folding": [
     2,
     49
    ]
   },
   "outputs": [],
   "source": [
    "spl_ls = []\n",
    "\n",
    "for _, curr_row in tqdm(pl_dat.iterrows(), total = len(pl_dat)):\n",
    "\n",
    "    curr_row_ls = curr_row.tolist()\n",
    "\n",
    "    curr_org = curr_row['org']\n",
    "    curr_dis = curr_row['icd_descr']\n",
    "\n",
    "    curr_block = dat.loc[((dat['org'] == curr_org) & \n",
    "                      (dat['icd_descr'] == curr_dis) &\n",
    "                     (dat['rep_stat'] == 'replicated')), :]\n",
    "\n",
    "    curr_risk_dict = curr_block['is_risk'].value_counts().to_dict()\n",
    "\n",
    "\n",
    "    if False in curr_risk_dict.keys():\n",
    "        curr_protect = curr_risk_dict[False]\n",
    "    else:\n",
    "        curr_protect = 0\n",
    "\n",
    "    if True in curr_risk_dict.keys():\n",
    "        curr_risk = curr_risk_dict[True]\n",
    "    else:\n",
    "        curr_risk = 0\n",
    "\n",
    "    curr_row_ls.extend([curr_risk, curr_protect])\n",
    "\n",
    "    spl_ls.append(curr_row_ls)\n",
    "    \n",
    "up_pl_dat = pd.DataFrame(spl_ls, columns = pl_dat.columns.tolist() + ['risk_cnt', 'protect_cnt'])\n",
    "\n",
    "\n",
    "pl_dat = up_pl_dat.copy(deep = True)\n",
    "\n",
    "viruses = pl_dat.copy(deep = True)\n",
    "viruses = viruses.loc[((viruses['Tag'] != 'c_trach') & \n",
    "                       (viruses['Tag'] != 'h_pylor') &\n",
    "                       (viruses['Tag'] != 't_gond')), :]\n",
    "\n",
    "viruses['formatted_name'] = viruses.loc[:, 'simple_name']\n",
    "viruses['org_type'] = 'virus'\n",
    "\n",
    "microbes = pl_dat.copy(deep = True)\n",
    "microbes = microbes.loc[((microbes['Tag'] == 'c_trach') | \n",
    "                         (microbes['Tag'] == 'h_pylor') |\n",
    "                         (microbes['Tag'] == 't_gond')), :]\n",
    "\n",
    "corr_name_ls = []\n",
    "for _, curr_row in tqdm(microbes.iterrows(), total = len(microbes)):\n",
    "    \n",
    "    curr_name = curr_row['Organism']\n",
    "    \n",
    "    if curr_name == 'Toxoplasma gondii':\n",
    "        corr_name_ls.append('$\\it{T. gondii}$')\n",
    "    \n",
    "    elif curr_name == 'Helicobacter pylori':\n",
    "        corr_name_ls.append('$\\it{H. pylori}$')\n",
    "\n",
    "    elif curr_name == 'Chlamydia trachomatis': \n",
    "        corr_name_ls.append('$\\it{C. trachomatis}$')   \n",
    "        \n",
    "microbes['formatted_name'] = corr_name_ls\n",
    "microbes['org_type'] = 'microbe'\n",
    "\n",
    "fin_pl = pd.concat([microbes, viruses])\n",
    "\n",
    "rep = fin_pl.loc[fin_pl['rep_stat'] == 'replicated', :]"
   ]
  },
  {
   "cell_type": "markdown",
   "metadata": {},
   "source": [
    "# Heatmap: ICD Block vs Org"
   ]
  },
  {
   "cell_type": "code",
   "execution_count": null,
   "metadata": {
    "ExecuteTime": {
     "end_time": "2023-09-05T18:29:45.824677Z",
     "start_time": "2023-09-05T18:29:45.615695Z"
    },
    "code_folding": [
     6
    ]
   },
   "outputs": [],
   "source": [
    "# Also, feel like I'm codinfg in circles\n",
    "# Probably is a one-liner to do this with pandas but my brain is fried\n",
    "uniq_icds = rep.loc[:, 'icd_descr'].unique().tolist()\n",
    "uniq_orgs = rep.loc[:, 'org'].unique().tolist()\n",
    "\n",
    "\n",
    "order_ls = []\n",
    "for curr_org in tqdm(uniq_orgs):\n",
    "    curr_org_total = 0\n",
    "    for curr_icd in uniq_icds:\n",
    "        \n",
    "        curr_dat = rep.loc[((rep['org'] == curr_org) & (rep['icd_descr'] == curr_icd)), 'count']\n",
    "        \n",
    "        if len(curr_dat) > 0:\n",
    "            curr_val = curr_dat.values.tolist()[0]\n",
    "        \n",
    "            if curr_val > 0:\n",
    "                curr_org_total = curr_org_total + 1\n",
    "            \n",
    "    \n",
    "    order_ls.append([curr_org, curr_org_total])\n",
    "    \n",
    "    \n",
    "order_df = pd.DataFrame(order_ls, columns = ['org', 'tot_icd_blocks'])\n",
    "order_df = order_df.sort_values('tot_icd_blocks', ascending = False)\n",
    "\n",
    "ordered_org_ls = order_df['org'].tolist()\n",
    "\n",
    "fin_rep = pd.DataFrame(columns = rep.columns)\n",
    "for curr_org in tqdm(ordered_org_ls):\n",
    "    curr_dat = rep.loc[rep['org'] == curr_org, :]\n",
    "    fin_rep = pd.concat([fin_rep, curr_dat], axis = 0)\n",
    "    \n",
    "    \n",
    "rep = fin_rep.copy(deep = True)\n",
    "\n",
    "new_order = pd.DataFrame(list(enumerate(rep.loc[:, 'org'].unique().tolist())), columns = ['enum_number', 'org'])\n",
    "new_order = new_order.merge(fin_rep.loc[:, ['org', 'formatted_name']], how = 'left',\n",
    "                            on = 'org')\n",
    "new_order = new_order.drop('org', axis = 1)\n",
    "new_order = new_order.drop_duplicates()"
   ]
  },
  {
   "cell_type": "code",
   "execution_count": null,
   "metadata": {
    "ExecuteTime": {
     "end_time": "2023-09-05T18:29:47.398947Z",
     "start_time": "2023-09-05T18:29:45.826677Z"
    },
    "code_folding": [
     19
    ],
    "scrolled": false
   },
   "outputs": [],
   "source": [
    "# plot\n",
    "from matplotlib import gridspec\n",
    "\n",
    "ALPHA = 1\n",
    "\n",
    "rep_piv = rep.pivot(index = 'formatted_name', columns = 'icd_descr', values = 'count')\n",
    "rep_piv = rep_piv.fillna(0)\n",
    "rep_piv = rep_piv.astype(int)\n",
    "rep_piv = rep_piv.merge(new_order, left_index = True, right_on = 'formatted_name', how = 'left')\n",
    "rep_piv = rep_piv.set_index('formatted_name')\n",
    "rep_piv = rep_piv.sort_values('enum_number')\n",
    "rep_piv.columns.name = 'icd_descr'\n",
    "rep_piv = rep_piv.drop('enum_number', axis = 1)\n",
    "\n",
    "rep_piv_str = pd.DataFrame('', columns = rep_piv.columns, index = rep_piv.index)\n",
    "\n",
    "rep_piv_combos = rep_piv_str.stack().reset_index().loc[:, \n",
    "                                           ['formatted_name', 'icd_descr']].values.tolist()\n",
    "\n",
    "for curr_org, curr_dis in tqdm(rep_piv_combos):\n",
    "    ret = rep.loc[((rep['formatted_name'] == curr_org) &\n",
    "         (rep['icd_descr'] == curr_dis)), :]\n",
    "\n",
    "    if len(ret) == 0:\n",
    "        rep_piv_str.loc[curr_org, curr_dis] = '0'\n",
    "\n",
    "    else:\n",
    "        curr_risk = ret['risk_cnt'].sum()\n",
    "        curr_prot = ret['protect_cnt'].sum()\n",
    "        curr_tot  = ret['count'].sum()\n",
    "\n",
    "\n",
    "        rep_piv_str.loc[curr_org, curr_dis] = f'{curr_tot}\\n[{curr_prot}|{curr_risk}]'\n",
    "\n",
    "\n",
    "fig = plt.figure(figsize=(15, 15), facecolor = 'white')\n",
    "gs = gridspec.GridSpec(nrows = 1, ncols = 19)\n",
    "\n",
    "heat_ax = fig.add_subplot(gs[:, :])\n",
    "\n",
    "sns.heatmap(data = rep_piv, cmap = 'flare', mask = (rep_piv == 0),\n",
    "               annot = rep_piv_str, fmt = '',\n",
    "               linewidths = 2, linecolor = (0, 0, 0, ALPHA),\n",
    "               vmin = 1, ax = heat_ax, cbar = False, annot_kws={'size': 15})\n",
    "\n",
    "heat_ax.set_ylabel('')\n",
    "heat_ax.set_xlabel('')\n",
    "\n",
    "\n",
    "\n",
    "LEGEND_X = 1.25\n",
    "LEGEND_Y = -0.5\n",
    "LEGEND_TEXT = 'Replicated Results\\n[Protective | Risk]'\n",
    "\n",
    "LEGEND_FONT = {\n",
    "        'family': 'DejaVu Sans',\n",
    "        'color':  'black',\n",
    "        'weight': 'normal',\n",
    "        'size': 15,\n",
    "}\n",
    "\n",
    "LEGEND_BOX = {\n",
    "                'boxstyle' : 'square',\n",
    "                'fc' : 'white',\n",
    "                'ec' : 'black'\n",
    "}\n",
    "\n",
    "heat_ax.text(x = LEGEND_X, \n",
    "             y = LEGEND_Y, \n",
    "             s = LEGEND_TEXT,\n",
    "             fontdict = LEGEND_FONT,\n",
    "             ha = 'center', va = 'center'),\n",
    "             #bbox = LEGEND_BOX)\n"
   ]
  },
  {
   "cell_type": "code",
   "execution_count": null,
   "metadata": {
    "ExecuteTime": {
     "end_time": "2023-09-05T18:29:48.461040Z",
     "start_time": "2023-09-05T18:29:47.400942Z"
    }
   },
   "outputs": [],
   "source": [
    "out_dir = '../manuscript/figures/supp_fig_4'\n",
    "fn = f\"{out_dir}/supp_fig_4.pdf\"\n",
    "fig.savefig(fn, format = 'pdf', dpi = 600, bbox_inches=\"tight\")"
   ]
  }
 ],
 "metadata": {
  "kernelspec": {
   "display_name": "Python 3 (ipykernel)",
   "language": "python",
   "name": "python3"
  },
  "language_info": {
   "codemirror_mode": {
    "name": "ipython",
    "version": 3
   },
   "file_extension": ".py",
   "mimetype": "text/x-python",
   "name": "python",
   "nbconvert_exporter": "python",
   "pygments_lexer": "ipython3",
   "version": "3.10.4"
  },
  "notify_time": "10",
  "toc": {
   "base_numbering": 1,
   "nav_menu": {},
   "number_sections": true,
   "sideBar": false,
   "skip_h1_title": false,
   "title_cell": "Table of Contents",
   "title_sidebar": "Contents",
   "toc_cell": false,
   "toc_position": {},
   "toc_section_display": true,
   "toc_window_display": false
  },
  "varInspector": {
   "cols": {
    "lenName": 16,
    "lenType": 16,
    "lenVar": 40
   },
   "kernels_config": {
    "python": {
     "delete_cmd_postfix": "",
     "delete_cmd_prefix": "del ",
     "library": "var_list.py",
     "varRefreshCmd": "print(var_dic_list())"
    },
    "r": {
     "delete_cmd_postfix": ") ",
     "delete_cmd_prefix": "rm(",
     "library": "var_list.r",
     "varRefreshCmd": "cat(var_dic_list()) "
    }
   },
   "types_to_exclude": [
    "module",
    "function",
    "builtin_function_or_method",
    "instance",
    "_Feature"
   ],
   "window_display": false
  }
 },
 "nbformat": 4,
 "nbformat_minor": 4
}
