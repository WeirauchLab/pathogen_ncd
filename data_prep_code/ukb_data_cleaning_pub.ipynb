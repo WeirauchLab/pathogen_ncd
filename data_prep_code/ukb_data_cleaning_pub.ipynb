{
 "cells": [
  {
   "cell_type": "markdown",
   "metadata": {},
   "source": [
    "# Load Libraries"
   ]
  },
  {
   "cell_type": "code",
   "execution_count": null,
   "metadata": {
    "ExecuteTime": {
     "end_time": "2023-08-22T15:00:29.139496Z",
     "start_time": "2023-08-22T15:00:23.940802Z"
    },
    "code_folding": []
   },
   "outputs": [],
   "source": [
    "# Data manipulation\n",
    "import numpy as np\n",
    "import pandas as pd\n",
    "\n",
    "# Data science\n",
    "import math\n",
    "import scipy.stats as stats\n",
    "from sklearn.experimental import enable_iterative_imputer\n",
    "from sklearn.impute import IterativeImputer\n",
    "from statsmodels.stats.multitest import multipletests as mt\n",
    "\n",
    "# Plots\n",
    "import matplotlib as mpl\n",
    "import seaborn as sns\n",
    "import matplotlib.pyplot as plt\n",
    "\n",
    "# Working with dates\n",
    "from datetime import datetime\n",
    "from datetime import date\n",
    "import dateutil\n",
    "\n",
    "# Looping  progress\n",
    "from tqdm.notebook import tqdm\n",
    "\n",
    "# Reg expressions\n",
    "import re\n",
    "\n",
    "# Pretty table printing\n",
    "import tabulate\n",
    "\n",
    "# Misc libraries\n",
    "from IPython.display import display, HTML\n",
    "import os\n",
    "\n",
    "# Set seaborn figure size, font size, and style\n",
    "sns.set(rc={'figure.figsize':(11.7,8.27)})\n",
    "sns.set(font_scale=1.5)\n",
    "sns.set_style(\"white\")\n",
    "\n",
    "# Set Pandas options so we can see our entire dataframe\n",
    "pd.options.display.max_rows = 10000\n",
    "pd.options.display.max_columns = 10000\n",
    "pd.options.display.max_colwidth = None\n",
    "\n",
    "# Print our versions of this packages, this allows us to make sure\n",
    "# we have the working versions we need. \n",
    "print(f\"Pandas version: {pd.__version__}\")"
   ]
  },
  {
   "cell_type": "code",
   "execution_count": null,
   "metadata": {
    "ExecuteTime": {
     "end_time": "2023-08-22T15:00:29.220671Z",
     "start_time": "2023-08-22T15:00:29.213612Z"
    }
   },
   "outputs": [],
   "source": [
    "# Set our work dir, all paths used will be relative to this directory.\n",
    "os.chdir(\"/data/pathogen_ncd\")\n",
    "\n",
    "UKB_DAT_HOME = \"/data/pathogen_ncd\""
   ]
  },
  {
   "cell_type": "markdown",
   "metadata": {
    "heading_collapsed": true
   },
   "source": [
    "# Antibody Data Processing"
   ]
  },
  {
   "cell_type": "code",
   "execution_count": null,
   "metadata": {
    "ExecuteTime": {
     "end_time": "2023-01-10T16:11:42.708205Z",
     "start_time": "2023-01-10T16:11:42.696176Z"
    },
    "hidden": true
   },
   "outputs": [],
   "source": [
    "# Note that antibody titer data may be referred to as viral\n",
    "# or antigen as well as antibody, but I've tried to update\n",
    "# references to use the more correct terminilogy of antibody."
   ]
  },
  {
   "cell_type": "code",
   "execution_count": null,
   "metadata": {
    "ExecuteTime": {
     "end_time": "2023-08-21T14:17:37.115487Z",
     "start_time": "2023-08-21T14:17:35.360065Z"
    },
    "code_folding": [],
    "hidden": true
   },
   "outputs": [],
   "source": [
    "# Read in raw antibody data, swap the UKB column names out\n",
    "# for friendlier names\n",
    "#    Apostrophe from Kaposi's was removed\n",
    "# Change the pat id to an int and set it as index\n",
    "# antibody_titers_raw.tsv is a matrix with a header row listing antibody IDs,\n",
    "# and an initial column representing UKB patient IDs, and then each cell\n",
    "# represents the Ab titer value as identified by that column header for \n",
    "# that row's patient.\n",
    "# Dimensions: [502,422 x 91]\n",
    "# Example:\n",
    "# Pat ID   HSV-1 IgG    HSV-2 IgG ...\n",
    "# 0001\n",
    "# 0002        54           67\n",
    "# 0003 \n",
    "\n",
    "dat = pd.read_csv('other/antibody_titers_raw.tsv', sep = '\\t')\n",
    "dat = dat.rename(columns = {\n",
    "    '23000-0.0' : '1gG antigen for Herpes Simplex virus-1_init',\n",
    "    '23000-1.0' : '1gG antigen for Herpes Simplex virus-1_sec',\n",
    "    '23001-0.0' : '2mgG unique antigen for Herpes Simplex virus-2_init',\n",
    "    '23001-1.0' : '2mgG unique antigen for Herpes Simplex virus-2_sec',\n",
    "    '23002-0.0' : 'gE / gI antigen for Varicella Zoster Virus_init',\n",
    "    '23002-1.0' : 'gE / gI antigen for Varicella Zoster Virus_sec',\n",
    "    '23003-0.0' : 'VCA p18 antigen for Epstein-Barr Virus_init',\n",
    "    '23003-1.0' : 'VCA p18 antigen for Epstein-Barr Virus_sec',\n",
    "    '23004-0.0' : 'EBNA-1 antigen for Epstein-Barr Virus_init',\n",
    "    '23004-1.0' : 'EBNA-1 antigen for Epstein-Barr Virus_sec',\n",
    "    '23005-0.0' : 'ZEBRA antigen for Epstein-Barr Virus_init',\n",
    "    '23005-1.0' : 'ZEBRA antigen for Epstein-Barr Virus_sec',\n",
    "    '23006-0.0' : 'EA-D antigen for Epstein-Barr Virus_init',\n",
    "    '23006-1.0' : 'EA-D antigen for Epstein-Barr Virus_sec',\n",
    "    '23007-0.0' : 'pp150 Nter antigen for Human Cytomegalovirus_init',\n",
    "    '23007-1.0' : 'pp150 Nter antigen for Human Cytomegalovirus_sec',\n",
    "    '23008-0.0' : 'pp 52 antigen for Human Cytomegalovirus_init',\n",
    "    '23008-1.0' : 'pp 52 antigen for Human Cytomegalovirus_sec',\n",
    "    '23009-0.0' : 'pp 28 antigen for Human Cytomegalovirus_init',\n",
    "    '23009-1.0' : 'pp 28 antigen for Human Cytomegalovirus_sec',\n",
    "    '23010-0.0' : 'IE1A antigen for Human Herpesvirus-6_init',\n",
    "    '23010-1.0' : 'IE1A antigen for Human Herpesvirus-6_sec',\n",
    "    '23011-0.0' : 'IE1B antigen for Human Herpesvirus-6_init',\n",
    "    '23011-1.0' : 'IE1B antigen for Human Herpesvirus-6_sec',\n",
    "    '23012-0.0' : 'p101 k antigen for Human Herpesvirus-6_init',\n",
    "    '23012-1.0' : 'p101 k antigen for Human Herpesvirus-6_sec',\n",
    "    '23013-0.0' : 'U14 antigen for Human Herpesvirus-7_init',\n",
    "    '23013-1.0' : 'U14 antigen for Human Herpesvirus-7_sec',\n",
    "    '23014-0.0' : 'LANA antigen for Kaposis Sarcoma-Associated Herpesvirus_init',\n",
    "    '23014-1.0' : 'LANA antigen for Kaposis Sarcoma-Associated Herpesvirus_sec',\n",
    "    '23015-0.0' : 'K8.1 antigen for Kaposis Sarcoma-Associated Herpesvirus_init',\n",
    "    '23015-1.0' : 'K8.1 antigen for Kaposis Sarcoma-Associated Herpesvirus_sec',\n",
    "    '23016-0.0' : 'HBc antigen for Hepatitis B Virus_init',\n",
    "    '23016-1.0' : 'HBc antigen for Hepatitis B Virus_sec',\n",
    "    '23017-0.0' : 'HBe antigen for Hepatitis B Virus_init',\n",
    "    '23017-1.0' : 'HBe antigen for Hepatitis B Virus_sec',\n",
    "    '23018-0.0' : 'Core antigen for Hepatitis C Virus_init',\n",
    "    '23018-1.0' : 'Core antigen for Hepatitis C Virus_sec',\n",
    "    '23019-0.0' : 'NS3 antigen for Hepatitis C Virus_init',\n",
    "    '23019-1.0' : 'NS3 antigen for Hepatitis C Virus_sec',\n",
    "    '23020-0.0' : 'p22 antigen for Toxoplasma gondii_init',\n",
    "    '23020-1.0' : 'p22 antigen for Toxoplasma gondii_sec',\n",
    "    '23021-0.0' : 'sag1 antigen for Toxoplasma gondii_init',\n",
    "    '23021-1.0' : 'sag1 antigen for Toxoplasma gondii_sec',\n",
    "    '23022-0.0' : 'HTLV-1 gag antigen for Human T-Lymphotropic Virus 1_init',\n",
    "    '23022-1.0' : 'HTLV-1 gag antigen for Human T-Lymphotropic Virus 1_sec',\n",
    "    '23023-0.0' : 'HTLV-1 env antigen for Human T-Lymphotropic Virus 1_init',\n",
    "    '23023-1.0' : 'HTLV-1 env antigen for Human T-Lymphotropic Virus 1_sec',\n",
    "    '23024-0.0' : 'HIV-1 gag antigen for Human Immunodeficiency Virus_init',\n",
    "    '23024-1.0' : 'HIV-1 gag antigen for Human Immunodeficiency Virus_sec',\n",
    "    '23025-0.0' : 'HIV-1 env antigen for Human Immunodeficiency Virus_init',\n",
    "    '23025-1.0' : 'HIV-1 env antigen for Human Immunodeficiency Virus_sec',\n",
    "    '23026-0.0' : 'BK VP1 antigen for Human Polyomavirus BKV_init',\n",
    "    '23026-1.0' : 'BK VP1 antigen for Human Polyomavirus BKV_sec',\n",
    "    '23027-0.0' : 'JC VP1 antigen for Human Polyomavirus JCV_init',\n",
    "    '23027-1.0' : 'JC VP1 antigen for Human Polyomavirus JCV_sec',\n",
    "    '23028-0.0' : 'MC VP1 antigen for Merkel Cell Polyomavirus_init',\n",
    "    '23028-1.0' : 'MC VP1 antigen for Merkel Cell Polyomavirus_sec',\n",
    "    '23029-0.0' : 'L1 antigen for Human Papillomavirus type-16_init',\n",
    "    '23029-1.0' : 'L1 antigen for Human Papillomavirus type-16_sec',\n",
    "    '23030-0.0' : 'E6 antigen for Human Papillomavirus type-16_init',\n",
    "    '23030-1.0' : 'E6 antigen for Human Papillomavirus type-16_sec',\n",
    "    '23031-0.0' : 'E7 antigen for Human Papillomavirus type-16_init',\n",
    "    '23031-1.0' : 'E7 antigen for Human Papillomavirus type-16_sec',\n",
    "    '23032-0.0' : 'L1 antigen for Human Papillomavirus type-18_init',\n",
    "    '23032-1.0' : 'L1 antigen for Human Papillomavirus type-18_sec',\n",
    "    '23033-0.0' : 'momp D antigen for Chlamydia trachomatis_init',\n",
    "    '23033-1.0' : 'momp D antigen for Chlamydia trachomatis_sec',\n",
    "    '23034-0.0' : 'momp A antigen for Chlamydia trachomatis_init',\n",
    "    '23034-1.0' : 'momp A antigen for Chlamydia trachomatis_sec',\n",
    "    '23035-0.0' : 'tarp-D F1 antigen for Chlamydia trachomatis_init',\n",
    "    '23035-1.0' : 'tarp-D F1 antigen for Chlamydia trachomatis_sec',\n",
    "    '23036-0.0' : 'tarp-D F2 antigen for Chlamydia trachomatis_init',\n",
    "    '23036-1.0' : 'tarp-D F2 antigen for Chlamydia trachomatis_sec',\n",
    "    '23037-0.0' : 'PorB antigen for Chlamydia trachomatis_init',\n",
    "    '23037-1.0' : 'PorB antigen for Chlamydia trachomatis_sec',\n",
    "    '23038-0.0' : 'pGP3 antigen for Chlamydia trachomatis_init',\n",
    "    '23038-1.0' : 'pGP3 antigen for Chlamydia trachomatis_sec',\n",
    "    '23039-0.0' : 'CagA antigen for Helicobacter pylori_init',\n",
    "    '23039-1.0' : 'CagA antigen for Helicobacter pylori_sec',\n",
    "    '23040-0.0' : 'VacA antigen for Helicobacter pylori_init',\n",
    "    '23040-1.0' : 'VacA antigen for Helicobacter pylori_sec',\n",
    "    '23041-0.0' : 'OMP antigen for Helicobacter pylori_init',\n",
    "    '23041-1.0' : 'OMP antigen for Helicobacter pylori_sec',\n",
    "    '23042-0.0' : 'GroEL antigen for Helicobacter pylori_init',\n",
    "    '23042-1.0' : 'GroEL antigen for Helicobacter pylori_sec',\n",
    "    '23043-0.0' : 'Catalase antigen for Helicobacter pylori_init',\n",
    "    '23043-1.0' : 'Catalase antigen for Helicobacter pylori_sec',\n",
    "    '23044-0.0' : 'UreA antigen for Helicobacter pylori_init',\n",
    "    '23044-1.0' : 'UreA antigen for Helicobacter pylori_sec'\n",
    "})\n",
    "dat.loc[:,'eid'] = dat.loc[:,'eid'].astype(int)\n",
    "dat = dat.set_index('eid')"
   ]
  },
  {
   "cell_type": "markdown",
   "metadata": {
    "hidden": true
   },
   "source": [
    "## Look at the data we have"
   ]
  },
  {
   "cell_type": "code",
   "execution_count": null,
   "metadata": {
    "ExecuteTime": {
     "end_time": "2023-08-21T14:20:00.787904Z",
     "start_time": "2023-08-21T14:20:00.484404Z"
    },
    "hidden": true,
    "scrolled": true
   },
   "outputs": [],
   "source": [
    "# get number of NAs in each column\n",
    "print(\"Nan in each columns\" , dat.isnull().sum().value_counts(), sep='\\n')\n",
    "print(\"=============================================================\")\n",
    "print(\"Nan in each columns\" , dat.isnull().sum(), sep='\\n')"
   ]
  },
  {
   "cell_type": "code",
   "execution_count": null,
   "metadata": {
    "ExecuteTime": {
     "end_time": "2023-08-21T14:23:12.449426Z",
     "start_time": "2023-08-21T14:23:12.377984Z"
    },
    "hidden": true
   },
   "outputs": [],
   "source": [
    "# Select only the people that don't have NaNs for Ab \n",
    "# data (using HSV1 IgG as a simple indicator)\n",
    "ant_dat = dat.loc[dat['1gG antigen for Herpes Simplex virus-1_init'].notnull()]"
   ]
  },
  {
   "cell_type": "code",
   "execution_count": null,
   "metadata": {
    "ExecuteTime": {
     "end_time": "2023-08-21T14:23:14.448644Z",
     "start_time": "2023-08-21T14:23:14.435532Z"
    },
    "hidden": true
   },
   "outputs": [],
   "source": [
    "# Expected output from cell:\n",
    "# Before Removing 'date': 90\n",
    "# After Removing 'date': 90\n",
    "# Before Removing '_sec': 90\n",
    "# After Removing '_sec': 45\n",
    "# Before Removing 'Antigen assay': 45\n",
    "# After Removing 'Antigen assay': 45\n",
    "\n",
    "# Remove extra columns we don't need for now.\n",
    "print(f\"Before Removing 'date': {ant_dat.shape[1]}\")\n",
    "ant_dat = ant_dat[ant_dat.columns.drop(list(ant_dat.filter(regex='date')))]\n",
    "print(f\"After Removing 'date': {ant_dat.shape[1]}\")\n",
    "\n",
    "print(f\"Before Removing '_sec': {ant_dat.shape[1]}\")\n",
    "ant_dat = ant_dat[ant_dat.columns.drop(list(ant_dat.filter(regex='_sec')))]\n",
    "print(f\"After Removing '_sec': {ant_dat.shape[1]}\")\n",
    "\n",
    "print(f\"Before Removing 'Antigen assay': {ant_dat.shape[1]}\")\n",
    "ant_dat = ant_dat[ant_dat.columns.drop(list(ant_dat.filter(regex='Antigen assay')))]\n",
    "print(f\"After Removing 'Antigen assay': {ant_dat.shape[1]}\")"
   ]
  },
  {
   "cell_type": "code",
   "execution_count": null,
   "metadata": {
    "ExecuteTime": {
     "end_time": "2023-08-21T14:25:15.198515Z",
     "start_time": "2023-08-21T14:25:15.188540Z"
    },
    "hidden": true,
    "scrolled": true
   },
   "outputs": [],
   "source": [
    "# get number of NAs in each column\n",
    "# All should be 0 now except H. pylori CagA, which was only measured\n",
    "# for half of the participants (see Mentzer et al. paper)\n",
    "print(\"Nan in each columns\" , ant_dat.isnull().sum().value_counts(), sep='\\n')\n",
    "print(\"=============================================================\")\n",
    "print(\"Nan in each columns\" , ant_dat.isnull().sum(), sep='\\n')"
   ]
  },
  {
   "cell_type": "markdown",
   "metadata": {
    "hidden": true
   },
   "source": [
    "## Now write out cleaned results!"
   ]
  },
  {
   "cell_type": "code",
   "execution_count": null,
   "metadata": {
    "ExecuteTime": {
     "end_time": "2023-01-10T16:11:45.179106Z",
     "start_time": "2023-01-10T16:11:44.882779Z"
    },
    "hidden": true
   },
   "outputs": [],
   "source": [
    "# Outputting a matrix of the same format as the input\n",
    "# but limited to only rows for patients that have Ab results\n",
    "# and the columns for each initial Ab measurement.\n",
    "# Dimensions: [9,429 x 46]\n",
    "# Example:\n",
    "# Pat ID   HSV-1 IgG    HSV-2 IgG ...\n",
    "# 0002        54           67\n",
    "ant_dat.to_csv('./procd/clean_antigen_data.csv', index = True)"
   ]
  },
  {
   "cell_type": "code",
   "execution_count": null,
   "metadata": {
    "ExecuteTime": {
     "end_time": "2023-08-21T14:26:30.598623Z",
     "start_time": "2023-08-21T14:26:30.593491Z"
    },
    "hidden": true
   },
   "outputs": [],
   "source": [
    "# Get list of particpant IDs for people with antibody data, \n",
    "# otherwise we won't read their data in.\n",
    "ant_peeps = ant_dat.index.to_list()"
   ]
  },
  {
   "cell_type": "markdown",
   "metadata": {
    "hidden": true
   },
   "source": [
    "## Remove withdrawn participants"
   ]
  },
  {
   "cell_type": "code",
   "execution_count": null,
   "metadata": {
    "code_folding": [],
    "hidden": true
   },
   "outputs": [],
   "source": [
    "# Read in latest file from UKB\n",
    "pats_to_rm_fn = f'{UKB_DAT_HOME}/other/participants_to_remove_as_of_05_03_23.csv'\n",
    "pats_to_rm = pd.read_csv(pats_to_rm_fn, names = ['eid'])\n",
    "pats_to_rm_ls = pats_to_rm['eid'].tolist()\n",
    "\n",
    "# 161 \n",
    "print(len(pats_to_rm_ls))"
   ]
  },
  {
   "cell_type": "code",
   "execution_count": null,
   "metadata": {
    "ExecuteTime": {
     "end_time": "2023-08-21T19:14:39.695459Z",
     "start_time": "2023-08-21T19:14:39.476484Z"
    },
    "code_folding": [],
    "hidden": true
   },
   "outputs": [],
   "source": [
    "# Read files back in\n",
    "ant_dat = pd.read_csv('./procd/clean_antigen_data.csv')\n",
    "\n",
    "# Most of the data was pre-cleaned, so we only have 1 person in data\n",
    "# here that we need to remove\n",
    "# Dimensions: [9430 x 46]\n",
    "print(ant_dat.shape)\n",
    "\n",
    "\n",
    "# Remove them\n",
    "ant_dat = ant_dat.loc[~ant_dat['eid'].isin(pats_to_rm_ls), :]\n",
    "\n",
    "# Dimensions: [9429 x 46]\n",
    "print(ant_dat.shape)\n",
    "\n",
    "# Write the updated file out\n",
    "ant_dat.to_csv('./procd/clean_antigen_data.csv')"
   ]
  },
  {
   "cell_type": "markdown",
   "metadata": {
    "heading_collapsed": true
   },
   "source": [
    "# Covariates"
   ]
  },
  {
   "cell_type": "code",
   "execution_count": null,
   "metadata": {
    "ExecuteTime": {
     "end_time": "2023-01-10T16:11:45.198878Z",
     "start_time": "2023-01-10T16:11:45.187046Z"
    },
    "hidden": true
   },
   "outputs": [],
   "source": [
    "# Inspired by the Mentzer et al. paper [https://www.nature.com/articles/s41467-022-29307-3]\n",
    "# I will be looking for association between antibodies and the following possible covariates:\n",
    "#     sex [Field 31]\n",
    "#     age by decade [Field 21003] -> convert to decade\n",
    "#     ethnicity [Field 21000] ( There is a genetic ethnic grouping but it's just 409K entries for caucasian)\n",
    "#         Divided into categories of ‘White’, ‘Asian’, ‘Black’, or ‘Other’ (if not one of the other three)\n",
    "#     townsend deprivation index (TDI) quintiles [Field 189]\n",
    "#     household size [field 709]\n",
    "#          Lives alone, 2, 3, 4, 5, or more\n",
    "#     tobacco smoking status [field 20116]\n",
    "#          Current, previous, or never\n",
    "#     alcohol drinking status [field 20117]\n",
    "#          Current, previous, or never\n",
    "#     lifetime number of sexual partners  [Field 2149] (LSP in cats of 0, 1, 2-4, 5-10, > 10)\n",
    "#         LSP = 0 needs to be pulled from [Field 2139] == -2\n",
    "#     Self-report of ever same-sex intercourse (sameSI) [Field 2159]\n",
    "#     age in days "
   ]
  },
  {
   "cell_type": "markdown",
   "metadata": {
    "hidden": true
   },
   "source": [
    "## Load back in Ab data people list so we can filter"
   ]
  },
  {
   "cell_type": "code",
   "execution_count": null,
   "metadata": {
    "ExecuteTime": {
     "end_time": "2023-01-11T13:36:51.812928Z",
     "start_time": "2023-01-11T13:36:51.736358Z"
    },
    "hidden": true
   },
   "outputs": [],
   "source": [
    "ant_dat = pd.read_csv('./procd/clean_antigen_data.csv', \n",
    "                      sep = ',')\n",
    "\n",
    "ant_peeps = ant_dat['eid'].tolist()\n",
    "\n",
    "# 9,429\n",
    "len(ant_peeps)"
   ]
  },
  {
   "cell_type": "markdown",
   "metadata": {
    "hidden": true
   },
   "source": [
    "## Read in file"
   ]
  },
  {
   "cell_type": "code",
   "execution_count": null,
   "metadata": {
    "ExecuteTime": {
     "end_time": "2023-08-21T14:30:31.790530Z",
     "start_time": "2023-08-21T14:30:31.133014Z"
    },
    "code_folding": [
     20
    ],
    "hidden": true
   },
   "outputs": [],
   "source": [
    "# raw_covars.txt is a matrix with a header row listing UKB column IDs that\n",
    "# will map to a covariate, and an initial column representing UKB patient IDs, \n",
    "# and then each cell just lists the recorded value for that person.\n",
    "# Dimensions: [502,522 x 13]\n",
    "# Example:\n",
    "# Pat ID   f.01           f.02 ...\n",
    "# 0001      2              25\n",
    "# 0002      7              29\n",
    "# 0003      4              21\n",
    "\n",
    "# read in covariate data file\n",
    "cov = pd.read_csv('./procd/new_raw_covars.txt', sep = '\\t')\n",
    "\n",
    "# Translate our column names to english \n",
    "cov = cov.rename(columns= {'f.eid' : 'eid',\n",
    "                           '31-0.0' : 'sex', \n",
    "                           '34-0.0' : 'birth_year',\n",
    "                           '52-0.0' : 'birth_month',\n",
    "                           '189-0.0' : 'tdi_raw', \n",
    "                           '709-0.0' : 'num_in_house', \n",
    "                           '2139-0.0' : 'age_at_sex',\n",
    "                           '2149-0.0' : 'num_sex_part',\n",
    "                           '2159-0.0' : 'same_sex',\n",
    "                           '20116-0.0' : 'tobac',\n",
    "                           '20117-0.0' : 'alc', \n",
    "                           '21000-0.0' : 'ethnic',\n",
    "                           '53-0.0' : 'date_of_first',\n",
    "                           '21001-0.0' : 'bmi', \n",
    "                           '40000-0.0' : 'death_date_0',\n",
    "                           '40000-1.0' : 'death_date_1'})\n",
    "\n",
    "# Set the df index to the patient ID\n",
    "cov = cov.set_index('eid')"
   ]
  },
  {
   "cell_type": "markdown",
   "metadata": {
    "hidden": true
   },
   "source": [
    "## Limit to only our people with antibody data"
   ]
  },
  {
   "cell_type": "code",
   "execution_count": null,
   "metadata": {
    "ExecuteTime": {
     "end_time": "2023-08-21T14:31:50.563959Z",
     "start_time": "2023-08-21T14:31:50.454212Z"
    },
    "hidden": true
   },
   "outputs": [],
   "source": [
    "#502,422\n",
    "print(len(cov))\n",
    "\n",
    "cov = cov.loc[ant_peeps,:]\n",
    "\n",
    "# 9,429\n",
    "print(len(cov))"
   ]
  },
  {
   "cell_type": "code",
   "execution_count": null,
   "metadata": {
    "ExecuteTime": {
     "end_time": "2023-08-21T14:31:55.826343Z",
     "start_time": "2023-08-21T14:31:55.814730Z"
    },
    "hidden": true,
    "scrolled": true
   },
   "outputs": [],
   "source": [
    "# Nan in each columns\n",
    "# sex                 0\n",
    "# birth_year          0\n",
    "# birth_month         0\n",
    "# date_of_first       0\n",
    "# tdi_raw             8\n",
    "# num_in_house       24\n",
    "# age_at_sex        821\n",
    "# num_sex_part      909\n",
    "# same_sex          909\n",
    "# tobac               6\n",
    "# alc                 6\n",
    "# ethnic              6\n",
    "# bmi                32\n",
    "# death_date_0     8760\n",
    "# death_date_1     9428\n",
    "# get number of NAs in each column\n",
    "print(\"Nan in each columns\" , cov.isnull().sum().value_counts(), sep='\\n')\n",
    "print(\"=============================================================\")\n",
    "print(\"Nan in each columns\" , cov.isnull().sum(), sep='\\n')"
   ]
  },
  {
   "cell_type": "markdown",
   "metadata": {
    "hidden": true
   },
   "source": [
    "## Convert Sex to int"
   ]
  },
  {
   "cell_type": "code",
   "execution_count": null,
   "metadata": {
    "ExecuteTime": {
     "end_time": "2023-08-21T14:32:26.730523Z",
     "start_time": "2023-08-21T14:32:26.724326Z"
    },
    "hidden": true
   },
   "outputs": [],
   "source": [
    "cov['sex'] = cov['sex'].astype(int)"
   ]
  },
  {
   "cell_type": "code",
   "execution_count": null,
   "metadata": {
    "ExecuteTime": {
     "end_time": "2023-08-21T14:32:47.480312Z",
     "start_time": "2023-08-21T14:32:47.472365Z"
    },
    "hidden": true
   },
   "outputs": [],
   "source": [
    "# 0    5276\n",
    "# 1    4153\n",
    "cov['sex'].value_counts(dropna = False)"
   ]
  },
  {
   "cell_type": "markdown",
   "metadata": {
    "hidden": true
   },
   "source": [
    "## Calculate current age"
   ]
  },
  {
   "cell_type": "code",
   "execution_count": null,
   "metadata": {
    "ExecuteTime": {
     "end_time": "2023-01-10T16:13:24.992898Z",
     "start_time": "2023-01-10T16:11:36.689Z"
    },
    "hidden": true
   },
   "outputs": [],
   "source": [
    "# Diagnoses:\n",
    "#            - First occurrences released Sept 2019 (data from summer 2019)\n",
    "#\n",
    "# Titers:\n",
    "#            - Blood samples for 9,429 taken between 2006-2010,\n",
    "#                2012-2013 for 537 but I think these might be the follow-up assessment.\n",
    "#\n",
    "#            - Processing of assays on 07/12 or 07/21 of 2016\n",
    "#\n",
    "# Covs:\n",
    "#            - Our data release 5 was pulled Oct 13 2021\n"
   ]
  },
  {
   "cell_type": "code",
   "execution_count": null,
   "metadata": {
    "ExecuteTime": {
     "end_time": "2023-08-21T14:35:18.520752Z",
     "start_time": "2023-08-21T14:35:12.548204Z"
    },
    "code_folding": [
     25
    ],
    "hidden": true
   },
   "outputs": [],
   "source": [
    "import datetime as dt\n",
    "from datetime import datetime\n",
    "\n",
    "# Don't want the code to update everytime I run it, so setting date\n",
    "# instead of using dt.date.today() command.\n",
    "# Using the first occurrences release date now to calculate age if participant\n",
    "# is not dead, otherwise, if dead I'll use their death age.\n",
    "today_str = \"2019-09-01\"\n",
    "cov['today'] = pd.to_datetime(today_str)\n",
    "\n",
    "# Month needs to be 0-padded for date math to work\n",
    "cov.loc[:, 'birth_month'] = cov.loc[:, 'birth_month'].astype(int).astype(str).str.zfill(2)\n",
    "cov.loc[:, 'birth_year'] = cov.loc[:, 'birth_year'].astype(int)\n",
    "\n",
    "# Make everyone born on the first day of the respective month\n",
    "cov['bday_str'] = cov['birth_year'].astype(str) + '-' + cov['birth_month'].astype(str) + '-01'\n",
    "cov['bday'] = pd.to_datetime(cov['bday_str'])\n",
    "\n",
    "\n",
    "# Loop calculating age for each participant taking into account if they are \n",
    "# listed as dead or not\n",
    "age_ls = []\n",
    "for eid, curr_row in tqdm(cov.iterrows(), total = len(cov)):\n",
    "    death_ls = list(set(curr_row[['death_date_0', 'death_date_1']].dropna().tolist()))\n",
    "    \n",
    "    # Get date time rep of their bday (month and year)\n",
    "    curr_bday = datetime.strptime(curr_row['bday_str'], '%Y-%m-%d')\n",
    "\n",
    "    # Boolean to track if there was a death\n",
    "    is_dead = False\n",
    "    \n",
    "    # No death dates, so still alive\n",
    "    if len(death_ls) == 0:  \n",
    "        \n",
    "        # If alive, calculate based off first occurence disease data release (09/2019)\n",
    "        today_dt = datetime.strptime(today_str, '%Y-%m-%d')\n",
    "\n",
    "        curr_age_days = today_dt - curr_bday\n",
    "        curr_age_yrs = curr_age_days.days / 365.25\n",
    "\n",
    "    \n",
    "    \n",
    "    # Participant has death date\n",
    "    if len(death_ls) > 0:\n",
    "\n",
    "        is_dead = True\n",
    "        \n",
    "        # Date of death\n",
    "        curr_death = death_ls[0]\n",
    "        \n",
    "        # If death, calculate age based off date of death\n",
    "        death_dt = datetime.strptime(curr_death, '%Y-%m-%d')\n",
    "\n",
    "        curr_age_days = death_dt - curr_bday\n",
    "        curr_age_yrs = curr_age_days.days / 365.25\n",
    "        \n",
    "        \n",
    "        \n",
    "    age_ls.append([eid, curr_age_yrs, is_dead]) \n",
    "    \n",
    "age_df = pd.DataFrame(age_ls, columns = ['eid', 'age_yrs', 'is_dead'])\n",
    "\n",
    "cov = cov.merge(age_df, how = 'left', left_index = True, right_on = 'eid')\n",
    "cov = cov.rename(columns = {'age_yrs' : 'age'})\n",
    "\n",
    "cov = cov.set_index('eid')\n",
    "\n",
    "# 67.5\n",
    "# 8.1\n",
    "# 43.8\n",
    "# 82.6\n",
    "print(round(cov['age'].mean(), 1))\n",
    "print(round(cov['age'].std(), 1))\n",
    "print(round(cov['age'].min(), 1))\n",
    "print(round(cov['age'].max(), 1))"
   ]
  },
  {
   "cell_type": "markdown",
   "metadata": {
    "hidden": true
   },
   "source": [
    "### Scale age (divide by 10)"
   ]
  },
  {
   "cell_type": "code",
   "execution_count": null,
   "metadata": {
    "ExecuteTime": {
     "end_time": "2023-08-21T14:35:45.524389Z",
     "start_time": "2023-08-21T14:35:45.518513Z"
    },
    "hidden": true
   },
   "outputs": [],
   "source": [
    "cov['s_age'] = cov['age']/10"
   ]
  },
  {
   "cell_type": "markdown",
   "metadata": {
    "ExecuteTime": {
     "end_time": "2019-10-24T16:39:17.418487Z",
     "start_time": "2019-10-24T16:39:17.415487Z"
    },
    "hidden": true
   },
   "source": [
    "## Clean up race/ethnicity data"
   ]
  },
  {
   "cell_type": "code",
   "execution_count": null,
   "metadata": {
    "ExecuteTime": {
     "end_time": "2023-08-21T14:36:24.912514Z",
     "start_time": "2023-08-21T14:36:24.887800Z"
    },
    "hidden": true
   },
   "outputs": [],
   "source": [
    "# Clean up ethnicity data\n",
    "\n",
    "# Set all NA ethnicity values to code 3 (other)\n",
    "cov['ethnic'] = cov['ethnic'].fillna(value = -3)\n",
    "cov['ethnic'] = cov['ethnic'].astype(int)\n",
    "\n",
    "# Send all base codes to their corresponding thousands version\n",
    "cov['ethnic'] = cov['ethnic'].replace({\n",
    "                    1 : 1000, 2 : 2000,\n",
    "                    3 : 3000, 4 : 4000,\n",
    "                    5 : 5000, 6 : 6000 })\n",
    "\n",
    "# And code the non-missing values:\n",
    "# 0: White\n",
    "# 1: Asian\n",
    "# 2: Black\n",
    "# 3: Other\n",
    "# Now push them all to their different final codes\n",
    "\n",
    "cov['ethnic'] = cov['ethnic'].replace({\n",
    "                    1000 : 0, 1001 : 0, 1002 : 0, 1003 : 0, \n",
    "                    2000 : 3, 2001 : 3, 2002 : 3, 2003 : 3, 2004 : 3,\n",
    "                    3000 : 1, 3001 : 1, 3002 : 1, 3003 : 1, 3004: 1,\n",
    "                    4000 : 2, 4001 : 2, 4002 : 2, 4003 : 2,\n",
    "                    -3 : 3, -1 : 3, \n",
    "                    5000 : 1, 6000 : 3})\n",
    "\n",
    "\n",
    "\n",
    "# 0    8883\n",
    "# 1     231\n",
    "# 2     140\n",
    "# 3     175\n",
    "cov['ethnic'].value_counts(dropna = False).sort_index()"
   ]
  },
  {
   "cell_type": "markdown",
   "metadata": {
    "hidden": true
   },
   "source": [
    "## Number of people in household"
   ]
  },
  {
   "cell_type": "code",
   "execution_count": null,
   "metadata": {
    "ExecuteTime": {
     "end_time": "2023-08-21T14:37:05.200958Z",
     "start_time": "2023-08-21T14:37:05.184879Z"
    },
    "hidden": true
   },
   "outputs": [],
   "source": [
    "# Deal with number of people in household data\n",
    "# Cluster into groups:\n",
    "# 1 : 1 person in house\n",
    "# 2 : 2 people in house\n",
    "# 3 : 3 people in house\n",
    "# 4 : 4 people in house\n",
    "# 5 : 5 or more people in house\n",
    "# 6 : unknown\n",
    "\n",
    "# Replace NAs with 0, our code for Unknown\n",
    "cov['num_in_house'] = cov['num_in_house'].fillna(value = -1)\n",
    "cov['num_in_house'] = cov['num_in_house'].astype(int)\n",
    "\n",
    "\n",
    "cov.loc[cov['num_in_house'] == 1,'num_in_house'] = 1\n",
    "cov.loc[cov['num_in_house'] == 2,'num_in_house'] = 2\n",
    "cov.loc[cov['num_in_house'] == 3,'num_in_house'] = 3\n",
    "cov.loc[cov['num_in_house'] == 4,'num_in_house'] = 4\n",
    "cov.loc[cov['num_in_house'] >= 5,'num_in_house'] = 5\n",
    "cov.loc[cov['num_in_house'] < 0,'num_in_house'] = 6\n",
    "\n",
    "\n",
    "# 1    1712\n",
    "# 2    4331\n",
    "# 3    1524\n",
    "# 4    1282\n",
    "# 5     514\n",
    "# 6      66\n",
    "cov['num_in_house'].value_counts(dropna=False).sort_index()"
   ]
  },
  {
   "cell_type": "markdown",
   "metadata": {
    "hidden": true
   },
   "source": [
    "## Tobacco Use"
   ]
  },
  {
   "cell_type": "code",
   "execution_count": null,
   "metadata": {
    "ExecuteTime": {
     "end_time": "2023-08-21T14:41:03.640254Z",
     "start_time": "2023-08-21T14:41:03.626799Z"
    },
    "hidden": true
   },
   "outputs": [],
   "source": [
    "# Never    0\n",
    "# Previous 1\n",
    "# Current  2\n",
    "# Unknown  3\n",
    "\n",
    "cov['tobac'] = cov['tobac'].fillna(value = 3)\n",
    "cov['tobac'] = cov['tobac'].astype(int)\n",
    "cov.loc[cov['tobac'] == -3,'tobac'] = 3\n",
    "\n",
    "\n",
    "\n",
    "# 0    5210\n",
    "# 1    3218\n",
    "# 2     949\n",
    "# 3      52\n",
    "cov['tobac'].value_counts(dropna=False).sort_index()"
   ]
  },
  {
   "cell_type": "markdown",
   "metadata": {
    "hidden": true
   },
   "source": [
    "## Alcohol Use"
   ]
  },
  {
   "cell_type": "code",
   "execution_count": null,
   "metadata": {
    "ExecuteTime": {
     "end_time": "2023-08-21T14:41:26.150903Z",
     "start_time": "2023-08-21T14:41:26.131505Z"
    },
    "hidden": true
   },
   "outputs": [],
   "source": [
    "# Never    0\n",
    "# Previous 1\n",
    "# Current  2\n",
    "# Unknown  3\n",
    "\n",
    "cov['alc'] = cov['alc'].fillna(value = 3)\n",
    "cov['alc'] = cov['alc'].astype(int)\n",
    "cov.loc[cov['alc'] == -3, 'alc'] = 3\n",
    "\n",
    "\n",
    "# 0     417\n",
    "# 1     332\n",
    "# 2    8661\n",
    "# 3      19\n",
    "cov['alc'].value_counts(dropna=False).sort_index()"
   ]
  },
  {
   "cell_type": "markdown",
   "metadata": {
    "hidden": true
   },
   "source": [
    "## Number of sex partners"
   ]
  },
  {
   "cell_type": "code",
   "execution_count": null,
   "metadata": {
    "ExecuteTime": {
     "end_time": "2023-08-21T14:42:52.086007Z",
     "start_time": "2023-08-21T14:42:52.037339Z"
    },
    "hidden": true
   },
   "outputs": [],
   "source": [
    "# Examining number of sex partners\n",
    "# Extract the people that haven't had sex from the age_at_sex column\n",
    "# if age_at_sex == -2, then num_sex_part should = 0.\n",
    "# I'm also setting those who did not know or preferred not to answer as -1, \n",
    "# so they are not confused with 0 partners.\n",
    "\n",
    "# Mapping method:\n",
    "#                       0: 0 partners \n",
    "#                       1: 1 partner\n",
    "#                       2: 2-3 partners\n",
    "#                       3: 4-5 partners\n",
    "#                       4: > 5 partners\n",
    "\n",
    "# NA\n",
    "cov['num_sex_part'] = cov['num_sex_part'].fillna(value = -3)\n",
    "\n",
    "# 0 partners\n",
    "no_sex = cov[cov['age_at_sex'] == -2.0].index.to_list()\n",
    "cov.loc[no_sex,'num_sex_part'] = 0\n",
    "\n",
    "# 1 partner\n",
    "cov.loc[cov['num_sex_part'] == 1 ,'num_sex_part'] = 1\n",
    "\n",
    "# 2-3 partners\n",
    "cov.loc[(cov['num_sex_part'] == 2) | (cov['num_sex_part'] == 3),'num_sex_part'] = 2\n",
    "\n",
    "# 4-5 partners\n",
    "cov.loc[(cov['num_sex_part'] == 4) | (cov['num_sex_part'] == 5),'num_sex_part'] = 3\n",
    "\n",
    "# More than 5 partners\n",
    "cov.loc[cov['num_sex_part'] > 5 ,'num_sex_part'] = 4\n",
    "\n",
    "# Unknown num partners\n",
    "cov.loc[cov['num_sex_part'] < 0,'num_sex_part'] = 5\n",
    "\n",
    "cov['num_sex_part'] = cov['num_sex_part'].astype(int)\n",
    "\n",
    "\n",
    "\n",
    "\n",
    "# 0      88\n",
    "# 1    2265\n",
    "# 2    1838\n",
    "# 3    1255\n",
    "# 4    2343\n",
    "# 5    1640\n",
    "cov['num_sex_part'].value_counts(dropna=False).sort_index()"
   ]
  },
  {
   "cell_type": "markdown",
   "metadata": {
    "hidden": true
   },
   "source": [
    "## Same Sex Intercourse "
   ]
  },
  {
   "cell_type": "code",
   "execution_count": null,
   "metadata": {
    "ExecuteTime": {
     "end_time": "2023-08-21T14:43:33.762719Z",
     "start_time": "2023-08-21T14:43:33.751928Z"
    },
    "hidden": true
   },
   "outputs": [],
   "source": [
    "# Finally, same sex intercourse\n",
    "# Set NAs to unknown code (2) and also set prefer not to answer (-3) and\n",
    "# whatever 3 is to unknown code (2)\n",
    "cov['same_sex'] = cov['same_sex'].fillna(value = 2)\n",
    "cov.loc[(cov['same_sex'] == -3 ) | (cov['same_sex'] == 3 ),'same_sex'] = 2\n",
    "\n",
    "cov['same_sex'] = cov['same_sex'].astype(int)\n",
    "\n",
    "\n",
    "# 0    8204\n",
    "# 1     283\n",
    "# 2     942\n",
    "cov['same_sex'].value_counts(dropna=False).sort_index()"
   ]
  },
  {
   "cell_type": "markdown",
   "metadata": {
    "hidden": true
   },
   "source": [
    "## Limit only to important columns before imputing"
   ]
  },
  {
   "cell_type": "code",
   "execution_count": null,
   "metadata": {
    "ExecuteTime": {
     "end_time": "2023-08-21T14:44:16.057087Z",
     "start_time": "2023-08-21T14:44:16.048803Z"
    },
    "hidden": true
   },
   "outputs": [],
   "source": [
    "cov['age'] = cov['s_age']\n",
    "cov = cov[['sex', 'bmi', 'age', 'ethnic', \n",
    "           'tdi_raw', 'num_in_house', 'tobac', \n",
    "           'alc', 'num_sex_part', 'same_sex',\n",
    "           'is_dead']]"
   ]
  },
  {
   "cell_type": "markdown",
   "metadata": {
    "hidden": true
   },
   "source": [
    "## Impute Missing BMI and TDI Using MICE"
   ]
  },
  {
   "cell_type": "code",
   "execution_count": null,
   "metadata": {
    "ExecuteTime": {
     "end_time": "2023-08-21T14:44:21.542349Z",
     "start_time": "2023-08-21T14:44:21.528956Z"
    },
    "hidden": true,
    "scrolled": true
   },
   "outputs": [],
   "source": [
    "# get number of NAs in each column\n",
    "\n",
    "# Nan in each columns\n",
    "# bmi             32\n",
    "# tdi_raw          8\n",
    "#  Rest are 0's\n",
    "print(\"Nan in each columns\" , cov.isnull().sum().value_counts(), sep='\\n')\n",
    "print(\"=============================================================\")\n",
    "print(\"Nan in each columns\" , cov.isnull().sum(), sep='\\n')"
   ]
  },
  {
   "cell_type": "code",
   "execution_count": null,
   "metadata": {
    "ExecuteTime": {
     "end_time": "2023-08-21T14:45:42.573471Z",
     "start_time": "2023-08-21T14:45:42.559227Z"
    },
    "hidden": true
   },
   "outputs": [],
   "source": [
    "# Make sure we are only using other covs to impute not other\n",
    "# columns we are keeping around for lateer\n",
    "cov = cov.reset_index(drop = False)\n",
    "\n",
    "addl_covs = cov.loc[:, ['eid', 'is_dead']]\n",
    "\n",
    "cov = cov.loc[:, ['eid', 'sex', 'bmi', 'age', 'ethnic', 'tdi_raw', \n",
    "            'num_in_house', 'tobac', 'alc', 'num_sex_part', 'same_sex']]\n",
    "\n",
    "cov = cov.set_index('eid')"
   ]
  },
  {
   "cell_type": "code",
   "execution_count": null,
   "metadata": {
    "ExecuteTime": {
     "end_time": "2023-08-21T14:46:17.784943Z",
     "start_time": "2023-08-21T14:46:17.265903Z"
    },
    "hidden": true
   },
   "outputs": [],
   "source": [
    "# Import Iterative Imputer\n",
    "from sklearn.impute import IterativeImputer\n",
    "\n",
    "# Create the imputer\n",
    "MICE = IterativeImputer()\n",
    "\n",
    "# Do the imputation\n",
    "ret = MICE.fit_transform(cov)\n",
    "\n",
    "# Convert imputed data from np array to df\n",
    "ret_df = pd.DataFrame(ret)\n",
    "\n",
    "# Reset the column names and indices\n",
    "ret_df.columns = cov.columns\n",
    "ret_df.index = cov.index\n",
    "\n",
    "cov = ret_df.copy(deep = True)"
   ]
  },
  {
   "cell_type": "code",
   "execution_count": null,
   "metadata": {
    "ExecuteTime": {
     "end_time": "2023-08-21T14:46:33.339728Z",
     "start_time": "2023-08-21T14:46:33.329380Z"
    },
    "hidden": true
   },
   "outputs": [],
   "source": [
    "# Merge back in the additional covs now that impute is finished\n",
    "cov = cov.merge(addl_covs, how = 'left', left_index = True, right_on = 'eid')\n",
    "cov = cov.set_index('eid')"
   ]
  },
  {
   "cell_type": "code",
   "execution_count": null,
   "metadata": {
    "ExecuteTime": {
     "end_time": "2023-08-21T14:46:42.055783Z",
     "start_time": "2023-08-21T14:46:42.047008Z"
    },
    "hidden": true
   },
   "outputs": [],
   "source": [
    "# get number of NAs in each column\n",
    "# All columns now have 0 NAs\n",
    "print(\"Nan in each columns\" , cov.isnull().sum().value_counts(), sep='\\n')\n",
    "print(\"=============================================================\")\n",
    "print(\"Nan in each columns\" , cov.isnull().sum(), sep='\\n')"
   ]
  },
  {
   "cell_type": "markdown",
   "metadata": {
    "hidden": true
   },
   "source": [
    "## Townsend Deprivation Index (TDI)"
   ]
  },
  {
   "cell_type": "markdown",
   "metadata": {
    "hidden": true
   },
   "source": [
    "### Now bin TDI"
   ]
  },
  {
   "cell_type": "code",
   "execution_count": null,
   "metadata": {
    "ExecuteTime": {
     "end_time": "2023-08-21T14:47:40.699737Z",
     "start_time": "2023-08-21T14:47:40.401211Z"
    },
    "hidden": true
   },
   "outputs": [],
   "source": [
    "# We are binning as follows, lower 1/6th, middle 2/3, and upper 1/6th \n",
    "# So we label everyone by their bin\n",
    "cov['tdi_bin'] = pd.qcut(x = cov['tdi_raw'], q = 6, labels = False)\n",
    "\n",
    "# Now we change their number based on our scheme\n",
    "cov['tdi_quant'] = cov['tdi_bin'].replace({\n",
    "                                                0: 0,\n",
    "                                                1: 1,\n",
    "                                                2: 1,\n",
    "                                                3: 1, \n",
    "                                                4: 1, \n",
    "                                                5: 2\n",
    "                                            })\n",
    "\n",
    "cov['tdi_quant'] = cov['tdi_quant'].astype(int)\n",
    "\n",
    "# 0    1572\n",
    "# 1    6285\n",
    "# 2    1572\n",
    "cov['tdi_quant'].value_counts(dropna = False).sort_index()"
   ]
  },
  {
   "cell_type": "markdown",
   "metadata": {
    "hidden": true
   },
   "source": [
    "## BMI"
   ]
  },
  {
   "cell_type": "code",
   "execution_count": null,
   "metadata": {
    "ExecuteTime": {
     "end_time": "2023-08-21T14:49:35.454333Z",
     "start_time": "2023-08-21T14:49:35.446577Z"
    },
    "hidden": true
   },
   "outputs": [],
   "source": [
    "# 27.3\n",
    "# 4.8\n",
    "# 16.2\n",
    "# 61.3\n",
    "print(round(cov['bmi'].mean(), 1))\n",
    "print(round(cov['bmi'].std(), 1))\n",
    "print(round(cov['bmi'].min(), 1))\n",
    "print(round(cov['bmi'].max(), 1))"
   ]
  },
  {
   "cell_type": "markdown",
   "metadata": {
    "hidden": true
   },
   "source": [
    "### Scale BMI (divide by 10)"
   ]
  },
  {
   "cell_type": "code",
   "execution_count": null,
   "metadata": {
    "ExecuteTime": {
     "end_time": "2023-08-21T14:49:00.270191Z",
     "start_time": "2023-08-21T14:49:00.264877Z"
    },
    "hidden": true
   },
   "outputs": [],
   "source": [
    "cov['s_bmi'] = cov['bmi']/10"
   ]
  },
  {
   "cell_type": "markdown",
   "metadata": {
    "hidden": true
   },
   "source": [
    "## Clean up"
   ]
  },
  {
   "cell_type": "code",
   "execution_count": null,
   "metadata": {
    "ExecuteTime": {
     "end_time": "2023-08-21T14:51:02.648001Z",
     "start_time": "2023-08-21T14:51:02.638490Z"
    },
    "hidden": true
   },
   "outputs": [],
   "source": [
    "cov['bmi'] = cov['s_bmi']\n",
    "cov = cov[['sex', 'bmi', 'age', 'ethnic', 'tdi_quant', \n",
    "           'num_in_house', 'tobac', 'alc', 'num_sex_part', 'same_sex',\n",
    "          'is_dead']]"
   ]
  },
  {
   "cell_type": "code",
   "execution_count": null,
   "metadata": {
    "ExecuteTime": {
     "end_time": "2023-08-21T14:51:12.098882Z",
     "start_time": "2023-08-21T14:51:12.073616Z"
    },
    "hidden": true
   },
   "outputs": [],
   "source": [
    "# Some of the column types got reset along the way so fix those\n",
    "cov.loc[:, ['sex', 'ethnic', 'tdi_quant', 'num_in_house',\n",
    "            'tobac', 'alc', 'num_sex_part', 'same_sex']]  = \\\n",
    "    cov.loc[:, ['sex', 'ethnic', 'tdi_quant', 'num_in_house',\n",
    "                'tobac', 'alc', 'num_sex_part', 'same_sex']].astype(int)"
   ]
  },
  {
   "cell_type": "markdown",
   "metadata": {
    "hidden": true
   },
   "source": [
    "## Summary statistics "
   ]
  },
  {
   "cell_type": "code",
   "execution_count": null,
   "metadata": {
    "ExecuteTime": {
     "end_time": "2023-08-21T14:51:56.964256Z",
     "start_time": "2023-08-21T14:51:56.934628Z"
    },
    "hidden": true,
    "scrolled": true
   },
   "outputs": [],
   "source": [
    "print(cov['sex'].value_counts().sort_index())\n",
    "\n",
    "print(\"BMI\")\n",
    "print((cov['bmi'] * 10).mean())\n",
    "print((cov['bmi'] * 10).std())\n",
    "print((cov['bmi'] * 10).median())\n",
    "print((cov['bmi'] * 10).min())\n",
    "print((cov['bmi'] * 10).max())\n",
    "\n",
    "print(\"AGE\")\n",
    "print(cov['age'].mean())\n",
    "print(cov['age'].std())\n",
    "print(cov['age'].median())\n",
    "print(cov['age'].min())\n",
    "print(cov['age'].max())\n",
    "\n",
    "\n",
    "print(\"ETHNIC\")\n",
    "print(cov['ethnic'].value_counts().sort_index())\n",
    "\n",
    "\n",
    "print(\"TDI\")\n",
    "print(cov['tdi_quant'].value_counts().sort_index())\n",
    "\n",
    "\n",
    "print(\"Num in House\")\n",
    "print(cov['num_in_house'].value_counts().sort_index())\n",
    "\n",
    "print(\"Tobac\")\n",
    "print(cov['tobac'].value_counts().sort_index())\n",
    "\n",
    "print(\"Alc\")\n",
    "print(cov['alc'].value_counts().sort_index())\n",
    "\n",
    "\n",
    "print(\"Num SEX Partners\")\n",
    "print(cov['num_sex_part'].value_counts().sort_index())\n",
    "\n",
    "print(\"Same-sex Int\")\n",
    "print(cov['same_sex'].value_counts().sort_index())"
   ]
  },
  {
   "cell_type": "markdown",
   "metadata": {
    "hidden": true
   },
   "source": [
    "## Save file"
   ]
  },
  {
   "cell_type": "code",
   "execution_count": null,
   "metadata": {
    "ExecuteTime": {
     "end_time": "2023-01-11T14:35:51.937131Z",
     "start_time": "2023-01-11T14:35:51.868766Z"
    },
    "hidden": true
   },
   "outputs": [],
   "source": [
    "# Outputting a matrix with rows for each participant that has Ab data\n",
    "# and their values for each of the covariates we will examine later\n",
    "# Dimensions: [9,429 x 11]\n",
    "# Example:\n",
    "# Pat ID   sex    age ...\n",
    "# 0001       1     6.76 ...\n",
    "# 0002       0     8.06 ...\n",
    "# ...\n",
    "cov.to_csv('./procd/new_cov_dat.csv', index = True)"
   ]
  },
  {
   "cell_type": "markdown",
   "metadata": {
    "hidden": true
   },
   "source": [
    "## Remove withdrawn participants"
   ]
  },
  {
   "cell_type": "code",
   "execution_count": null,
   "metadata": {
    "hidden": true
   },
   "outputs": [],
   "source": [
    "# Read in latest file from UKB\n",
    "pats_to_rm_fn = f'{UKB_DAT_HOME}/other/participants_to_remove_as_of_05_03_23.csv'\n",
    "pats_to_rm = pd.read_csv(pats_to_rm_fn, names = ['eid'])\n",
    "pats_to_rm_ls = pats_to_rm['eid'].tolist()\n",
    "\n",
    "# 161 \n",
    "print(len(pats_to_rm_ls))"
   ]
  },
  {
   "cell_type": "code",
   "execution_count": null,
   "metadata": {
    "ExecuteTime": {
     "end_time": "2023-08-21T19:14:39.695459Z",
     "start_time": "2023-08-21T19:14:39.476484Z"
    },
    "hidden": true
   },
   "outputs": [],
   "source": [
    "# Read files back in\n",
    "cov = pd.read_csv('./procd/new_cov_dat.csv')\n",
    "\n",
    "# Most of the data was pre-cleaned, so we only have 1 person in data\n",
    "# here that we need to remove\n",
    "# Dimensions: [9430 x 11]\n",
    "print(cov.shape)\n",
    "\n",
    "\n",
    "# Remove them\n",
    "cov = cov.loc[~cov['eid'].isin(pats_to_rm_ls), :]\n",
    "\n",
    "# Dimensions: [9429 x 11]\n",
    "print(cov.shape)\n",
    "\n",
    "# Write the updated file out\n",
    "cov.to_csv('./procd/new_cov_dat.csv')"
   ]
  },
  {
   "cell_type": "markdown",
   "metadata": {
    "ExecuteTime": {
     "end_time": "2019-10-22T14:22:40.562937Z",
     "start_time": "2019-10-22T14:22:40.559633Z"
    },
    "heading_collapsed": true
   },
   "source": [
    "# Cancer Data"
   ]
  },
  {
   "cell_type": "markdown",
   "metadata": {
    "hidden": true
   },
   "source": [
    "## Load back in Ab data people list so we can filter"
   ]
  },
  {
   "cell_type": "code",
   "execution_count": null,
   "metadata": {
    "ExecuteTime": {
     "end_time": "2023-01-11T13:36:51.812928Z",
     "start_time": "2023-01-11T13:36:51.736358Z"
    },
    "hidden": true
   },
   "outputs": [],
   "source": [
    "ant_dat = pd.read_csv('./procd/clean_antigen_data.csv', sep = ',')\n",
    "\n",
    "ant_peeps = ant_dat['eid'].tolist()\n",
    "\n",
    "# 9,429\n",
    "len(ant_peeps)"
   ]
  },
  {
   "cell_type": "markdown",
   "metadata": {
    "hidden": true
   },
   "source": [
    "## Read in cancer data file and keep only people with antibody data"
   ]
  },
  {
   "cell_type": "code",
   "execution_count": null,
   "metadata": {
    "ExecuteTime": {
     "end_time": "2023-08-21T18:48:37.046759Z",
     "start_time": "2023-08-21T18:47:34.517759Z"
    },
    "hidden": true
   },
   "outputs": [],
   "source": [
    "# cancer_diags.txt is a matrix with a header row listing UKB column IDs,\n",
    "# and an initial column representing UKB patient IDs, and then each cell\n",
    "# lists the ICD10 code for the cancer that person has been diagnoses with\n",
    "# up to a max of 17 different cancer diagnoses. \n",
    "# We filter this only keeping people that have antibody data, so our output\n",
    "# is 9,429 x 18.\n",
    "# Dimensions: [502,522 x 17 (with eid as index)]\n",
    "# Example:\n",
    "# Pat ID   f.01           f.02 ...\n",
    "# 0001\n",
    "# 0002      C67           \n",
    "# 0003 \n",
    "\n",
    "# Get number of lines in input file so we have a total for tqdm\n",
    "cancer_fn = f'{UKB_DAT_HOME}/pheno/third_release/partly_procd_files/disease_slices/cancer_diags.txt'\n",
    "num_lines = sum(1 for line in open(cancer_fn, 'r'))\n",
    "\n",
    "\n",
    "\n",
    "# Matrix where we will dump rows from the file we want to keep.\n",
    "X = []\n",
    "\n",
    "# Open our cancer diag file for reading\n",
    "with open(cancer_fn) as f:\n",
    "    for line in tqdm(f, total=num_lines, desc = \"Cancer\"):\n",
    "        line_spl = line.rstrip('\\n').split('\\t')\n",
    "        \n",
    "        # Skip header line\n",
    "        if line_spl[0] == 'f.eid':\n",
    "            continue\n",
    "        \n",
    "        # Only keep cancer diags for people with Abs data\n",
    "        curr_peep = int(line_spl[0])\n",
    "        if curr_peep in ant_peeps:\n",
    "            X.append(line_spl)\n",
    "            \n",
    "# Create the df\n",
    "can_dat = pd.DataFrame(X, columns = \n",
    "                      ['eid', 'cancer_1', 'cancer_2', 'cancer_3', 'cancer_4', 'cancer_5','cancer_6',\n",
    "                       'cancer_7', 'cancer_8', 'cancer_9', 'cancer_10', 'cancer_11', 'cancer_12',\n",
    "                       'cancer_13', 'cancer_14', 'cancer_15', 'cancer_16', 'cancer_17'])\n",
    "\n",
    "# convert pat ID to ints\n",
    "can_dat.loc[:,'eid'] = can_dat.loc[:,'eid'].astype(int)\n",
    "\n",
    "# Use the patient ids for row names\n",
    "can_dat = can_dat.set_index('eid')"
   ]
  },
  {
   "cell_type": "code",
   "execution_count": null,
   "metadata": {
    "ExecuteTime": {
     "end_time": "2020-06-09T19:03:28.571969Z",
     "start_time": "2020-06-09T19:03:26.255011Z"
    },
    "hidden": true
   },
   "outputs": [],
   "source": [
    "# Only have rows for people that have Ab data and a column for \n",
    "# each cancer diagnoses a person might have up to a max of 17\n",
    "# The actual field will represent the ICD10 code for the cancer\n",
    "# that person was diagnoses with.\n",
    "# Example\n",
    "# eid     cancer_1     cancer_2\n",
    "# 0001      NA          NA\n",
    "# 0002      C67         NA \n",
    "# 0003       NA         NA\n",
    "\n",
    "can_dat.to_csv('procd/can_dat.csv', index = True)"
   ]
  },
  {
   "cell_type": "markdown",
   "metadata": {
    "hidden": true
   },
   "source": [
    "## Generating cancer code dictionary"
   ]
  },
  {
   "cell_type": "code",
   "execution_count": null,
   "metadata": {
    "ExecuteTime": {
     "end_time": "2023-08-21T18:51:59.719077Z",
     "start_time": "2023-08-21T18:51:57.256113Z"
    },
    "hidden": true
   },
   "outputs": [],
   "source": [
    "# This file is simply a list of all cancer ICD10 codes listed in the UKB showcase\n",
    "# page under health related outcomes - cancer register.\n",
    "# \n",
    "# Dimensions: [665 x 1]\n",
    "# Example:\n",
    "# C00\n",
    "# C00.0\n",
    "# C00.1\n",
    "# C00.2\n",
    "\n",
    "can_types = pd.read_excel('dicts/cancer_titles.xlsx', header = None, names = [\"code\"],\n",
    "                         engine = 'openpyxl')"
   ]
  },
  {
   "cell_type": "code",
   "execution_count": null,
   "metadata": {
    "ExecuteTime": {
     "end_time": "2023-08-21T18:53:58.096080Z",
     "start_time": "2023-08-21T18:53:57.650341Z"
    },
    "hidden": true,
    "scrolled": true
   },
   "outputs": [],
   "source": [
    "# This code creates both a 3-char ICD10 list with descriptions, e.g. C01 (no C01.0)\n",
    "\n",
    "# https://pypi.org/project/icd10-cm/\n",
    "import icd10\n",
    "\n",
    "import re\n",
    "\n",
    "roll_code = []\n",
    "\n",
    "# Create regex that matches only C00 or C15, skips all decimals.\n",
    "# We are using this to roll up all decimals into their C15 parent.\n",
    "code_cat = re.compile(r'^[A-Z]\\d\\d$')\n",
    "\n",
    "# Loop through all codes and find descriptions and put in proper lists\n",
    "for x, curr_code in can_types.iterrows():\n",
    "    code = curr_code.to_list()[0]\n",
    "\n",
    "    # Roll up\n",
    "    if code_cat.match(code):\n",
    "        # If the code exits pull down the description\n",
    "        if icd10.exists(code):\n",
    "            icd = icd10.find(code)\n",
    "            roll_code.append([code, icd.description])\n",
    "\n",
    "\n",
    " \n",
    "# Add in the ones that aren't found by ICD10 module (ICD-0-3 specific)\n",
    "roll_code.append([\"C42\", \"hematopoietic and reticuloendothelial systems\"])\n",
    "roll_code.append([\"C97\", \"Malignant neoplasms of independent (primary) multiple site\"])    \n",
    "\n",
    "# Sort list by code\n",
    "roll_code.sort()"
   ]
  },
  {
   "cell_type": "markdown",
   "metadata": {
    "hidden": true
   },
   "source": [
    "## Processing Cancer Data"
   ]
  },
  {
   "cell_type": "markdown",
   "metadata": {
    "hidden": true
   },
   "source": [
    "### Function to Fix ICD10 codes"
   ]
  },
  {
   "cell_type": "code",
   "execution_count": null,
   "metadata": {
    "ExecuteTime": {
     "end_time": "2023-08-21T18:54:44.731499Z",
     "start_time": "2023-08-21T18:54:44.722631Z"
    },
    "hidden": true
   },
   "outputs": [],
   "source": [
    "## Function to fix ICD10 codes\n",
    "# ICD codes for cancer aren't in decimal form, so we need to reverse this.\n",
    "# C504 needs to become C50.4\n",
    "# ICD10 code is always \"letter number number decimal\"\n",
    "\n",
    "def fix_icd(code_list):\n",
    "    ret_code = []\n",
    "    code = re.compile(r'^([A-Z]\\d\\d)')\n",
    "\n",
    "    # Check to see if we got a string or a list\n",
    "    # Got a string\n",
    "    if type(code_list) is str:\n",
    "        spl = code.split(code_list)\n",
    "        main_code = spl[1]\n",
    "    \n",
    "        if spl[2] != '':\n",
    "            ret_code.append(f\"{spl[1]}.{spl[2]}\")\n",
    "    \n",
    "    # List of strings\n",
    "    else:\n",
    "        # Fix any ICD code we found\n",
    "        for y in code_list:\n",
    "            spl = code.split(y)\n",
    "            main_code = spl[1]\n",
    "          \n",
    "            # We have a decimal component! [C443]\n",
    "            if spl[2] != '':\n",
    "                ret_code.append(f\"{spl[1]}.{spl[2]}\")\n",
    "            \n",
    "            # No decimal [C61]\n",
    "            else:\n",
    "                ret_code.append(f\"{spl[1]}\")\n",
    "\n",
    "    return ret_code\n"
   ]
  },
  {
   "cell_type": "markdown",
   "metadata": {
    "hidden": true
   },
   "source": [
    "### Actual processing"
   ]
  },
  {
   "cell_type": "code",
   "execution_count": null,
   "metadata": {
    "ExecuteTime": {
     "end_time": "2023-08-21T19:03:18.416077Z",
     "start_time": "2023-08-21T19:03:11.804386Z"
    },
    "code_folding": [
     7,
     18
    ],
    "hidden": true
   },
   "outputs": [],
   "source": [
    "# This function loops through our can_dat data, which is cancer diagnoses for all of our\n",
    "# UKB people that are also in the Ab data.\n",
    "# For each person it gets a list of all their cancer diags and increments the cancer \n",
    "\n",
    "# Form our column names in form \"Cancer descrip. [ICD10 code]\"\n",
    "roll_code_cols = []\n",
    "\n",
    "for x in roll_code:\n",
    "    roll_code_cols.append(f\"{x[1]} [{x[0]}]\")\n",
    "\n",
    "\n",
    "# Add ID cols\n",
    "roll_code_cols.insert(0, 'eid')\n",
    "\n",
    "# Y will be array of roll_dat\n",
    "Y = []\n",
    "\n",
    "# Looping through each person, taking all non NA codes and mapping to spec_dat and roll_dat\n",
    "for x, curr_row in tqdm(can_dat.iterrows(), total = can_dat.shape[0], desc = \"Proc Cancer\") :\n",
    "\n",
    "    # NA could be either np.na or string 'NA',  so convert any strings first\n",
    "    curr_row = curr_row.replace({'NA' : np.nan})\n",
    "    curr_cans = curr_row[~curr_row.isna()].to_list()\n",
    "    # Generate arrays full of False\n",
    "    curr_Y = ((np.full(len(roll_code_cols), False)).tolist())\n",
    "\n",
    "    # Overwrite False in pos 0 with pat IDs -> works because we are using len for\n",
    "    # defining size of curr_X in above code\n",
    "    curr_Y[0] = x\n",
    "\n",
    "    # No cancer diags, leave all diagnoses as false and move on\n",
    "    if len(curr_cans) == 0:\n",
    "        \n",
    "        Y.append(curr_Y)\n",
    "        \n",
    "        continue\n",
    "    \n",
    "    # We do have cancer diags\n",
    "    else:\n",
    "        \n",
    "        # Fix the ICD10 code list\n",
    "        curr_cans = [i.replace('\"', '') for i in curr_cans]\n",
    "        curr_cans = fix_icd(curr_cans)\n",
    "        \n",
    "        # Loop through each diagnosis and update the current False to a True\n",
    "        for y in curr_cans:\n",
    "            \n",
    "            # Do we have a decimal in ICD code?\n",
    "            # Note we are offsetting our inds because the results array (X and Y) have an extra\n",
    "            # column inserted for ID at pos 0.\n",
    "            if len(y) > 3:\n",
    "\n",
    "                # Get roll-up\n",
    "                # Break into category, so C44.3 -> C44\n",
    "                code = re.compile(r'^([A-Z]\\d\\d)')\n",
    "                found = code.findall(y)\n",
    "                inds = [i for i, s in enumerate(roll_code_cols) if found[0]  in s]\n",
    "\n",
    "                inds = inds[0] \n",
    "                curr_Y[inds] = True\n",
    "\n",
    "            # No decimal\n",
    "            else:\n",
    "                # roll up    \n",
    "                inds = [i for i, s in enumerate(roll_code_cols) if y  in s]\n",
    "                inds = inds[0]\n",
    "                \n",
    "                curr_Y[inds] = True       \n",
    "    \n",
    "\n",
    "\n",
    "    Y.append(curr_Y)\n",
    "    \n",
    "roll_dat = pd.DataFrame(Y, columns = roll_code_cols)\n",
    "\n",
    "# convert pat ID to ints\n",
    "roll_dat.loc[:,'eid'] = roll_dat.loc[:,'eid'].astype(int)\n",
    "\n",
    "# Use the patient ids for row names\n",
    "roll_dat = roll_dat.set_index('eid')"
   ]
  },
  {
   "cell_type": "code",
   "execution_count": null,
   "metadata": {
    "hidden": true
   },
   "outputs": [],
   "source": [
    "# This file will simply be a data matrix where each column\n",
    "# is a different cancer diagnosis and each row is patient ID\n",
    "# The cell is True if that patient in the current row has\n",
    "# been diagnoses with the cancer of the current column, otherwise\n",
    "# the cell is False.\n",
    "# Example\n",
    "# eid     C00     C01\n",
    "# 0001    False   False         \n",
    "# 0002    True    False       \n",
    "# 0003    False   False \n",
    "roll_dat.to_csv('/procd/rolled_code.csv')"
   ]
  },
  {
   "cell_type": "markdown",
   "metadata": {
    "hidden": true
   },
   "source": [
    "## Remove withdrawn participants"
   ]
  },
  {
   "cell_type": "code",
   "execution_count": null,
   "metadata": {
    "hidden": true
   },
   "outputs": [],
   "source": [
    "# Read in latest file from UKB\n",
    "pats_to_rm_fn = f'{UKB_DAT_HOME}/other/participants_to_remove_as_of_05_03_23.csv'\n",
    "pats_to_rm = pd.read_csv(pats_to_rm_fn, names = ['eid'])\n",
    "pats_to_rm_ls = pats_to_rm['eid'].tolist()\n",
    "\n",
    "# 161 \n",
    "print(len(pats_to_rm_ls))"
   ]
  },
  {
   "cell_type": "code",
   "execution_count": null,
   "metadata": {
    "ExecuteTime": {
     "end_time": "2023-08-21T19:14:39.695459Z",
     "start_time": "2023-08-21T19:14:39.476484Z"
    },
    "hidden": true
   },
   "outputs": [],
   "source": [
    "# Read files back in\n",
    "roll_dat = pd.read_csv('./procd/rolled_code.csv')\n",
    "\n",
    "# Most of the data was pre-cleaned, so we only have 1 person in data\n",
    "# here that we need to remove\n",
    "# Dimensions: [9430 x 128]\n",
    "print(roll_dat.shape)\n",
    "\n",
    "\n",
    "# Remove them\n",
    "roll_dat = roll_dat.loc[~roll_dat['eid'].isin(pats_to_rm_ls), :]\n",
    "\n",
    "# Dimensions: [9429 x 128]\n",
    "print(roll_dat.shape)\n",
    "\n",
    "# Write the updated file out\n",
    "roll_dat.to_csv('./procd/rolled_code.csv')"
   ]
  },
  {
   "cell_type": "markdown",
   "metadata": {
    "heading_collapsed": true
   },
   "source": [
    "# Non-cancer Diseases"
   ]
  },
  {
   "cell_type": "markdown",
   "metadata": {
    "hidden": true
   },
   "source": [
    "## Load back in Ab data people list so we can filter"
   ]
  },
  {
   "cell_type": "code",
   "execution_count": null,
   "metadata": {
    "ExecuteTime": {
     "end_time": "2023-08-22T15:04:32.154502Z",
     "start_time": "2023-08-22T15:04:31.983305Z"
    },
    "hidden": true
   },
   "outputs": [],
   "source": [
    "ant_dat = pd.read_csv('./procd/clean_antigen_data.csv', sep = ',')\n",
    "\n",
    "ant_peeps = ant_dat['eid'].tolist()\n",
    "\n",
    "# 9,429\n",
    "len(ant_peeps)"
   ]
  },
  {
   "cell_type": "code",
   "execution_count": null,
   "metadata": {
    "ExecuteTime": {
     "end_time": "2023-08-22T15:04:00.454853Z",
     "start_time": "2023-08-22T15:03:59.027413Z"
    },
    "hidden": true
   },
   "outputs": [],
   "source": [
    "# Get dataframe column headers\n",
    "# This dataframe converts the UKB column ID in our first occurrence data \n",
    "# file to an actual disease diagnoses name and ICD10\n",
    "\n",
    "# Read in all_dis_first_occur_dict.xlsx - we will need for column headers\n",
    "dis_head = pd.read_excel(\"dicts/all_dis_first_occur_dict.xlsx\", \n",
    "                          engine = 'openpyxl')\n",
    "\n",
    "# Drop the data rows\n",
    "#dis_head = dis_head[~dis_head['Data Type'].str.contains('Date')]\n",
    "dis_head = dis_head[:]['Disease'].tolist()\n"
   ]
  },
  {
   "cell_type": "code",
   "execution_count": null,
   "metadata": {
    "ExecuteTime": {
     "end_time": "2023-08-22T15:07:30.162020Z",
     "start_time": "2023-08-22T15:05:00.965462Z"
    },
    "code_folding": [
     0,
     21,
     38,
     104
    ],
    "hidden": true,
    "scrolled": false
   },
   "outputs": [],
   "source": [
    "# first_occur_all_dis.txt is a matrix with a header row listing UKB column IDs,\n",
    "# and an initial column representing UKB patient IDs, and the remaining\n",
    "# columns will map back to a non-cancer disease diagnosis. The cell will either\n",
    "# be NA is the patient does not have that diagnosis or have an integer code\n",
    "# which UKB includes to indicate the source of the data.\n",
    "# Dimensions: [502,522 x 2,255]\n",
    "# Example:\n",
    "# Pat ID   f.01           f.02 ...\n",
    "# 0001\n",
    "# 0002      30           \n",
    "# 0003 \n",
    "\n",
    "# Get number of lines in input file so we have a total for tqdm\n",
    "non_cancer_fn = f'{UKB_DAT_HOME}/pheno/third_release/partly_procd_files/disease_slices/first_occur_all_dis.txt'\n",
    "\n",
    "print(\"Counting lines...\")\n",
    "num_lines = sum(1 for line in open(non_cancer_fn, 'r'))\n",
    "\n",
    "print(\"Finished counting lines!\")\n",
    "\n",
    "X = []\n",
    "with open(non_cancer_fn) as f:\n",
    "    for line in tqdm(f, total=num_lines, desc = \"First Occur.\"):\n",
    "        line_spl = line.rstrip('\\n').split(\"\\t\")\n",
    "        \n",
    "        # Skip header line\n",
    "        if line_spl[0] == 'f.eid':\n",
    "            continue\n",
    "        \n",
    "        curr_peep = int(line_spl[0])\n",
    "        if curr_peep in ant_peeps:\n",
    "            X.append(line_spl)\n",
    "            \n",
    "# Create the df\n",
    "dis_dat = pd.DataFrame(X, columns = dis_head)\n",
    "\n",
    "# rename pat ID column then convert it to ints\n",
    "# A bunch of columns were missing and needed to be looked up manually. I've dumped those here to rename cols\n",
    "dis_dat = dis_dat.rename(columns={\n",
    "                                   'Unique patient ID' : 'eid',\n",
    "            '130191-0.0' : 'other viral infections characterised by skin and mucous membrane lesions, not elsewhere classified[B08]',\n",
    "            '130193-0.0' : 'unspecified viral infection characterised by skin and mucous membrane lesions[B09]',\n",
    "            '130205-0.0' : 'human immunodeficiency virus [hiv] disease resulting in infectious and parasitic diseases[B20]',\n",
    "            '130209-0.0' : 'human immunodeficiency virus [hiv] disease resulting in other specified diseases[B22]',\n",
    "            '130337-0.0' : 'streptococcus and staphylococcus as the cause of diseases classified to other chapters[B95]',\n",
    "            '130339-0.0' : 'other bacterial agents as the cause of diseases classified to other chapters[B96]',\n",
    "            '130343-0.0' : 'other specified infectious agents as the cause of diseases classified to other chapters[B98]',\n",
    "            '130673-0.0' : 'certain diseases involving lymphoreticular tissue and reticulohistiocytic system[D76]',\n",
    "            '130675-0.0' : 'other disorders of blood and blood-forming organs in diseases classified elsewhere[D77]',\n",
    "            '130845-0.0' : 'organic amnesic syndrome, not induced by alcohol and other psychoactive substances[F04]',\n",
    "            '130849-0.0' : 'other mental disorders due to brain damage and dysfunction and to physical disease[F06]',\n",
    "            '130851-0.0' : 'personality and behavioural disorders due to brain disease, damage and dysfunction[F07]',\n",
    "            '130865-0.0' : 'mental and behavioural disorders due to use of other stimulants, including caffeine[F15]',\n",
    "            '130873-0.0' : 'mental and behavioural disorders due to multiple drug use and use of other psychoactive substances[F19]',\n",
    "            '130925-0.0' : 'mental and behavioural disorders associated with the puerperium, not elsewhere classified[F53]',\n",
    "            '130927-0.0' : 'psychological and behavioural factors associated with disorders or diseases classified elsewhere[F54]',\n",
    "            '130931-0.0' : 'unspecified behavioural syndromes associated with physiological disturbances and physical factors[F59]',\n",
    "            '130945-0.0' : 'psychological and behavioural disorders associated with sexual development and orientation[F66]',\n",
    "            '130985-0.0' : 'disorders of social functioning with onset specific to childhood and adolescence[F94]',\n",
    "            '130989-0.0' : 'other behavioural and emotional disorders with onset usually occurring in childhood and adolescence[F98]',\n",
    "            '131003-0.0' : 'encephalitis, myelitis and encephalomyelitis in diseases classified elsewhere[G05]',\n",
    "            '131007-0.0' : 'intracranial and intraspinal abscess and granuloma in diseases classified elsewhere[G07]',\n",
    "            '131019-0.0' : 'systemic atrophies primarily affecting central nervous system in diseases classified elsewhere[G13]',\n",
    "            '131041-0.0' : 'other degenerative disorders of nervous system in diseases classified elsewhere[G32]',\n",
    "            '131201-0.0' : 'disorders of optic 2nd nerve and visual pathways in diseases classified elsewhere[H48]',\n",
    "            '131269-0.0' : 'postprocedural disorders of ear and mastoid process, not elsewhere classified[H95]',\n",
    "            '131371-0.0' : 'occlusion and stenosis of precerebral arteries, not resulting in cerebral infarction[I65]',\n",
    "            '131373-0.0' : 'occlusion and stenosis of cerebral arteries, not resulting in cerebral infarction[I66]',\n",
    "            '131395-0.0' : 'disorders of arteries, arterioles and capillaries in diseases classified elsewhere[I79]',\n",
    "            '131517-0.0' : 'respiratory conditions due to inhalation of chemicals, gases, fumes and vapours[J68]',\n",
    "            '131687-0.0' : 'disorders of gallbladder, biliary tract and pancreas in diseases classified elsewhere[K87]',\n",
    "            '131839-0.0' : 'other disorders of skin and subcutaneous tissue in diseases classified elsewhere[L99]',\n",
    "            '131843-0.0' : 'direct infections of joint in infectious and parasitic diseases classified elsewhere[M01]',\n",
    "            '132151-0.0' : 'pain and other conditions associated with female genital organs and menstrual cycle[N94]',\n",
    "            '132181-0.0' : 'pre-existing hypertension complicating pregnancy, childbirth and the puerperium[O10]',\n",
    "            '132187-0.0' : 'gestational [pregnancy-induced] hypertension without significant proteinuria[O13]',\n",
    "            '132259-0.0' : 'labour and delivery complicated by intrapartum haemorrhage, not elsewhere classified[O67]',\n",
    "            '132307-0.0' : 'death from any obstetric cause occurring more than 42 days but less than one year after delivery[O96]',\n",
    "            '132311-0.0' : 'maternal infectious and parasitic diseases classifiable elsewhere but complicating pregnancy, childbirth and the puerperium[O98]',\n",
    "            '132313-0.0' : 'other maternal diseases classifiable elsewhere but complicating pregnancy, childbirth and the puerperium[O99]',\n",
    "            '132315-0.0' : 'foetus and newborn affected by maternal conditions that may be unrelated to present pregnancy[P00]',\n",
    "            '132319-0.0' : 'foetus and newborn affected by complications of placenta, cord and membranes[P02]',\n",
    "            '132323-0.0' : 'foetus and newborn affected by noxious influences transmitted via placenta or breast milk[P04]',\n",
    "            '132327-0.0' : 'disorders related to short gestation and low birth weight, not elsewhere classified[P07]',\n",
    "            '132353-0.0' : 'interstitial emphysema and related conditions originating in the perinatal period[P25]',\n",
    "            '132397-0.0' : 'transitory disorders of carbohydrate metabolism specific to foetus and newborn[P70]',\n",
    "            '132535-0.0' : 'congenital obstructive defects of renal pelvis and congenital malformations of ureter[Q62]',\n",
    "            '132569-0.0' : 'congenital malformations of musculoskeletal system, not elsewhere classified[Q79]',\n",
    "            '132583-0.0' : 'congenital malformation syndromes due to known exogenous causes, not elsewhere classified[Q86]',\n",
    "            '132585-0.0' : 'other specified congenital malformation syndromes affecting multiple systems[Q87]',\n",
    "            '132593-0.0' : 'other trisomies and partial trisomies of the autosomes, not elsewhere classified[Q92]',\n",
    "            '132601-0.0' : 'other sex chromosome abnormalities, female phenotype, not elsewhere classified[Q97]',\n",
    "            '132603-0.0' : 'other sex chromosome abnormalities, male phenotype, not elsewhere classified[Q98]'\n",
    "\n",
    "                                    })\n",
    "dis_dat.loc[:,'eid'] = dis_dat.loc[:,'eid'].astype(int)\n",
    "\n",
    "# Use the patient ids for row names\n",
    "dis_dat = dis_dat.set_index('eid')\n",
    "\n",
    "# Remove Date columns, not needed for now.\n",
    "dis_dat = dis_dat[dis_dat.columns.drop(list(dis_dat.filter(regex='Date')))]\n",
    "\n",
    "# Convert coding to disease status flags\n",
    "dis_dat = dis_dat.replace({\n",
    "                    \"NA\" : False,\n",
    "                    \"40\" : True,\n",
    "                    \"41\" : True,\n",
    "                    \"20\" : True,\n",
    "                    \"21\" : True,\n",
    "                    \"30\" : True,\n",
    "                    \"31\" : True,\n",
    "                    \"50\" : True, \n",
    "                    \"51\" : True\n",
    "                })"
   ]
  },
  {
   "cell_type": "code",
   "execution_count": null,
   "metadata": {
    "ExecuteTime": {
     "end_time": "2021-02-03T16:09:36.331662Z",
     "start_time": "2021-02-03T16:09:33.824866Z"
    },
    "hidden": true
   },
   "outputs": [],
   "source": [
    "# These files will simply be a data matrix where each column\n",
    "# is a different non-cancer diagnosis and each row is patient ID\n",
    "# The cell is True if that patient in the current row has\n",
    "# been diagnosed with the disease of the current column, otherwise\n",
    "# the cell is False.\n",
    "# Dimensions: [9,429 x 1127]\n",
    "# Example\n",
    "# eid     A00     A01\n",
    "# 0001    False   False         \n",
    "# 0002    True    False       \n",
    "# 0003    False   False \n",
    "dis_dat.to_csv('./procd/dis_dat.csv', index = True)"
   ]
  },
  {
   "cell_type": "markdown",
   "metadata": {
    "hidden": true
   },
   "source": [
    "## Remove withdrawn participants"
   ]
  },
  {
   "cell_type": "code",
   "execution_count": null,
   "metadata": {
    "hidden": true
   },
   "outputs": [],
   "source": [
    "# Read in latest file from UKB\n",
    "pats_to_rm_fn = f'{UKB_DAT_HOME}/other/participants_to_remove_as_of_05_03_23.csv'\n",
    "pats_to_rm = pd.read_csv(pats_to_rm_fn, names = ['eid'])\n",
    "pats_to_rm_ls = pats_to_rm['eid'].tolist()\n",
    "\n",
    "# 161 \n",
    "print(len(pats_to_rm_ls))"
   ]
  },
  {
   "cell_type": "code",
   "execution_count": null,
   "metadata": {
    "ExecuteTime": {
     "end_time": "2023-08-21T19:14:39.695459Z",
     "start_time": "2023-08-21T19:14:39.476484Z"
    },
    "hidden": true
   },
   "outputs": [],
   "source": [
    "# Read files back in\n",
    "dis_dat = pd.read_csv('./procd/dis_dat.csv')\n",
    "\n",
    "# Most of the data was pre-cleaned, so we only have 1 person in data\n",
    "# here that we need to remove\n",
    "# Dimensions: [9430 x 128]\n",
    "print(dis_dat.shape)\n",
    "\n",
    "\n",
    "# Remove them\n",
    "dis_dat = dis_dat.loc[~dis_dat['eid'].isin(pats_to_rm_ls), :]\n",
    "\n",
    "# Dimensions: [9429 x 128]\n",
    "print(dis_dat.shape)\n",
    "\n",
    "# Write the updated file out\n",
    "dis_dat.to_csv('./procd/dis_dat.csv')"
   ]
  }
 ],
 "metadata": {
  "hide_input": false,
  "kernelspec": {
   "display_name": "Python 3 (ipykernel)",
   "language": "python",
   "name": "python3"
  },
  "language_info": {
   "codemirror_mode": {
    "name": "ipython",
    "version": 3
   },
   "file_extension": ".py",
   "mimetype": "text/x-python",
   "name": "python",
   "nbconvert_exporter": "python",
   "pygments_lexer": "ipython3",
   "version": "3.7.8"
  },
  "notify_time": "5",
  "toc": {
   "base_numbering": 1,
   "nav_menu": {},
   "number_sections": true,
   "sideBar": true,
   "skip_h1_title": false,
   "title_cell": "Table of Contents",
   "title_sidebar": "Contents",
   "toc_cell": false,
   "toc_position": {},
   "toc_section_display": true,
   "toc_window_display": false
  },
  "varInspector": {
   "cols": {
    "lenName": 16,
    "lenType": 16,
    "lenVar": 40
   },
   "kernels_config": {
    "python": {
     "delete_cmd_postfix": "",
     "delete_cmd_prefix": "del ",
     "library": "var_list.py",
     "varRefreshCmd": "print(var_dic_list())"
    },
    "r": {
     "delete_cmd_postfix": ") ",
     "delete_cmd_prefix": "rm(",
     "library": "var_list.r",
     "varRefreshCmd": "cat(var_dic_list()) "
    }
   },
   "oldHeight": 200.20000000000002,
   "position": {
    "height": "40px",
    "left": "815px",
    "right": "20px",
    "top": "79px",
    "width": "424.8px"
   },
   "types_to_exclude": [
    "module",
    "function",
    "builtin_function_or_method",
    "instance",
    "_Feature"
   ],
   "varInspector_section_display": "none",
   "window_display": false
  }
 },
 "nbformat": 4,
 "nbformat_minor": 2
}
