{
 "cells": [
  {
   "cell_type": "markdown",
   "metadata": {},
   "source": [
    "# Load Libraries"
   ]
  },
  {
   "cell_type": "code",
   "execution_count": null,
   "metadata": {
    "ExecuteTime": {
     "end_time": "2023-08-25T01:01:57.265021Z",
     "start_time": "2023-08-25T01:01:52.775299Z"
    },
    "code_folding": [
     0
    ]
   },
   "outputs": [],
   "source": [
    "# Data manipulation\n",
    "import numpy as np\n",
    "import pandas as pd\n",
    "\n",
    "# Data science\n",
    "import math\n",
    "import scipy.stats as stats\n",
    "from sklearn.experimental import enable_iterative_imputer\n",
    "from sklearn.impute import IterativeImputer\n",
    "from statsmodels.stats.multitest import multipletests as mt\n",
    "\n",
    "# Plots\n",
    "import matplotlib as mpl\n",
    "import seaborn as sns\n",
    "import matplotlib.pyplot as plt\n",
    "\n",
    "# Working with dates\n",
    "from datetime import date,datetime\n",
    "import dateutil\n",
    "\n",
    "# Looping  progress\n",
    "from tqdm.notebook import tqdm\n",
    "\n",
    "# Reg expressions\n",
    "import re\n",
    "\n",
    "# Pretty table printing\n",
    "import tabulate\n",
    "\n",
    "# ***REMOVED*** Snippets Require these\n",
    "import os\n",
    "import subprocess\n",
    "\n",
    "import glob\n",
    "\n",
    "# Misc libraries\n",
    "from IPython.display import display, HTML\n",
    "#from IPython.core.display import display, HTML\n",
    "\n",
    "# Set seaborn figure size, font size, and style\n",
    "sns.set(rc={'figure.figsize':(11.7,8.27)})\n",
    "sns.set(font_scale=1.5)\n",
    "sns.set_style(\"white\")\n",
    "\n",
    "# Set Pandas options so we can see our entire dataframe\n",
    "pd.options.display.max_rows = 10000\n",
    "pd.options.display.max_columns = 10000\n",
    "pd.options.display.max_colwidth = None\n",
    "\n",
    "# Print our versions of this packages, this allows us to make sure\n",
    "# we have the working versions we need. \n",
    "print(f\"Pandas version: {pd.__version__}\")"
   ]
  },
  {
   "cell_type": "code",
   "execution_count": null,
   "metadata": {
    "ExecuteTime": {
     "end_time": "2023-08-25T01:01:57.328220Z",
     "start_time": "2023-08-25T01:01:57.323962Z"
    }
   },
   "outputs": [],
   "source": [
    "HOME_DIR = \"/data/pathogen_ncd\""
   ]
  },
  {
   "cell_type": "markdown",
   "metadata": {},
   "source": [
    "# Collect all empirical results"
   ]
  },
  {
   "cell_type": "markdown",
   "metadata": {},
   "source": [
    "We have a separate file with an empirical p-value for each disease-antibody pair that we need to combine before we can further analyze.\n",
    "\n",
    "```bash\n",
    "\n",
    "# Push all the empirical p-value results for all ICDs into a single file\n",
    "cat \"${HOME_DIR}/results/perm_p_sims/emp_calcs/\"*.tsv > all_icd_emp_p_results.tsv\n",
    "\n",
    "# Grab what will be the header line\n",
    "grep 'Unparsed_Disease' all_icd_emp_p_results.tsv  | head -n 1 > header\n",
    "\n",
    "# Remove extraneous header lines in our final file\n",
    "grep -v 'Unparsed_Disease' all_icd_emp_p_results.tsv  | sponge  all_icd_emp_p_results.tsv\n",
    "\n",
    "# Add header back to the top of our now cleaned empiricial p-value results file containing an\n",
    "# empirical p-value for each disease-antibody pair.\n",
    "cat header all_icd_emp_p_results.tsv | sponge all_icd_emp_p_results.tsv\n",
    "\n",
    "```"
   ]
  },
  {
   "cell_type": "markdown",
   "metadata": {},
   "source": [
    "# Examining emp p-values"
   ]
  },
  {
   "cell_type": "code",
   "execution_count": null,
   "metadata": {
    "ExecuteTime": {
     "end_time": "2023-08-25T01:01:57.736850Z",
     "start_time": "2023-08-25T01:01:57.383757Z"
    }
   },
   "outputs": [],
   "source": [
    "# Load in analytical results\n",
    "res_dir = f'{HOME_DIR}/results'\n",
    "res = pd.read_csv(f'{res_dir}/tri_mod_results_01_17_2023.csv')\n",
    "res = res.rename(columns = {'organism' : 'org', 'Antigen' : 'anti'})\n",
    "\n",
    "org_ab_ls = res.loc[:, ['org', 'anti']].drop_duplicates().values.tolist()"
   ]
  },
  {
   "cell_type": "code",
   "execution_count": null,
   "metadata": {
    "ExecuteTime": {
     "end_time": "2023-08-25T01:01:58.274183Z",
     "start_time": "2023-08-25T01:01:57.918715Z"
    }
   },
   "outputs": [],
   "source": [
    "emp_dir = f'{res_dir}/perm_p_sims/emp_calcs'\n",
    "\n",
    "emp_res = pd.read_csv(f'{emp_dir}/all_icd_emp_p_results.tsv', \n",
    "                      sep = '\\t')"
   ]
  },
  {
   "cell_type": "markdown",
   "metadata": {
    "heading_collapsed": true
   },
   "source": [
    "## Make sure we have emp p's for each dis-Ab"
   ]
  },
  {
   "cell_type": "code",
   "execution_count": null,
   "metadata": {
    "ExecuteTime": {
     "end_time": "2023-08-25T01:01:59.880419Z",
     "start_time": "2023-08-25T01:01:59.874334Z"
    },
    "hidden": true
   },
   "outputs": [],
   "source": [
    "# Differing numbers\n",
    "# 23,257\n",
    "print(len(res))\n",
    "\n",
    "# 23,122\n",
    "print(len(emp_res))"
   ]
  },
  {
   "cell_type": "code",
   "execution_count": null,
   "metadata": {
    "ExecuteTime": {
     "end_time": "2023-08-25T01:02:48.078439Z",
     "start_time": "2023-08-25T01:02:48.008630Z"
    },
    "hidden": true
   },
   "outputs": [],
   "source": [
    "res_str = set(res['icd'] + '_' + res['org'] + '_' + res['anti'])\n",
    "emp_str = set(emp_res['icd'] + '_' + emp_res['org'] + '_' + emp_res['anti'])\n",
    "\n",
    "print(emp_str.difference(res_str))\n",
    "\n",
    "# O80, O81, O82 missing because these are the controls for O codes so \n",
    "# these are expected to be left out.\n",
    "print(list(res_str.difference(emp_str)))\n",
    "\n",
    "# 135\n",
    "print(len(list(res_str.difference(emp_str))))\n",
    "\n",
    "# 135\n",
    "print(len(res) - len(emp_res))\n",
    "\n",
    "# So the O controls make up all of the \"missing\" results"
   ]
  },
  {
   "cell_type": "markdown",
   "metadata": {},
   "source": [
    "## Write the file out"
   ]
  },
  {
   "cell_type": "code",
   "execution_count": null,
   "metadata": {
    "ExecuteTime": {
     "end_time": "2023-02-10T17:28:23.775866Z",
     "start_time": "2023-02-10T17:28:23.161490Z"
    }
   },
   "outputs": [],
   "source": [
    "emp_res.to_csv(f'{res_dir}/emp_results_01_17_2023.tsv', sep = '\\t', index = False)"
   ]
  }
 ],
 "metadata": {
  "kernelspec": {
   "display_name": "Python 3 (ipykernel)",
   "language": "python",
   "name": "python3"
  },
  "language_info": {
   "codemirror_mode": {
    "name": "ipython",
    "version": 3
   },
   "file_extension": ".py",
   "mimetype": "text/x-python",
   "name": "python",
   "nbconvert_exporter": "python",
   "pygments_lexer": "ipython3",
   "version": "3.7.8"
  },
  "toc": {
   "base_numbering": 1,
   "nav_menu": {},
   "number_sections": true,
   "sideBar": false,
   "skip_h1_title": false,
   "title_cell": "Table of Contents",
   "title_sidebar": "Contents",
   "toc_cell": false,
   "toc_position": {},
   "toc_section_display": true,
   "toc_window_display": false
  },
  "varInspector": {
   "cols": {
    "lenName": 16,
    "lenType": 16,
    "lenVar": 40
   },
   "kernels_config": {
    "python": {
     "delete_cmd_postfix": "",
     "delete_cmd_prefix": "del ",
     "library": "var_list.py",
     "varRefreshCmd": "print(var_dic_list())"
    },
    "r": {
     "delete_cmd_postfix": ") ",
     "delete_cmd_prefix": "rm(",
     "library": "var_list.r",
     "varRefreshCmd": "cat(var_dic_list()) "
    }
   },
   "types_to_exclude": [
    "module",
    "function",
    "builtin_function_or_method",
    "instance",
    "_Feature"
   ],
   "window_display": false
  }
 },
 "nbformat": 4,
 "nbformat_minor": 4
}
