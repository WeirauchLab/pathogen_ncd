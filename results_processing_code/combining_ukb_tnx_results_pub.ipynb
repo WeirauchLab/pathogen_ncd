{
 "cells": [
  {
   "cell_type": "markdown",
   "metadata": {},
   "source": [
    "# Load Libraries"
   ]
  },
  {
   "cell_type": "code",
   "execution_count": null,
   "metadata": {
    "ExecuteTime": {
     "end_time": "2023-08-25T13:44:20.984050Z",
     "start_time": "2023-08-25T13:44:15.823824Z"
    },
    "code_folding": []
   },
   "outputs": [],
   "source": [
    "# Data manipulation\n",
    "import numpy as np\n",
    "import pandas as pd\n",
    "\n",
    "# Data science\n",
    "import math\n",
    "import scipy.stats as stats\n",
    "from sklearn.experimental import enable_iterative_imputer\n",
    "from sklearn.impute import IterativeImputer\n",
    "from statsmodels.stats.multitest import multipletests as mt\n",
    "\n",
    "# Plots\n",
    "import matplotlib as mpl\n",
    "import seaborn as sns\n",
    "import matplotlib.pyplot as plt\n",
    "\n",
    "# Working with dates\n",
    "from datetime import date,datetime\n",
    "import dateutil\n",
    "\n",
    "# Looping  progress\n",
    "from tqdm.notebook import tqdm\n",
    "\n",
    "# Reg expressions\n",
    "import re\n",
    "\n",
    "# Pretty table printing\n",
    "import tabulate\n",
    "\n",
    "# ***REMOVED*** Snippets Require these\n",
    "import os\n",
    "import subprocess\n",
    "\n",
    "# Misc libraries\n",
    "from IPython.display import display, HTML\n",
    "#from IPython.core.display import display, HTML\n",
    "\n",
    "# Set seaborn figure size, font size, and style\n",
    "sns.set(rc={'figure.figsize':(11.7,8.27)})\n",
    "sns.set(font_scale=1.5)\n",
    "sns.set_style(\"white\")\n",
    "\n",
    "# Set Pandas options so we can see our entire dataframe\n",
    "pd.options.display.max_rows = 10000\n",
    "pd.options.display.max_columns = 10000\n",
    "pd.options.display.max_colwidth = None\n",
    "\n",
    "# Print our versions of this packages, this allows us to make sure\n",
    "# we have the working versions we need. \n",
    "print(f\"Pandas version: {pd.__version__}\")\n",
    "\n",
    "\n",
    "# Remove grey side bars\n",
    "display(HTML(\"<style>.container { width:90% !important; }</style>\"))"
   ]
  },
  {
   "cell_type": "code",
   "execution_count": null,
   "metadata": {
    "ExecuteTime": {
     "end_time": "2023-08-25T13:44:21.050544Z",
     "start_time": "2023-08-25T13:44:21.046155Z"
    }
   },
   "outputs": [],
   "source": [
    "HOME_DIR = \"/data/pathogen_ncd\""
   ]
  },
  {
   "cell_type": "markdown",
   "metadata": {},
   "source": [
    "Concatenate the separate results file (1 per ICD10 code) together to have a set of final TNX results\n",
    "\n",
    "```bash\n",
    "# Push all the per-ICD TNX results for all ICDs into a single file\n",
    "\n",
    "cat \"${HOME_DIR}/other/trinetx/new_dataset/results/tnx_results_01_17_2023/res/*.tsv\" > tnx_all_results.tsv\n",
    "\n",
    "# Grab what will be the header line\n",
    "grep 'Unparsed_Disease' tnx_all_results.tsv  | head -n 1 > header\n",
    "\n",
    "# Remove extraneous header lines in our final file\n",
    "grep -v 'Unparsed_Disease' tnx_all_results.tsv  | sponge  tnx_all_results.tsv\n",
    "\n",
    "# Add header back to the top of our now cleaned TNX results file \n",
    "cat header tnx_all_results.tsv | sponge tnx_all_results.tsv\n",
    "\n",
    "```"
   ]
  },
  {
   "cell_type": "markdown",
   "metadata": {},
   "source": [
    "# Prep UKB and TNX results"
   ]
  },
  {
   "cell_type": "markdown",
   "metadata": {},
   "source": [
    "## Read in UKB and TNX Result Files"
   ]
  },
  {
   "cell_type": "code",
   "execution_count": null,
   "metadata": {
    "ExecuteTime": {
     "end_time": "2023-08-25T13:44:23.420011Z",
     "start_time": "2023-08-25T13:44:21.112180Z"
    }
   },
   "outputs": [],
   "source": [
    "# UKB results file\n",
    "all_ukb = pd.read_csv(f'{HOME_DIR}/results/emp_results_01_17_2023.tsv', sep = '\\t')\n",
    "all_ukb['num_tot_samples'] = all_ukb['nCase'] + all_ukb['nControl']\n",
    "\n",
    "# TNX categorical test results\n",
    "all_tnx_cat = pd.read_csv(f'{HOME_DIR}/other/trinetx/new_dataset/results/tnx_results_01_17_2023/res/tnx_all_results.tsv', \n",
    "                          sep = '\\t')\n",
    "all_tnx_cat = all_tnx_cat.loc[all_tnx_cat['disease_name'] != 'disease_name', :]\n",
    "\n",
    "all_tnx = all_tnx_cat.copy(deep = True)\n",
    "all_tnx.loc[:, ['num_case', 'num_con']] = all_tnx.loc[:, ['num_case', 'num_con']].astype(int)\n",
    "all_tnx['num_tot_samples'] = all_tnx['num_case'] + all_tnx['num_con']"
   ]
  },
  {
   "cell_type": "code",
   "execution_count": null,
   "metadata": {
    "ExecuteTime": {
     "end_time": "2023-08-25T13:44:23.985036Z",
     "start_time": "2023-08-25T13:44:23.979181Z"
    }
   },
   "outputs": [],
   "source": [
    "# 23,122\n",
    "print(all_ukb.shape[0])\n",
    "\n",
    "\n",
    "# 198,225\n",
    "print(all_tnx_cat.shape[0])"
   ]
  },
  {
   "cell_type": "markdown",
   "metadata": {},
   "source": [
    "## Align UKB and TNX Diseases"
   ]
  },
  {
   "cell_type": "code",
   "execution_count": null,
   "metadata": {
    "ExecuteTime": {
     "end_time": "2023-08-25T13:44:24.691574Z",
     "start_time": "2023-08-25T13:44:24.610296Z"
    }
   },
   "outputs": [],
   "source": [
    "# No B24 results, so to merge with UKB change TNX B20 to B24\n",
    "# 0\n",
    "print(len(all_tnx.loc[all_tnx['icd'] == 'B24', :]))\n",
    "\n",
    "# 44\n",
    "print(len(all_tnx.loc[all_tnx['icd'] == 'B20', :]))\n",
    "\n",
    "# All B20 successfully changed to B24 for merging with UKB's B24 (HIV infection)\n",
    "all_tnx.loc[all_tnx['icd'] == 'B20', 'icd'] = 'B24'\n",
    "\n",
    "# 44\n",
    "print(len(all_tnx.loc[all_tnx['icd'] == 'B24', :]))\n",
    "\n",
    "# 0\n",
    "print(len(all_tnx.loc[all_tnx['icd'] == 'B20', :]))"
   ]
  },
  {
   "cell_type": "markdown",
   "metadata": {},
   "source": [
    "## Align UKB and TNX Pathogen tags"
   ]
  },
  {
   "cell_type": "code",
   "execution_count": null,
   "metadata": {
    "ExecuteTime": {
     "end_time": "2023-08-25T13:44:28.204726Z",
     "start_time": "2023-08-25T13:44:28.152526Z"
    },
    "code_folding": []
   },
   "outputs": [],
   "source": [
    "# UKB and TNX Anti's are already aligned\n",
    "# Fix some weird chars\n",
    "all_ukb.loc[:, 'org'] = all_ukb.loc[:, 'org'].replace({'MCV\\xa0' : 'MCV', \n",
    "                                                   'H.\\xa0pylori' : 'H.pylori'})\n",
    "\n",
    "org_to_tag_dict = {\n",
    "                            'HSV1'           : 'hsv1',\n",
    "                            'HSV2'           : 'hsv2',\n",
    "                            'VZV'            : 'vzv',\n",
    "                            'EBV'            : 'ebv',\n",
    "                            'CMV'            : 'cmv',\n",
    "                            'HHV-6'          : 'hhv6',\n",
    "                            'HHV-7'          : 'hhv7',\n",
    "                            'KSHV/HHV-8'     : 'kshv',\n",
    "                            'HBV'            : 'hbv',\n",
    "                            'HCV'            : 'hcv',\n",
    "                            'T. gondii'      : 'tox',\n",
    "                            'T.gondii'      : 'tox',\n",
    "                            'HTLV-1'         : 'htlv',\n",
    "                            'BKV'            : 'bkv',\n",
    "                            'JCV'            : 'jcv',\n",
    "                            'MCV'            : 'mcv',\n",
    "                            'HPV-16'         : 'hpv16',\n",
    "                            'HPV-18'         : 'hpv18',\n",
    "                            'C. trachomatis' : 'chlam',\n",
    "                            'C.trachomatis' : 'chlam',\n",
    "\n",
    "                            'H.pylori'       : 'hpylori',\n",
    "                            'HIV'            : 'hiv'\n",
    "                        }\n",
    "\n",
    "all_ukb['tag'] = all_ukb.loc[:, 'org'].replace(org_to_tag_dict)"
   ]
  },
  {
   "cell_type": "markdown",
   "metadata": {},
   "source": [
    "# Do statistical power filtering"
   ]
  },
  {
   "cell_type": "markdown",
   "metadata": {},
   "source": [
    "## Case and Total Sample Filtering"
   ]
  },
  {
   "cell_type": "code",
   "execution_count": null,
   "metadata": {
    "ExecuteTime": {
     "end_time": "2023-08-25T13:45:11.145011Z",
     "start_time": "2023-08-25T13:45:11.138043Z"
    }
   },
   "outputs": [],
   "source": [
    "# Statistical power requirements\n",
    "MIN_CASE_THRESH = 17\n",
    "MIN_TOT_SAMP_THRESH  = 187"
   ]
  },
  {
   "cell_type": "code",
   "execution_count": null,
   "metadata": {
    "ExecuteTime": {
     "end_time": "2023-08-25T13:45:31.872266Z",
     "start_time": "2023-08-25T13:45:31.279667Z"
    }
   },
   "outputs": [],
   "source": [
    "# Total in UKB:  23122\n",
    "# Total in UKB that meet case threshold [n >= 17]:  19289\n",
    "# Total in TNX:  198225\n",
    "# Total in TNX stds:  2073\n",
    "# Total in TNX non-stds:  196152\n",
    "# Total in TNX standards that meet case threshold [n >= 17] and total sample threshold [n >= 187]:  1876\n",
    "# Total in TNX non-standards that meet case threshold [n >= 17] and total sample threshold [n >= 187]:  178058\n",
    "# Total in combined TNX that meet thresholds: 179934\n",
    "\n",
    "tnx_stds = all_tnx.loc[all_tnx['icd'].str.startswith(('A', 'B')), :]\n",
    "tnx_non_stds = all_tnx.loc[~all_tnx['icd'].str.startswith(('A', 'B')), :]\n",
    "\n",
    "print(f\"Total in UKB:  {len(all_ukb)}\")\n",
    "ukb = all_ukb.copy(deep = True)\n",
    "ukb = ukb.loc[((ukb['ICD10_Cat'].isin(['A', 'B'])) | \n",
    "         ((ukb['nCase'] >= MIN_CASE_THRESH) &\n",
    "          (ukb['num_tot_samples'] >= MIN_TOT_SAMP_THRESH))), :]\n",
    "\n",
    "print(f\"Total in UKB that meet case threshold [n >= {MIN_CASE_THRESH}]:  {len(ukb)}\")\n",
    "\n",
    "\n",
    "print(f\"Total in TNX:  {len(all_tnx)}\")\n",
    "\n",
    "print(f\"Total in TNX stds:  {len(tnx_stds)}\")\n",
    "print(f\"Total in TNX non-stds:  {len(tnx_non_stds)}\")\n",
    "\n",
    "tnx_stds = tnx_stds.loc[((tnx_stds['num_case'] >= MIN_CASE_THRESH) &\n",
    "                         (tnx_stds['num_tot_samples'] >= MIN_TOT_SAMP_THRESH)), :]\n",
    "print(f\"Total in TNX standards that meet case threshold [n >= {MIN_CASE_THRESH}] and total sample threshold [n >= {MIN_TOT_SAMP_THRESH}]:  {len(tnx_stds)}\")\n",
    "\n",
    "tnx_non_stds = tnx_non_stds.loc[((tnx_non_stds['num_case'] >= MIN_CASE_THRESH) &\n",
    "                   (tnx_non_stds['num_tot_samples'] >= MIN_TOT_SAMP_THRESH)), :]\n",
    "print(f\"Total in TNX non-standards that meet case threshold [n >= {MIN_CASE_THRESH}] and total sample threshold [n >= {MIN_TOT_SAMP_THRESH}]:  {len(tnx_non_stds)}\")\n",
    "\n",
    "tnx = pd.concat([tnx_stds, tnx_non_stds])\n",
    "print(f\"Total in combined TNX that meet thresholds: {len(tnx)}\")"
   ]
  },
  {
   "cell_type": "markdown",
   "metadata": {},
   "source": [
    "# Work on UKB"
   ]
  },
  {
   "cell_type": "markdown",
   "metadata": {},
   "source": [
    "## Calculate per-disease FDR corrected NOMINAL p-value"
   ]
  },
  {
   "cell_type": "code",
   "execution_count": null,
   "metadata": {
    "ExecuteTime": {
     "end_time": "2023-08-25T13:45:47.195081Z",
     "start_time": "2023-08-25T13:45:45.479784Z"
    },
    "code_folding": []
   },
   "outputs": [],
   "source": [
    "icd_ls = ukb['icd'].unique().tolist()\n",
    "\n",
    "fin_ukb_ls = [] \n",
    "for curr_icd in tqdm(icd_ls):\n",
    "    curr_dis_res = ukb.loc[ukb['icd'] == curr_icd, :].copy(deep = True)\n",
    "\n",
    "    curr_dis_res['per_dis_bh_fdr_corr_nom_p'] = mt(curr_dis_res['p_val'], \n",
    "                                                   alpha = 0.05, method = 'fdr_bh')[1]\n",
    "\n",
    "    fin_ukb_ls.extend(curr_dis_res.values.tolist())\n",
    "    \n",
    "fin_ukb = pd.DataFrame(fin_ukb_ls, columns = ukb.columns.tolist() + ['per_dis_bh_fdr_corr_nom_p'])"
   ]
  },
  {
   "cell_type": "markdown",
   "metadata": {},
   "source": [
    "## Collapse to from Antibody to pathogen level (keeping most significant FDR corr nom p)"
   ]
  },
  {
   "cell_type": "code",
   "execution_count": null,
   "metadata": {
    "ExecuteTime": {
     "end_time": "2023-08-25T13:46:00.921618Z",
     "start_time": "2023-08-25T13:46:00.860753Z"
    }
   },
   "outputs": [],
   "source": [
    "# 19,289\n",
    "print(f\"Total dis-Ab pairs in UKB: {len(fin_ukb)}\")\n",
    "\n",
    "fin_ukb = fin_ukb.sort_values(['icd', 'org', 'per_dis_bh_fdr_corr_nom_p'])\n",
    "fin_ukb = fin_ukb.drop_duplicates(['icd', 'org'], keep = 'first')\n",
    "\n",
    "# 8,616\n",
    "print(f\"Total dis-Org pairs in UKB: {len(fin_ukb)}\")"
   ]
  },
  {
   "cell_type": "markdown",
   "metadata": {},
   "source": [
    "# Work on TNX results"
   ]
  },
  {
   "cell_type": "markdown",
   "metadata": {},
   "source": [
    "## Limit TNX to selected UKB dis-org pairs"
   ]
  },
  {
   "cell_type": "code",
   "execution_count": null,
   "metadata": {
    "ExecuteTime": {
     "end_time": "2023-08-25T13:46:36.610183Z",
     "start_time": "2023-08-25T13:46:36.533169Z"
    }
   },
   "outputs": [],
   "source": [
    "print(\"Orgs:\")\n",
    "print(set(tnx['org'].unique().tolist()).difference(set(ukb['tag'].unique().tolist())))\n",
    "print(set(ukb['tag'].unique().tolist()).difference(set(tnx['org'].unique().tolist())))\n",
    "\n",
    "print(\"Antibodies:\")\n",
    "print(set(tnx['anti'].unique().tolist()).difference(set(ukb['anti'].unique().tolist())))\n",
    "print(set(ukb['anti'].unique().tolist()).difference(set(tnx['anti'].unique().tolist())))\n",
    "\n",
    "print(\"Diseases:\")\n",
    "print(set(tnx['icd'].unique().tolist()).difference(set(ukb['icd'].unique().tolist())))\n",
    "print(set(ukb['icd'].unique().tolist()).difference(set(tnx['icd'].unique().tolist())))"
   ]
  },
  {
   "cell_type": "code",
   "execution_count": null,
   "metadata": {
    "ExecuteTime": {
     "end_time": "2023-05-02T13:29:24.346549Z",
     "start_time": "2023-05-02T13:29:24.343431Z"
    },
    "code_folding": []
   },
   "outputs": [],
   "source": [
    "# Some diseases in TNX that are not in UKB results most likely filtered out\n",
    "# by minimum number of case/control requirements\n",
    "\n",
    "# No TNX tests for the following orgs: \n",
    "# 'hhv7'\n",
    "# 'htlv'\n",
    "# 'mcv'\n",
    "\n",
    "# No UKB results for the following ICDs by BH Corrected NOMINAL P:\n",
    "# 'C15','C16','C25','C49','C53','C62','C71','C73','C82',\n",
    "# 'D07','D09','D56',\n",
    "# 'E29','E61','E73','E88',\n",
    "# 'F00','F06','F09','F22','F42',\n",
    "# 'G31','G37','G52','G60','G63','G64','G82','G83','G90','G96',\n",
    "# 'H21','H46','H49','H71',\n",
    "# 'I05','I07','I11','I62','I85','I99',\n",
    "# 'J10','J13','J15','J36','J37','J81','J86','J91',\n",
    "# 'K06','K09',\n",
    "# 'L04','L23','L63','L68','L93','L94',\n",
    "# 'M00','M11','M40','M60','M92','M96',\n",
    "# 'N05','N08','N46','N71',\n",
    "# 'O00','O13','O16','O20','O24','O30','O42','O46','O47','O60','O62','O66','O69','O75'\n",
    "\n",
    "# No TNX diags for the following ICDs:\n",
    "# 'E14'\n",
    "# 'I64'\n",
    "# 'I84'\n",
    "# 'K07'\n",
    "# 'K10'"
   ]
  },
  {
   "cell_type": "markdown",
   "metadata": {},
   "source": [
    "## First filter our TNX results to just those for the necessary Dis-Org-Ab pair from UKB"
   ]
  },
  {
   "cell_type": "code",
   "execution_count": null,
   "metadata": {
    "ExecuteTime": {
     "end_time": "2023-08-25T13:51:36.333102Z",
     "start_time": "2023-08-25T13:47:37.529312Z"
    },
    "code_folding": []
   },
   "outputs": [],
   "source": [
    "ukb_vals = fin_ukb.loc[:, ['icd', 'tag', 'anti']].values.tolist()\n",
    "\n",
    "filt_tnx_ls = []\n",
    "for curr_icd, curr_org, curr_anti in tqdm(ukb_vals):\n",
    "    \n",
    "    sel_tnx = tnx.loc[((tnx['icd'] == curr_icd) & \n",
    "                       (tnx['org'] == curr_org) &\n",
    "                       (tnx['anti'] == curr_anti)), :].values.tolist()\n",
    "\n",
    "\n",
    "    #print(f\"{curr_icd}|{curr_org}|{curr_anti}: {len(sel_aou)}\")\n",
    "\n",
    "    filt_tnx_ls.extend(sel_tnx)\n",
    "    \n",
    "filt_tnx = pd.DataFrame(filt_tnx_ls, columns = tnx.columns)\n",
    "\n",
    "# 56,277\n",
    "print(len(filt_tnx))"
   ]
  },
  {
   "cell_type": "markdown",
   "metadata": {},
   "source": [
    "## Calculate TNX per-disease FDR corrected NOMINAL p-value"
   ]
  },
  {
   "cell_type": "code",
   "execution_count": null,
   "metadata": {
    "ExecuteTime": {
     "end_time": "2023-08-25T13:54:38.737598Z",
     "start_time": "2023-08-25T13:54:35.954919Z"
    },
    "code_folding": []
   },
   "outputs": [],
   "source": [
    "filt_tnx.loc[:, 'p_val'] = filt_tnx.loc[:, 'p_val'].astype(float)\n",
    "\n",
    "icd_ls = filt_tnx['icd'].unique().tolist()\n",
    "\n",
    "fin_tnx_ls = [] \n",
    "for curr_icd in tqdm(icd_ls):\n",
    "    curr_dis_res = filt_tnx.loc[filt_tnx['icd'] == curr_icd, :].copy(deep = True)\n",
    "\n",
    "    curr_dis_res['per_dis_bh_fdr_corr_p'] = mt(curr_dis_res['p_val'], \n",
    "                                                   alpha = 0.05, method = 'fdr_bh')[1]\n",
    "\n",
    "    fin_tnx_ls.extend(curr_dis_res.values.tolist())\n",
    "    \n",
    "fin_tnx = pd.DataFrame(fin_tnx_ls, columns = filt_tnx.columns.tolist() + ['per_dis_bh_fdr_corr_p'])"
   ]
  },
  {
   "cell_type": "markdown",
   "metadata": {},
   "source": [
    "# Merge cleaned UKB and cleaned TNX results"
   ]
  },
  {
   "cell_type": "code",
   "execution_count": null,
   "metadata": {
    "ExecuteTime": {
     "end_time": "2023-08-25T13:55:16.371944Z",
     "start_time": "2023-08-25T13:55:16.367335Z"
    }
   },
   "outputs": [],
   "source": [
    "fin_ukb.columns = [f'ukb_{x}' for x in fin_ukb.columns.tolist()] \n",
    "fin_tnx.columns = [f'tnx_{x}' for x in fin_tnx.columns.tolist()] "
   ]
  },
  {
   "cell_type": "code",
   "execution_count": null,
   "metadata": {
    "ExecuteTime": {
     "end_time": "2023-08-25T13:56:59.537214Z",
     "start_time": "2023-08-25T13:56:59.164679Z"
    }
   },
   "outputs": [],
   "source": [
    "# nrow UKB: 8616\n",
    "# nrow TNX: 56277\n",
    "# nrow combo: 58398\n",
    "print(f\"nrow UKB: {len(fin_ukb)}\")\n",
    "print(f\"nrow TNX: {len(fin_tnx)}\")\n",
    "\n",
    "combo = fin_ukb.merge(fin_tnx, how = 'left',\n",
    "                      left_on = ['ukb_icd', 'ukb_tag', 'ukb_anti'],\n",
    "                      right_on = ['tnx_icd', 'tnx_org', 'tnx_anti'])\n",
    "\n",
    "print(f\"nrow combo: {len(combo)}\")\n"
   ]
  },
  {
   "cell_type": "code",
   "execution_count": null,
   "metadata": {
    "ExecuteTime": {
     "end_time": "2023-08-25T13:57:37.862712Z",
     "start_time": "2023-08-25T13:57:37.749688Z"
    },
    "code_folding": []
   },
   "outputs": [],
   "source": [
    "combo = combo.loc[:, ['ukb_Disease', 'ukb_icd', 'ukb_tag', 'ukb_anti',  'ukb_std_lev',\n",
    "                      'tnx_test_type', 'tnx_test_id', 'tnx_test', 'tnx_mod_method',\n",
    "                      'ukb_sex_specific_dis', 'ukb_nCase', 'ukb_nControl',\n",
    "                      'ukb_control_set', 'ukb_n_mixed',\n",
    "                      'tnx_dis_sex', 'tnx_num_case', 'tnx_num_con',\n",
    "                      'tnx_con_str', 'tnx_n_mixed',\n",
    "                      \n",
    "                      'ukb_per_dis_bh_fdr_corr_nom_p', 'ukb_mod_3_emp_p', 'ukb_p_val',\n",
    "                      'tnx_per_dis_bh_fdr_corr_p', 'tnx_p_val',\n",
    "\n",
    "                      \n",
    "                      'ukb_anti_OR',  'tnx_OR',\n",
    "\n",
    "                      'ukb_sig_covs', 'ukb_cov_adj_for',\n",
    "                      \n",
    "                      'ukb_Warnings', 'ukb_is_warning',\n",
    "                      'tnx_glm_warn_msg', 'tnx_glm_warn_bool',\n",
    "                      \n",
    "                      'ukb_model', 'tnx_model',\n",
    "                      \n",
    "                      'ukb_cov_ps',  'ukb_cov_ors', 'tnx_cov_adj',\n",
    "                      'tnx_cov_ps', 'tnx_cov_or',\n",
    "                      'ukb_anti_CI',  'tnx_CI',\n",
    "\n",
    "                      \n",
    "                      'ukb_avg_age_case',  'ukb_avg_avg_con', \n",
    "                      'ukb_avg_titer_case', 'ukb_avg_titer_con',\n",
    "                      'ukb_std_titer_case', 'ukb_std_titer_con', \n",
    "                      'ukb_med_titer_case', 'ukb_med_titer_con',\n",
    "                       \n",
    "                      'tnx_case_age', 'tnx_con_age', 'tnx_case_titer', 'tnx_con_titer',\n",
    "                      'tnx_case_titer_std', 'tnx_con_titer_std',\n",
    "                      'tnx_case_titer_med', 'tnx_con_titer_med',\n",
    "                      'tnx_n_con_neg', 'tnx_n_con_pos', 'tnx_n_case_neg', 'tnx_n_case_pos',\n",
    "                      'tnx_log_trans', \n",
    "                      \n",
    "                      \n",
    "                      'ukb_tot_dis_perms', 'ukb_perms_lt_mod_3_p',\n",
    "                      'tnx_note_str',\n",
    "                     ]]\n",
    "\n",
    "combo = combo.rename(columns = {\n",
    "                         'ukb_Disease' : 'disease',\n",
    "                         'ukb_icd' : 'icd',\n",
    "                         'ukb_tag' : 'org',\n",
    "                         'ukb_anti' : 'anti',\n",
    "                         'ukb_std_lev' : 'std_lev',\n",
    "})"
   ]
  },
  {
   "cell_type": "code",
   "execution_count": null,
   "metadata": {
    "ExecuteTime": {
     "end_time": "2023-08-25T13:58:20.998822Z",
     "start_time": "2023-08-25T13:58:20.954104Z"
    }
   },
   "outputs": [],
   "source": [
    "# Combo verified to have:\n",
    "# A row for every UKB result no matter if there is TNX test or not\n",
    "#   1 row (UKB result) - no TNX tests for A60 x BKV\n",
    "#   combo.loc[((combo['icd'] == 'A60') & (combo['org'] == 'bkv')), :]\n",
    "\n",
    "# A row for each TNX test matched to it's correct UKB row\n",
    "#   19 rows - 1 row for each TNX test \n",
    "#   combo.loc[((combo['icd'] == 'A60') & (combo['org'] == 'chlam')), :]\n",
    "\n",
    "# See if there are any rows where there is an TNX test (not null)\n",
    "# and the disease sexes don't match\n",
    "\n",
    "# All good - empty\n",
    "print(combo.loc[((combo['ukb_sex_specific_dis'] != combo['tnx_dis_sex']) &\n",
    "           (combo['tnx_test_type'].notnull())), :])\n",
    "\n",
    "# Also, make sure the control sets are the same for both UKB and TNX\n",
    "# All good - empty \n",
    "print(combo.loc[((combo['ukb_control_set'] != combo['tnx_con_str']) &\n",
    "           (combo['tnx_test_type'].notnull())), :])"
   ]
  },
  {
   "cell_type": "markdown",
   "metadata": {},
   "source": [
    "# Do some cleaning"
   ]
  },
  {
   "cell_type": "markdown",
   "metadata": {},
   "source": [
    "## Convert some columns to ints"
   ]
  },
  {
   "cell_type": "code",
   "execution_count": null,
   "metadata": {
    "ExecuteTime": {
     "end_time": "2023-08-25T13:59:32.093399Z",
     "start_time": "2023-08-25T13:59:32.009424Z"
    },
    "code_folding": [
     0
    ]
   },
   "outputs": [],
   "source": [
    "combo.loc[:, ['ukb_nCase', 'ukb_nControl', 'ukb_n_mixed',\n",
    "              'tnx_num_case', 'tnx_num_con']] = combo.loc[:, ['ukb_nCase', 'ukb_nControl', 'ukb_n_mixed',\n",
    "                                                              'tnx_num_case', 'tnx_num_con']].astype(\"Int64\")\n",
    "\n",
    "# Workaround for apparently known bug?\n",
    "# https://stackoverflow.com/a/60024263\n",
    "#combo.loc[:, 'tnx_n_mixed'] = combo['tnx_n_mixed'].astype(str)\n",
    "#combo.loc[:, 'tnx_n_mixed'] = combo['tnx_n_mixed'].str.strip()\n",
    "combo.loc[:, 'tnx_n_mixed'] = combo.loc[:, 'tnx_n_mixed'].astype(float)\n",
    "combo.loc[:, 'tnx_n_mixed'] = combo.loc[:, 'tnx_n_mixed'].astype(\"Int64\")\n",
    "\n",
    "\n",
    "#combo.loc[:, 'tnx_n_con_neg'] = combo['tnx_n_con_neg'].str.strip()\n",
    "combo.loc[:, 'tnx_n_con_neg'] = combo.loc[:, 'tnx_n_con_neg'].astype(float)\n",
    "combo.loc[:, 'tnx_n_con_neg'] = combo.loc[:, 'tnx_n_con_neg'].astype(\"Int64\")\n",
    "\n",
    "\n",
    "#combo.loc[:, 'tnx_n_con_pos'] = combo['tnx_n_con_pos'].str.strip()\n",
    "combo.loc[:, 'tnx_n_con_pos'] = combo.loc[:, 'tnx_n_con_pos'].astype(float)\n",
    "combo.loc[:, 'tnx_n_con_pos'] = combo.loc[:, 'tnx_n_con_pos'].astype(\"Int64\")\n",
    "\n",
    "\n",
    "\n",
    "#combo.loc[:, 'tnx_n_case_neg'] = combo['tnx_n_case_neg'].str.strip()\n",
    "combo.loc[:, 'tnx_n_case_neg'] = combo.loc[:, 'tnx_n_case_neg'].astype(float)\n",
    "combo.loc[:, 'tnx_n_case_neg'] = combo.loc[:, 'tnx_n_case_neg'].astype(\"Int64\")\n",
    "\n",
    "\n",
    "\n",
    "#combo.loc[:, 'tnx_n_case_pos'] = combo['tnx_n_case_pos'].str.strip()\n",
    "combo.loc[:, 'tnx_n_case_pos'] = combo.loc[:, 'tnx_n_case_pos'].astype(float)\n",
    "combo.loc[:, 'tnx_n_case_pos'] = combo.loc[:, 'tnx_n_case_pos'].astype(\"Int64\")\n"
   ]
  },
  {
   "cell_type": "code",
   "execution_count": null,
   "metadata": {
    "ExecuteTime": {
     "end_time": "2023-08-25T14:00:09.921067Z",
     "start_time": "2023-08-25T14:00:09.907293Z"
    }
   },
   "outputs": [],
   "source": [
    "# Verify\n",
    "combo.loc[:, ['ukb_nCase', 'ukb_nControl', 'ukb_n_mixed',\n",
    "              'tnx_num_case', 'tnx_num_con', 'tnx_n_mixed', \n",
    "              'tnx_n_con_neg', 'tnx_n_con_pos', \n",
    "              'tnx_n_case_neg', 'tnx_n_case_pos']].info()"
   ]
  },
  {
   "cell_type": "markdown",
   "metadata": {},
   "source": [
    "## Annotate risk"
   ]
  },
  {
   "cell_type": "code",
   "execution_count": null,
   "metadata": {
    "ExecuteTime": {
     "end_time": "2023-08-25T14:01:59.411127Z",
     "start_time": "2023-08-25T14:01:59.387603Z"
    }
   },
   "outputs": [],
   "source": [
    "combo.loc[:, ['ukb_anti_OR', 'tnx_OR']] = combo.loc[:, ['ukb_anti_OR', 'tnx_OR']].astype(float)\n",
    "\n",
    "combo['ukb_risk'] = False\n",
    "combo.loc[combo['ukb_anti_OR'] > 1, 'ukb_risk'] = True\n",
    "\n",
    "combo['tnx_risk'] = False\n",
    "combo.loc[combo['tnx_OR'] > 1, 'tnx_risk'] = True"
   ]
  },
  {
   "cell_type": "markdown",
   "metadata": {},
   "source": [
    "# Collapse to best TNX result"
   ]
  },
  {
   "cell_type": "markdown",
   "metadata": {},
   "source": [
    "## Make small function"
   ]
  },
  {
   "cell_type": "code",
   "execution_count": null,
   "metadata": {
    "ExecuteTime": {
     "end_time": "2023-08-25T14:02:55.714353Z",
     "start_time": "2023-08-25T14:02:55.703166Z"
    },
    "code_folding": [
     2
    ]
   },
   "outputs": [],
   "source": [
    "# Similar to round, but if the decimal cannot be represented by the number of digits we switch to\n",
    "# sci notation with that many digits in the significand.\n",
    "def make_small(num, digits):\n",
    "    if digits < 1:\n",
    "        print(\"Requires positive number of digits\")\n",
    "        return\n",
    "\n",
    "    dig_min_1 = digits - 1\n",
    "\n",
    "    low_bound = 1 / (10 ** (dig_min_1))\n",
    "    up_bound = 10 ** (dig_min_1)\n",
    "\n",
    "    if ((num < low_bound) | (num > up_bound)):\n",
    "        #print(f\"{low_bound} < X < {up_bound} : No\")\n",
    "        return \"{:.{}e}\".format(num, dig_min_1)\n",
    "\n",
    "    #print(f\"{low_bound} < X < {up_bound} : Yes\")\n",
    "    return round(num, digits)"
   ]
  },
  {
   "cell_type": "markdown",
   "metadata": {},
   "source": [
    "## Actual loop"
   ]
  },
  {
   "cell_type": "code",
   "execution_count": null,
   "metadata": {
    "ExecuteTime": {
     "end_time": "2023-08-25T14:05:44.537008Z",
     "start_time": "2023-08-25T14:03:36.576501Z"
    },
    "code_folding": [
     3
    ]
   },
   "outputs": [],
   "source": [
    "icd_org_ls = combo.loc[:, ['icd', 'org']].drop_duplicates().values.tolist()\n",
    "\n",
    "fin_combo_ls = []\n",
    "for curr_icd, curr_org in tqdm(icd_org_ls):\n",
    "    \n",
    "    #print(f\"{curr_icd} {curr_org}\")\n",
    "    curr_res = combo.loc[((combo['icd'] == curr_icd) &\n",
    "                      (combo['org'] == curr_org)), :].copy(deep = True)\n",
    "\n",
    "    \n",
    "    # No TNX tests\n",
    "    if (len(curr_res) == 1) & (all(curr_res['tnx_test_id'].isna())):\n",
    "\n",
    "        curr_res['other_test_str'] = ''\n",
    "        curr_res['or_flip_tnx_tests'] = ''\n",
    "\n",
    "        fin_combo_ls.extend(curr_res.values.tolist())\n",
    "\n",
    "        continue\n",
    "    \n",
    "    \n",
    "    # If organism is risk\n",
    "    is_ukb_risk = curr_res['ukb_risk'].unique().tolist()[0]\n",
    "\n",
    "    # Risk\n",
    "    if is_ukb_risk:\n",
    "\n",
    "        curr_tnx_res = curr_res.loc[curr_res['tnx_risk'] == True, :]\n",
    "        curr_tnx_opp_res = curr_res.loc[curr_res['tnx_risk'] == False, :]\n",
    "\n",
    "    # Protective\n",
    "    else:\n",
    "\n",
    "        curr_tnx_res = curr_res.loc[curr_res['tnx_risk'] == False, :]\n",
    "        curr_tnx_opp_res = curr_res.loc[curr_res['tnx_risk'] == True, :]\n",
    "\n",
    "    curr_tnx_res = curr_tnx_res.sort_values(['tnx_per_dis_bh_fdr_corr_p'], ascending = True).reset_index(drop = True)\n",
    "\n",
    "    \n",
    "    # No tests in the same direction, so get most sig in oppsite direction\n",
    "    if len(curr_tnx_res) == 0:    \n",
    "        curr_tnx_opp_res = curr_tnx_opp_res.sort_values(['tnx_per_dis_bh_fdr_corr_p'], ascending = True).reset_index(drop = True)\n",
    "        # get most sig ***REMOVED*** p\n",
    "        best_tnx = curr_tnx_opp_res.iloc[0].copy(deep = True)\n",
    "\n",
    "        # Grab the rest of the tests (less sig)\n",
    "        rest_tnx = curr_tnx_opp_res.iloc[1:].copy(deep = True)\n",
    "        rest_tnx = rest_tnx.reset_index(drop = True)\n",
    "\n",
    "        \n",
    "        # Throw the rest of the tests in a column of best_tnx\n",
    "        if len(rest_tnx) > 0:\n",
    "            best_tnx['or_flip_tnx_tests'] =  rest_tnx.agg( lambda x: f\"{x['tnx_test_id']} [{x['tnx_test']}, {x['tnx_mod_method']}]:  nCase: {x['tnx_num_case']} | nCon: {x['tnx_num_con']}, corr p-val: {make_small(x['tnx_per_dis_bh_fdr_corr_p'],3)}, uncorr p-val: {make_small(x['tnx_p_val'], 3)}, OR: {make_small(x['tnx_OR'], 3)} | model: {x['tnx_model']}, glm_warn [{x['tnx_glm_warn_bool']}]: {x['tnx_glm_warn_msg']} log10 trans: {x['tnx_log_trans']} | Notes: {x['tnx_note_str']}\", axis = 1)\n",
    "        else:\n",
    "            best_tnx['or_flip_tnx_tests'] = ''\n",
    "\n",
    "\n",
    "        if len(curr_tnx_opp_res) > 0:\n",
    "            best_tnx['other_test_str'] =  curr_tnx_opp_res.agg( lambda x: f\"{x['tnx_test_id']} [{x['tnx_test']}, {x['tnx_mod_method']}]:  nCase: {x['tnx_num_case']} | nCon: {x['tnx_num_con']}, corr p-val: {make_small(x['tnx_per_dis_bh_fdr_corr_p'],3)}, uncorr p-val: {make_small(x['tnx_p_val'], 3)}, OR: {make_small(x['tnx_OR'], 3)} | model: {x['tnx_model']}, glm_warn [{x['tnx_glm_warn_bool']}]: {x['tnx_glm_warn_msg']} log10 trans: {x['tnx_log_trans']} | Notes: {x['tnx_note_str']}\", axis = 1)\n",
    "        else:\n",
    "            best_tnx['other_test_str'] = ''\n",
    "\n",
    "        fin_combo_ls.append(best_tnx.values.tolist())\n",
    "    \n",
    "    \n",
    "    else:\n",
    "        # get most sig ***REMOVED*** p\n",
    "        best_tnx = curr_tnx_res.iloc[0].copy(deep = True)\n",
    "\n",
    "        # Grab the rest of the tests (less sig)\n",
    "        rest_tnx = curr_tnx_res.iloc[1:].copy(deep = True)\n",
    "        rest_tnx = rest_tnx.reset_index(drop = True)\n",
    "\n",
    "        # Throw the rest of the tests in a column of best_tnx\n",
    "        if len(rest_tnx) > 0:\n",
    "            best_tnx['other_test_str'] =  rest_tnx.agg( lambda x: f\"{x['tnx_test_id']}  [{x['tnx_test']}, {x['tnx_mod_method']}]:  nCase: {x['tnx_num_case']} | nCon: {x['tnx_num_con']}, corr p-val: {make_small(x['tnx_per_dis_bh_fdr_corr_p'],3)}, uncorr p-val: {make_small(x['tnx_p_val'], 3)}, OR: {make_small(x['tnx_OR'], 3)} | model: {x['tnx_model']}, glm_warn [{x['tnx_glm_warn_bool']}]: {x['tnx_glm_warn_msg']} log10 trans: {x['tnx_log_trans']} | Notes: {x['tnx_note_str']}\", axis = 1)\n",
    "        else:\n",
    "            best_tnx['other_test_str'] = ''\n",
    "\n",
    "\n",
    "        if len(curr_tnx_opp_res) > 0:\n",
    "            best_tnx['or_flip_tnx_tests'] =  curr_tnx_opp_res.agg( lambda x: f\"{x['tnx_test_id']} [{x['tnx_test']}, {x['tnx_mod_method']}]:  nCase: {x['tnx_num_case']} | nCon: {x['tnx_num_con']}, corr p-val: {make_small(x['tnx_per_dis_bh_fdr_corr_p'],3)}, uncorr p-val: {make_small(x['tnx_p_val'], 3)}, OR: {make_small(x['tnx_OR'], 3)} | model: {x['tnx_model']}, glm_warn [{x['tnx_glm_warn_bool']}]: {x['tnx_glm_warn_msg']} log10 trans: {x['tnx_log_trans']} | Notes: {x['tnx_note_str']}\", axis = 1)\n",
    "        else:\n",
    "            best_tnx['or_flip_tnx_tests'] = ''\n",
    "\n",
    "        fin_combo_ls.append(best_tnx.values.tolist())\n",
    "    \n",
    "fin_combo = pd.DataFrame(fin_combo_ls, columns = combo.columns.tolist() + ['other_test_str', 'or_flip_tnx_tests'])\n",
    "\n",
    "# 8,616\n",
    "print(len(fin_combo))"
   ]
  },
  {
   "cell_type": "code",
   "execution_count": null,
   "metadata": {
    "ExecuteTime": {
     "end_time": "2023-08-25T14:13:51.062799Z",
     "start_time": "2023-08-25T14:13:51.047518Z"
    }
   },
   "outputs": [],
   "source": [
    "fin = fin_combo.copy(deep = True)\n",
    "\n",
    "# TNX: 8,616 -> dis-Ab to dis-org collapsing has already occurred.\n",
    "print(len(fin))"
   ]
  },
  {
   "cell_type": "code",
   "execution_count": null,
   "metadata": {
    "ExecuteTime": {
     "end_time": "2023-08-25T14:16:18.728235Z",
     "start_time": "2023-08-25T14:16:18.705762Z"
    }
   },
   "outputs": [],
   "source": [
    "fin = fin.sort_values(['icd', 'org', 'ukb_per_dis_bh_fdr_corr_nom_p'])"
   ]
  },
  {
   "cell_type": "markdown",
   "metadata": {},
   "source": [
    "# Mark replication status for each Disease-Pathogen Pair"
   ]
  },
  {
   "cell_type": "code",
   "execution_count": null,
   "metadata": {
    "ExecuteTime": {
     "end_time": "2023-08-25T14:28:48.791788Z",
     "start_time": "2023-08-25T14:28:48.740389Z"
    }
   },
   "outputs": [],
   "source": [
    "UKB_THRESH = 0.3\n",
    "TNX_THRESH = 0.01\n",
    "\n",
    "org_lev_res = fin.copy(deep = True)\n",
    "\n",
    "# Default: 'did_not_attempt'\n",
    "org_lev_res['rep_stat'] = 'did_not_attempt'\n",
    "\n",
    "\n",
    "# Rep: UKB and TNX sig\n",
    "org_lev_res.loc[((org_lev_res.loc[:, 'ukb_per_dis_bh_fdr_corr_nom_p'] < UKB_THRESH) & \n",
    "                 (org_lev_res.loc[:, 'tnx_per_dis_bh_fdr_corr_p'] < TNX_THRESH)), \n",
    "                'rep_stat'] = 'replicated'\n",
    "\n",
    "\n",
    "# Could not: UKB sig but no TNX test\n",
    "org_lev_res.loc[((org_lev_res.loc[:, 'ukb_per_dis_bh_fdr_corr_nom_p'] < UKB_THRESH ) & \n",
    "                 (org_lev_res['tnx_p_val'].isna())), 'rep_stat'] = 'could_not'\n",
    "\n",
    "\n",
    "# Did not: UKB sig and either (TNX not sig) or (TNX sig but OR in opposite direction of UKB)\n",
    "org_lev_res.loc[(\n",
    "\n",
    "            (org_lev_res['ukb_per_dis_bh_fdr_corr_nom_p'] < UKB_THRESH) & \n",
    "\n",
    "            (\n",
    "                (org_lev_res['tnx_per_dis_bh_fdr_corr_p'] >= TNX_THRESH) |\n",
    "\n",
    "                (\n",
    "                    (org_lev_res.loc[:, 'tnx_per_dis_bh_fdr_corr_p'] < TNX_THRESH) &\n",
    "                    (org_lev_res['ukb_risk'] !=  org_lev_res['tnx_risk'])\n",
    "                )\n",
    "\n",
    "            )\n",
    "        ), 'rep_stat'] = 'did_not'\n",
    "\n",
    "org_lev_res.loc[:, 'std_lev'] = org_lev_res.loc[:, 'std_lev'].replace({\n",
    "                                                            'true_neg' : 'exp_neg',\n",
    "                                                            'Gold' : 'Tier 1',\n",
    "                                                            'Silver' : 'Tier 2',\n",
    "                                                            'unk'   : 'unk'\n",
    "                                                        })\n",
    "\n",
    "org_lev_res['pair_is_associated'] = 'No'\n",
    "org_lev_res.loc[org_lev_res['rep_stat'] == 'replicated', 'pair_is_associated'] = 'Yes'"
   ]
  },
  {
   "cell_type": "code",
   "execution_count": null,
   "metadata": {
    "ExecuteTime": {
     "end_time": "2023-08-25T14:37:46.178842Z",
     "start_time": "2023-08-25T14:37:46.071486Z"
    },
    "code_folding": [
     0
    ]
   },
   "outputs": [],
   "source": [
    "# Set all did not attempt TNX stuff to NA\n",
    "org_lev_res.loc[org_lev_res['rep_stat'] == 'did_not_attempt', 'tnx_test_type'] = np.nan\n",
    "org_lev_res.loc[org_lev_res['rep_stat'] == 'did_not_attempt', 'tnx_test_id'] = np.nan\n",
    "org_lev_res.loc[org_lev_res['rep_stat'] == 'did_not_attempt', 'tnx_test'] = np.nan\n",
    "org_lev_res.loc[org_lev_res['rep_stat'] == 'did_not_attempt', 'tnx_mod_method'] = np.nan\n",
    "org_lev_res.loc[org_lev_res['rep_stat'] == 'did_not_attempt', 'tnx_dis_sex'] = np.nan\n",
    "org_lev_res.loc[org_lev_res['rep_stat'] == 'did_not_attempt', 'tnx_num_case'] = np.nan\n",
    "org_lev_res.loc[org_lev_res['rep_stat'] == 'did_not_attempt', 'tnx_num_con'] = np.nan\n",
    "org_lev_res.loc[org_lev_res['rep_stat'] == 'did_not_attempt', 'tnx_con_str'] = np.nan\n",
    "org_lev_res.loc[org_lev_res['rep_stat'] == 'did_not_attempt', 'tnx_n_mixed'] = np.nan\n",
    "org_lev_res.loc[org_lev_res['rep_stat'] == 'did_not_attempt', 'tnx_per_dis_bh_fdr_corr_p'] = np.nan\n",
    "org_lev_res.loc[org_lev_res['rep_stat'] == 'did_not_attempt', 'tnx_p_val'] = np.nan\n",
    "org_lev_res.loc[org_lev_res['rep_stat'] == 'did_not_attempt', 'tnx_OR'] = np.nan\n",
    "org_lev_res.loc[org_lev_res['rep_stat'] == 'did_not_attempt', 'tnx_glm_warn_msg'] = np.nan\n",
    "org_lev_res.loc[org_lev_res['rep_stat'] == 'did_not_attempt', 'tnx_glm_warn_bool'] = np.nan\n",
    "org_lev_res.loc[org_lev_res['rep_stat'] == 'did_not_attempt', 'tnx_model'] = np.nan\n",
    "org_lev_res.loc[org_lev_res['rep_stat'] == 'did_not_attempt', 'tnx_cov_adj'] = np.nan\n",
    "org_lev_res.loc[org_lev_res['rep_stat'] == 'did_not_attempt', 'tnx_cov_ps'] = np.nan\n",
    "org_lev_res.loc[org_lev_res['rep_stat'] == 'did_not_attempt', 'tnx_cov_or'] = np.nan\n",
    "org_lev_res.loc[org_lev_res['rep_stat'] == 'did_not_attempt', 'tnx_CI'] = np.nan\n",
    "org_lev_res.loc[org_lev_res['rep_stat'] == 'did_not_attempt', 'tnx_case_age'] = np.nan\n",
    "org_lev_res.loc[org_lev_res['rep_stat'] == 'did_not_attempt', 'tnx_con_age'] = np.nan\n",
    "org_lev_res.loc[org_lev_res['rep_stat'] == 'did_not_attempt', 'tnx_case_titer'] = np.nan\n",
    "org_lev_res.loc[org_lev_res['rep_stat'] == 'did_not_attempt', 'tnx_con_titer'] = np.nan\n",
    "org_lev_res.loc[org_lev_res['rep_stat'] == 'did_not_attempt', 'tnx_case_titer_std'] = np.nan\n",
    "org_lev_res.loc[org_lev_res['rep_stat'] == 'did_not_attempt', 'tnx_con_titer_std'] = np.nan\n",
    "org_lev_res.loc[org_lev_res['rep_stat'] == 'did_not_attempt', 'tnx_case_titer_med'] = np.nan\n",
    "org_lev_res.loc[org_lev_res['rep_stat'] == 'did_not_attempt', 'tnx_con_titer_med'] = np.nan\n",
    "org_lev_res.loc[org_lev_res['rep_stat'] == 'did_not_attempt', 'tnx_n_con_neg'] = np.nan\n",
    "org_lev_res.loc[org_lev_res['rep_stat'] == 'did_not_attempt', 'tnx_n_con_pos'] = np.nan\n",
    "org_lev_res.loc[org_lev_res['rep_stat'] == 'did_not_attempt', 'tnx_n_case_neg'] = np.nan\n",
    "org_lev_res.loc[org_lev_res['rep_stat'] == 'did_not_attempt', 'tnx_n_case_pos'] = np.nan\n",
    "org_lev_res.loc[org_lev_res['rep_stat'] == 'did_not_attempt', 'tnx_log_trans'] = np.nan\n",
    "org_lev_res.loc[org_lev_res['rep_stat'] == 'did_not_attempt', 'tnx_note_str'] = np.nan"
   ]
  },
  {
   "cell_type": "markdown",
   "metadata": {},
   "source": [
    "## Re-org some cols"
   ]
  },
  {
   "cell_type": "code",
   "execution_count": null,
   "metadata": {
    "ExecuteTime": {
     "end_time": "2023-08-25T14:41:09.170275Z",
     "start_time": "2023-08-25T14:41:09.137373Z"
    }
   },
   "outputs": [],
   "source": [
    "org_lev_res = org_lev_res.loc[:, ['disease', 'icd', 'org', 'anti', \n",
    "                                  'pair_is_associated',  'std_lev', 'rep_stat', 'tnx_test_type', \n",
    "                                   'tnx_test_id', 'tnx_test', 'tnx_mod_method', 'ukb_sex_specific_dis',\n",
    "                                   'ukb_nCase', 'ukb_nControl', 'ukb_control_set', 'ukb_n_mixed',\n",
    "                                   'tnx_dis_sex', 'tnx_num_case', 'tnx_num_con', 'tnx_con_str',\n",
    "                                   'tnx_n_mixed', 'ukb_per_dis_bh_fdr_corr_nom_p',\n",
    "                                   'tnx_per_dis_bh_fdr_corr_p', 'ukb_mod_3_emp_p', 'ukb_p_val',\n",
    "                                   'tnx_p_val', 'ukb_anti_OR', 'tnx_OR', 'ukb_sig_covs', 'ukb_cov_adj_for',\n",
    "                                   'ukb_Warnings', 'ukb_is_warning', 'tnx_glm_warn_msg',\n",
    "                                   'tnx_glm_warn_bool', 'ukb_model', 'tnx_model', 'ukb_cov_ps',\n",
    "                                   'ukb_cov_ors', 'tnx_cov_adj', 'tnx_cov_ps', 'tnx_cov_or', 'ukb_anti_CI',\n",
    "                                   'tnx_CI', 'ukb_avg_age_case', 'ukb_avg_avg_con', 'ukb_avg_titer_case',\n",
    "                                   'ukb_avg_titer_con', 'ukb_std_titer_case', 'ukb_std_titer_con',\n",
    "                                   'ukb_med_titer_case', 'ukb_med_titer_con', 'tnx_case_age',\n",
    "                                   'tnx_con_age', 'tnx_case_titer', 'tnx_con_titer', 'tnx_case_titer_std',\n",
    "                                   'tnx_con_titer_std', 'tnx_case_titer_med', 'tnx_con_titer_med',\n",
    "                                   'tnx_n_con_neg', 'tnx_n_con_pos', 'tnx_n_case_neg', 'tnx_n_case_pos',\n",
    "                                   'tnx_log_trans', 'ukb_tot_dis_perms', 'ukb_perms_lt_mod_3_p',\n",
    "                                   'tnx_note_str', 'ukb_risk', 'tnx_risk', 'other_test_str', 'or_flip_tnx_tests']]"
   ]
  },
  {
   "cell_type": "markdown",
   "metadata": {},
   "source": [
    "## Save the final results file"
   ]
  },
  {
   "cell_type": "code",
   "execution_count": null,
   "metadata": {
    "ExecuteTime": {
     "end_time": "2023-05-02T13:38:40.371053Z",
     "start_time": "2023-05-02T13:38:29.255617Z"
    }
   },
   "outputs": [],
   "source": [
    "org_lev_res.to_excel(f'{HOME_DIR}/results/ukb_tnx_combined_results_03_08_23_final.xlsx', index = False)"
   ]
  }
 ],
 "metadata": {
  "kernelspec": {
   "display_name": "Python 3 (ipykernel)",
   "language": "python",
   "name": "python3"
  },
  "language_info": {
   "codemirror_mode": {
    "name": "ipython",
    "version": 3
   },
   "file_extension": ".py",
   "mimetype": "text/x-python",
   "name": "python",
   "nbconvert_exporter": "python",
   "pygments_lexer": "ipython3",
   "version": "3.7.8"
  },
  "notify_time": "5",
  "toc": {
   "base_numbering": 1,
   "nav_menu": {},
   "number_sections": true,
   "sideBar": false,
   "skip_h1_title": false,
   "title_cell": "Table of Contents",
   "title_sidebar": "Contents",
   "toc_cell": false,
   "toc_position": {},
   "toc_section_display": true,
   "toc_window_display": false
  },
  "varInspector": {
   "cols": {
    "lenName": 16,
    "lenType": 16,
    "lenVar": 40
   },
   "kernels_config": {
    "python": {
     "delete_cmd_postfix": "",
     "delete_cmd_prefix": "del ",
     "library": "var_list.py",
     "varRefreshCmd": "print(var_dic_list())"
    },
    "r": {
     "delete_cmd_postfix": ") ",
     "delete_cmd_prefix": "rm(",
     "library": "var_list.r",
     "varRefreshCmd": "cat(var_dic_list()) "
    }
   },
   "types_to_exclude": [
    "module",
    "function",
    "builtin_function_or_method",
    "instance",
    "_Feature"
   ],
   "window_display": false
  }
 },
 "nbformat": 4,
 "nbformat_minor": 4
}
