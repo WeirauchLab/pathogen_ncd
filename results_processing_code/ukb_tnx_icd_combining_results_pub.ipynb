{
 "cells": [
  {
   "cell_type": "raw",
   "metadata": {},
   "source": [
    "Name:\n",
    "        ukb_tnx_icd_combining_results_pub.ipynb\n",
    "\n",
    "Author:   \n",
    "        Mike Lape\n",
    "\n",
    "Date:  \n",
    "        2023\n",
    "\n",
    "Description:\n",
    "\n",
    "        This notebook takes in the UKB ICD results as well as the TNX ICD results \n",
    "        and combines them to give final answers about replicated results. Those \n",
    "        being significant in UKB and then also being significant in TNX with the \n",
    "        odds ratios agreeing in direction."
   ]
  },
  {
   "cell_type": "markdown",
   "metadata": {},
   "source": [
    "# Load Libraries"
   ]
  },
  {
   "cell_type": "code",
   "execution_count": null,
   "metadata": {},
   "outputs": [],
   "source": [
    "# Data manipulation\n",
    "import numpy as np\n",
    "import pandas as pd\n",
    "\n",
    "# Data science\n",
    "import math\n",
    "import scipy.stats as stats\n",
    "from sklearn.experimental import enable_iterative_imputer\n",
    "from sklearn.impute import IterativeImputer\n",
    "from statsmodels.stats.multitest import multipletests as mt\n",
    "\n",
    "# Plots\n",
    "import matplotlib as mpl\n",
    "import seaborn as sns\n",
    "import matplotlib.pyplot as plt\n",
    "\n",
    "# Working with dates\n",
    "from datetime import date,datetime\n",
    "import dateutil\n",
    "\n",
    "# Looping  progress\n",
    "from tqdm.notebook import tqdm\n",
    "\n",
    "# Reg expressions\n",
    "import re\n",
    "\n",
    "# Pretty table printing\n",
    "import tabulate\n",
    "\n",
    "# OS level libraries\n",
    "import os\n",
    "import subprocess\n",
    "\n",
    "# Misc libraries\n",
    "from IPython.display import display, HTML\n",
    "#from IPython.core.display import display, HTML\n",
    "\n",
    "# Set seaborn figure size, font size, and style\n",
    "sns.set(rc={'figure.figsize':(11.7,8.27)})\n",
    "sns.set(font_scale=1.5)\n",
    "sns.set_style(\"white\")\n",
    "\n",
    "# Set Pandas options so we can see our entire dataframe\n",
    "pd.options.display.max_rows = 10000\n",
    "pd.options.display.max_columns = 10000\n",
    "pd.options.display.max_colwidth = None\n",
    "\n",
    "# Print our versions of this packages, this allows us to make sure\n",
    "# we have the working versions we need. \n",
    "print(f\"Pandas version: {pd.__version__}\")\n",
    "\n",
    "\n",
    "# Remove grey side bars\n",
    "display(HTML(\"<style>.container { width:90% !important; }</style>\"))"
   ]
  },
  {
   "cell_type": "code",
   "execution_count": null,
   "metadata": {},
   "outputs": [],
   "source": [
    "HOME_DIR = \"/data/pathogen_ncd\""
   ]
  },
  {
   "cell_type": "markdown",
   "metadata": {},
   "source": [
    "In Bash, concatenate the separate results file (1 per ICD10 code) together to have a set of final TNX results\n",
    "\n",
    "```bash\n",
    "# Push all the per-ICD TNX results for all ICDs into a single file\n",
    "\n",
    "cat \"${HOME_DIR}/trinetx/results/tnx_results_01_17_2023/res/*.tsv\" > tnx_all_results.tsv\n",
    "\n",
    "# Grab what will be the header line\n",
    "grep 'Unparsed_Disease' tnx_all_results.tsv  | head -n 1 > header\n",
    "\n",
    "# Remove extraneous header lines in our final file\n",
    "grep -v 'Unparsed_Disease' tnx_all_results.tsv  | sponge  tnx_all_results.tsv\n",
    "\n",
    "# Add header back to the top of our now cleaned TNX results file \n",
    "cat header tnx_all_results.tsv | sponge tnx_all_results.tsv\n",
    "\n",
    "```"
   ]
  },
  {
   "cell_type": "markdown",
   "metadata": {},
   "source": [
    "# Prep UKB and TNX results"
   ]
  },
  {
   "cell_type": "markdown",
   "metadata": {},
   "source": [
    "## Read in UKB and TNX Result Files"
   ]
  },
  {
   "cell_type": "code",
   "execution_count": null,
   "metadata": {},
   "outputs": [],
   "source": [
    "# UKB results file\n",
    "all_ukb = pd.read_csv(f'{HOME_DIR}/results/emp_results_01_17_2023.tsv', sep = '\\t')\n",
    "all_ukb['num_tot_samples'] = all_ukb['nCase'] + all_ukb['nControl']\n",
    "\n",
    "# TNX categorical test results\n",
    "all_tnx_cat = pd.read_csv(f'{HOME_DIR}/trinetx/results/tnx_all_results.tsv', \n",
    "                          sep = '\\t')\n",
    "all_tnx_cat = all_tnx_cat.loc[all_tnx_cat['disease_name'] != 'disease_name', :]\n",
    "\n",
    "# Create column for total number of samples for the power calculation\n",
    "all_tnx = all_tnx_cat.copy(deep = True)\n",
    "all_tnx.loc[:, ['num_case', 'num_con']] = all_tnx.loc[:, ['num_case', 'num_con']].astype(int)\n",
    "all_tnx['num_tot_samples'] = all_tnx['num_case'] + all_tnx['num_con']"
   ]
  },
  {
   "cell_type": "code",
   "execution_count": null,
   "metadata": {},
   "outputs": [],
   "source": [
    "# 23,122\n",
    "print(all_ukb.shape[0])\n",
    "\n",
    "\n",
    "# 198,225\n",
    "print(all_tnx_cat.shape[0])"
   ]
  },
  {
   "cell_type": "markdown",
   "metadata": {},
   "source": [
    "## Align UKB and TNX Diseases"
   ]
  },
  {
   "cell_type": "code",
   "execution_count": null,
   "metadata": {},
   "outputs": [],
   "source": [
    "# No B24 results, so to merge with UKB change TNX B20 to B24\n",
    "# 0\n",
    "print(len(all_tnx.loc[all_tnx['icd'] == 'B24', :]))\n",
    "\n",
    "# 44\n",
    "print(len(all_tnx.loc[all_tnx['icd'] == 'B20', :]))\n",
    "\n",
    "# All B20 successfully changed to B24 for merging with UKB's B24 (HIV infection)\n",
    "all_tnx.loc[all_tnx['icd'] == 'B20', 'icd'] = 'B24'\n",
    "\n",
    "# 44\n",
    "print(len(all_tnx.loc[all_tnx['icd'] == 'B24', :]))\n",
    "\n",
    "# 0\n",
    "print(len(all_tnx.loc[all_tnx['icd'] == 'B20', :]))"
   ]
  },
  {
   "cell_type": "markdown",
   "metadata": {},
   "source": [
    "## Align UKB and TNX Pathogen tags"
   ]
  },
  {
   "cell_type": "code",
   "execution_count": null,
   "metadata": {},
   "outputs": [],
   "source": [
    "# UKB and TNX Anti's are already aligned\n",
    "# Fix some weird chars\n",
    "all_ukb.loc[:, 'org'] = all_ukb.loc[:, 'org'].replace({'MCV\\xa0' : 'MCV', \n",
    "                                                   'H.\\xa0pylori' : 'H.pylori'})\n",
    "\n",
    "org_to_tag_dict = {\n",
    "                            'HSV1'           : 'hsv1',\n",
    "                            'HSV2'           : 'hsv2',\n",
    "                            'VZV'            : 'vzv',\n",
    "                            'EBV'            : 'ebv',\n",
    "                            'CMV'            : 'cmv',\n",
    "                            'HHV-6'          : 'hhv6',\n",
    "                            'HHV-7'          : 'hhv7',\n",
    "                            'KSHV/HHV-8'     : 'kshv',\n",
    "                            'HBV'            : 'hbv',\n",
    "                            'HCV'            : 'hcv',\n",
    "                            'T. gondii'      : 'tox',\n",
    "                            'T.gondii'      : 'tox',\n",
    "                            'HTLV-1'         : 'htlv',\n",
    "                            'BKV'            : 'bkv',\n",
    "                            'JCV'            : 'jcv',\n",
    "                            'MCV'            : 'mcv',\n",
    "                            'HPV-16'         : 'hpv16',\n",
    "                            'HPV-18'         : 'hpv18',\n",
    "                            'C. trachomatis' : 'chlam',\n",
    "                            'C.trachomatis' : 'chlam',\n",
    "\n",
    "                            'H.pylori'       : 'hpylori',\n",
    "                            'HIV'            : 'hiv'\n",
    "                        }\n",
    "\n",
    "all_ukb['tag'] = all_ukb.loc[:, 'org'].replace(org_to_tag_dict)"
   ]
  },
  {
   "cell_type": "markdown",
   "metadata": {},
   "source": [
    "# Do statistical power filtering"
   ]
  },
  {
   "cell_type": "markdown",
   "metadata": {},
   "source": [
    "## Case and Total Sample Filtering"
   ]
  },
  {
   "cell_type": "code",
   "execution_count": null,
   "metadata": {},
   "outputs": [],
   "source": [
    "# Statistical power requirements\n",
    "MIN_CASE_THRESH = 17\n",
    "MIN_TOT_SAMP_THRESH  = 187"
   ]
  },
  {
   "cell_type": "code",
   "execution_count": null,
   "metadata": {},
   "outputs": [],
   "source": [
    "# Total in UKB:  23122\n",
    "# Total in UKB that meet case threshold [n >= 17]:  19289\n",
    "# Total in TNX:  198225\n",
    "# Total in TNX stds:  2073\n",
    "# Total in TNX non-stds:  196152\n",
    "# Total in TNX standards that meet case threshold [n >= 17] and total sample threshold [n >= 187]:  1876\n",
    "# Total in TNX non-standards that meet case threshold [n >= 17] and total sample threshold [n >= 187]:  178058\n",
    "# Total in combined TNX that meet thresholds: 179934\n",
    "\n",
    "tnx_stds = all_tnx.loc[all_tnx['icd'].str.startswith(('A', 'B')), :]\n",
    "tnx_non_stds = all_tnx.loc[~all_tnx['icd'].str.startswith(('A', 'B')), :]\n",
    "\n",
    "print(f\"Total in UKB:  {len(all_ukb)}\")\n",
    "ukb = all_ukb.copy(deep = True)\n",
    "ukb = ukb.loc[((ukb['ICD10_Cat'].isin(['A', 'B'])) | \n",
    "         ((ukb['nCase'] >= MIN_CASE_THRESH) &\n",
    "          (ukb['num_tot_samples'] >= MIN_TOT_SAMP_THRESH))), :]\n",
    "\n",
    "print(f\"Total in UKB that meet case threshold [n >= {MIN_CASE_THRESH}]:  {len(ukb)}\")\n",
    "\n",
    "\n",
    "print(f\"Total in TNX:  {len(all_tnx)}\")\n",
    "\n",
    "print(f\"Total in TNX stds:  {len(tnx_stds)}\")\n",
    "print(f\"Total in TNX non-stds:  {len(tnx_non_stds)}\")\n",
    "\n",
    "tnx_stds = tnx_stds.loc[((tnx_stds['num_case'] >= MIN_CASE_THRESH) &\n",
    "                         (tnx_stds['num_tot_samples'] >= MIN_TOT_SAMP_THRESH)), :]\n",
    "print(f\"Total in TNX standards that meet case threshold [n >= {MIN_CASE_THRESH}] and total sample threshold [n >= {MIN_TOT_SAMP_THRESH}]:  {len(tnx_stds)}\")\n",
    "\n",
    "tnx_non_stds = tnx_non_stds.loc[((tnx_non_stds['num_case'] >= MIN_CASE_THRESH) &\n",
    "                   (tnx_non_stds['num_tot_samples'] >= MIN_TOT_SAMP_THRESH)), :]\n",
    "print(f\"Total in TNX non-standards that meet case threshold [n >= {MIN_CASE_THRESH}] and total sample threshold [n >= {MIN_TOT_SAMP_THRESH}]:  {len(tnx_non_stds)}\")\n",
    "\n",
    "tnx = pd.concat([tnx_stds, tnx_non_stds])\n",
    "print(f\"Total in combined TNX that meet thresholds: {len(tnx)}\")"
   ]
  },
  {
   "cell_type": "markdown",
   "metadata": {},
   "source": [
    "# Work on UKB"
   ]
  },
  {
   "cell_type": "markdown",
   "metadata": {},
   "source": [
    "## Calculate per-disease FDR corrected UKB ICD NOMINAL p-value"
   ]
  },
  {
   "cell_type": "code",
   "execution_count": null,
   "metadata": {},
   "outputs": [],
   "source": [
    "icd_ls = ukb['icd'].unique().tolist()\n",
    "\n",
    "fin_ukb_ls = [] \n",
    "for curr_icd in tqdm(icd_ls):\n",
    "    curr_dis_res = ukb.loc[ukb['icd'] == curr_icd, :].copy(deep = True)\n",
    "\n",
    "    curr_dis_res['per_dis_bh_fdr_corr_nom_p'] = mt(curr_dis_res['p_val'], \n",
    "                                                   alpha = 0.05, method = 'fdr_bh')[1]\n",
    "\n",
    "    fin_ukb_ls.extend(curr_dis_res.values.tolist())\n",
    "    \n",
    "fin_ukb = pd.DataFrame(fin_ukb_ls, columns = ukb.columns.tolist() + ['per_dis_bh_fdr_corr_nom_p'])"
   ]
  },
  {
   "cell_type": "markdown",
   "metadata": {},
   "source": [
    "## Collapse from Antibody to pathogen level (keeping most significant FDR corr nom p)"
   ]
  },
  {
   "cell_type": "code",
   "execution_count": null,
   "metadata": {},
   "outputs": [],
   "source": [
    "# 19,289\n",
    "print(f\"Total dis-Ab pairs in UKB: {len(fin_ukb)}\")\n",
    "\n",
    "fin_ukb = fin_ukb.sort_values(['icd', 'org', 'per_dis_bh_fdr_corr_nom_p'])\n",
    "fin_ukb = fin_ukb.drop_duplicates(['icd', 'org'], keep = 'first')\n",
    "\n",
    "# 8,616 \n",
    "print(f\"Total dis-Org pairs in UKB: {len(fin_ukb)}\")"
   ]
  },
  {
   "cell_type": "markdown",
   "metadata": {},
   "source": [
    "# Work on TNX results"
   ]
  },
  {
   "cell_type": "markdown",
   "metadata": {},
   "source": [
    "## Limit TNX to selected UKB dis-org pairs"
   ]
  },
  {
   "cell_type": "code",
   "execution_count": null,
   "metadata": {},
   "outputs": [],
   "source": [
    "print(\"Orgs:\")\n",
    "print(set(tnx['org'].unique().tolist()).difference(set(ukb['tag'].unique().tolist())))\n",
    "print(set(ukb['tag'].unique().tolist()).difference(set(tnx['org'].unique().tolist())))\n",
    "\n",
    "print(\"Antibodies:\")\n",
    "print(set(tnx['anti'].unique().tolist()).difference(set(ukb['anti'].unique().tolist())))\n",
    "print(set(ukb['anti'].unique().tolist()).difference(set(tnx['anti'].unique().tolist())))\n",
    "\n",
    "print(\"Diseases:\")\n",
    "print(set(tnx['icd'].unique().tolist()).difference(set(ukb['icd'].unique().tolist())))\n",
    "print(set(ukb['icd'].unique().tolist()).difference(set(tnx['icd'].unique().tolist())))"
   ]
  },
  {
   "cell_type": "code",
   "execution_count": null,
   "metadata": {},
   "outputs": [],
   "source": [
    "# Some diseases in TNX that are not in UKB results most likely filtered out\n",
    "# by minimum number of case/control requirements\n",
    "\n",
    "# No TNX tests for the following orgs: \n",
    "# 'hhv7'\n",
    "# 'htlv'\n",
    "# 'mcv'\n",
    "\n",
    "# No significant UKB results for the following ICDs by BH Corrected NOMINAL P:\n",
    "# 'C15','C16','C25','C49','C53','C62','C71','C73','C82',\n",
    "# 'D07','D09','D56',\n",
    "# 'E29','E61','E73','E88',\n",
    "# 'F00','F06','F09','F22','F42',\n",
    "# 'G31','G37','G52','G60','G63','G64','G82','G83','G90','G96',\n",
    "# 'H21','H46','H49','H71',\n",
    "# 'I05','I07','I11','I62','I85','I99',\n",
    "# 'J10','J13','J15','J36','J37','J81','J86','J91',\n",
    "# 'K06','K09',\n",
    "# 'L04','L23','L63','L68','L93','L94',\n",
    "# 'M00','M11','M40','M60','M92','M96',\n",
    "# 'N05','N08','N46','N71',\n",
    "# 'O00','O13','O16','O20','O24','O30','O42','O46','O47','O60','O62','O66','O69','O75'\n",
    "\n",
    "# No TNX diags for the following ICDs:\n",
    "# 'E14'\n",
    "# 'I64'\n",
    "# 'I84'\n",
    "# 'K07'\n",
    "# 'K10'"
   ]
  },
  {
   "cell_type": "markdown",
   "metadata": {},
   "source": [
    "## First Limit TNX Results to just UKB Significant Pairs"
   ]
  },
  {
   "cell_type": "code",
   "execution_count": null,
   "metadata": {},
   "outputs": [],
   "source": [
    "ukb_vals = fin_ukb.loc[:, ['icd', 'tag', 'anti']].values.tolist()\n",
    "\n",
    "filt_tnx_ls = []\n",
    "for curr_icd, curr_org, curr_anti in tqdm(ukb_vals):\n",
    "    \n",
    "    sel_tnx = tnx.loc[((tnx['icd'] == curr_icd) & \n",
    "                       (tnx['org'] == curr_org) &\n",
    "                       (tnx['anti'] == curr_anti)), :].values.tolist()\n",
    "\n",
    "\n",
    "    filt_tnx_ls.extend(sel_tnx)\n",
    "    \n",
    "filt_tnx = pd.DataFrame(filt_tnx_ls, columns = tnx.columns)\n",
    "\n",
    "# 56,277\n",
    "print(len(filt_tnx))"
   ]
  },
  {
   "cell_type": "markdown",
   "metadata": {},
   "source": [
    "## Calculate TNX per-disease FDR corrected NOMINAL p-value"
   ]
  },
  {
   "cell_type": "code",
   "execution_count": null,
   "metadata": {},
   "outputs": [],
   "source": [
    "filt_tnx.loc[:, 'p_val'] = filt_tnx.loc[:, 'p_val'].astype(float)\n",
    "\n",
    "icd_ls = filt_tnx['icd'].unique().tolist()\n",
    "\n",
    "fin_tnx_ls = [] \n",
    "for curr_icd in tqdm(icd_ls):\n",
    "    curr_dis_res = filt_tnx.loc[filt_tnx['icd'] == curr_icd, :].copy(deep = True)\n",
    "\n",
    "    curr_dis_res['per_dis_bh_fdr_corr_p'] = mt(curr_dis_res['p_val'], \n",
    "                                                   alpha = 0.05, method = 'fdr_bh')[1]\n",
    "\n",
    "    fin_tnx_ls.extend(curr_dis_res.values.tolist())\n",
    "    \n",
    "fin_tnx = pd.DataFrame(fin_tnx_ls, columns = filt_tnx.columns.tolist() + ['per_dis_bh_fdr_corr_p'])"
   ]
  },
  {
   "cell_type": "markdown",
   "metadata": {},
   "source": [
    "# Merge cleaned UKB and cleaned TNX results"
   ]
  },
  {
   "cell_type": "code",
   "execution_count": null,
   "metadata": {},
   "outputs": [],
   "source": [
    "fin_ukb.columns = [f'ukb_{x}' for x in fin_ukb.columns.tolist()] \n",
    "fin_tnx.columns = [f'tnx_{x}' for x in fin_tnx.columns.tolist()] "
   ]
  },
  {
   "cell_type": "code",
   "execution_count": null,
   "metadata": {},
   "outputs": [],
   "source": [
    "# So we have multiple rows for the same UKB results, as we haven't collapsed\n",
    "# the TNX results down yet.\n",
    "# nrow UKB: 8616\n",
    "# nrow TNX: 56277\n",
    "# nrow combo: 58398\n",
    "print(f\"nrow UKB: {len(fin_ukb)}\")\n",
    "print(f\"nrow TNX: {len(fin_tnx)}\")\n",
    "\n",
    "combo = fin_ukb.merge(fin_tnx, how = 'left',\n",
    "                      left_on = ['ukb_icd', 'ukb_tag', 'ukb_anti'],\n",
    "                      right_on = ['tnx_icd', 'tnx_org', 'tnx_anti'])\n",
    "\n",
    "print(f\"nrow combo: {len(combo)}\")"
   ]
  },
  {
   "cell_type": "code",
   "execution_count": null,
   "metadata": {},
   "outputs": [],
   "source": [
    "# Move some columns around.\n",
    "combo = combo.loc[:, ['ukb_Disease', 'ukb_icd', 'ukb_tag', 'ukb_anti',  'ukb_std_lev',\n",
    "                      'tnx_test_type', 'tnx_test_id', 'tnx_test', 'tnx_mod_method',\n",
    "                      'ukb_sex_specific_dis', 'ukb_nCase', 'ukb_nControl',\n",
    "                      'ukb_control_set', 'ukb_n_mixed',\n",
    "                      'tnx_dis_sex', 'tnx_num_case', 'tnx_num_con',\n",
    "                      'tnx_con_str', 'tnx_n_mixed',\n",
    "                      \n",
    "                      'ukb_per_dis_bh_fdr_corr_nom_p', 'ukb_mod_3_emp_p', 'ukb_p_val',\n",
    "                      'tnx_per_dis_bh_fdr_corr_p', 'tnx_p_val',\n",
    "\n",
    "                      \n",
    "                      'ukb_anti_OR',  'tnx_OR',\n",
    "\n",
    "                      'ukb_sig_covs', 'ukb_cov_adj_for',\n",
    "                      \n",
    "                      'ukb_Warnings', 'ukb_is_warning',\n",
    "                      'tnx_glm_warn_msg', 'tnx_glm_warn_bool',\n",
    "                      \n",
    "                      'ukb_model', 'tnx_model',\n",
    "                      \n",
    "                      'ukb_cov_ps',  'ukb_cov_ors', 'tnx_cov_adj',\n",
    "                      'tnx_cov_ps', 'tnx_cov_or',\n",
    "                      'ukb_anti_CI',  'tnx_CI',\n",
    "\n",
    "                      \n",
    "                      'ukb_avg_age_case',  'ukb_avg_avg_con', \n",
    "                      'ukb_avg_titer_case', 'ukb_avg_titer_con',\n",
    "                      'ukb_std_titer_case', 'ukb_std_titer_con', \n",
    "                      'ukb_med_titer_case', 'ukb_med_titer_con',\n",
    "                       \n",
    "                      'tnx_case_age', 'tnx_con_age', 'tnx_case_titer', 'tnx_con_titer',\n",
    "                      'tnx_case_titer_std', 'tnx_con_titer_std',\n",
    "                      'tnx_case_titer_med', 'tnx_con_titer_med',\n",
    "                      'tnx_n_con_neg', 'tnx_n_con_pos', 'tnx_n_case_neg', 'tnx_n_case_pos',\n",
    "                      'tnx_log_trans', \n",
    "                      \n",
    "                      \n",
    "                      'ukb_tot_dis_perms', 'ukb_perms_lt_mod_3_p',\n",
    "                      'tnx_note_str',\n",
    "                     ]]\n",
    "\n",
    "combo = combo.rename(columns = {\n",
    "                         'ukb_Disease' : 'disease',\n",
    "                         'ukb_icd' : 'icd',\n",
    "                         'ukb_tag' : 'org',\n",
    "                         'ukb_anti' : 'anti',\n",
    "                         'ukb_std_lev' : 'std_lev',\n",
    "})"
   ]
  },
  {
   "cell_type": "code",
   "execution_count": null,
   "metadata": {},
   "outputs": [],
   "source": [
    "# Combo verified to have:\n",
    "# A row for every UKB result no matter if there is TNX test or not\n",
    "#   1 row (UKB result) - no TNX tests for A60 x BKV\n",
    "#   combo.loc[((combo['icd'] == 'A60') & (combo['org'] == 'bkv')), :]\n",
    "\n",
    "# A row for each TNX test matched to it's correct UKB row\n",
    "#   19 rows - 1 row for each TNX test \n",
    "#   combo.loc[((combo['icd'] == 'A60') & (combo['org'] == 'chlam')), :]\n",
    "\n",
    "# See if there are any rows where there is an TNX test (not null)\n",
    "# and the disease sexes don't match\n",
    "\n",
    "# All good - empty\n",
    "print(combo.loc[((combo['ukb_sex_specific_dis'] != combo['tnx_dis_sex']) &\n",
    "           (combo['tnx_test_type'].notnull())), :])\n",
    "\n",
    "# Also, make sure the control sets are the same for both UKB and TNX\n",
    "# All good - empty \n",
    "print(combo.loc[((combo['ukb_control_set'] != combo['tnx_con_str']) &\n",
    "           (combo['tnx_test_type'].notnull())), :])"
   ]
  },
  {
   "cell_type": "markdown",
   "metadata": {},
   "source": [
    "# Do some cleaning"
   ]
  },
  {
   "cell_type": "markdown",
   "metadata": {},
   "source": [
    "## Convert some columns to ints"
   ]
  },
  {
   "cell_type": "code",
   "execution_count": null,
   "metadata": {},
   "outputs": [],
   "source": [
    "combo.loc[:, ['ukb_nCase', 'ukb_nControl', 'ukb_n_mixed',\n",
    "              'tnx_num_case', 'tnx_num_con']] = combo.loc[:, ['ukb_nCase', 'ukb_nControl', 'ukb_n_mixed',\n",
    "                                                              'tnx_num_case', 'tnx_num_con']].astype(\"Int64\")\n",
    "\n",
    "# Workaround for apparently known bug?\n",
    "# https://stackoverflow.com/a/60024263\n",
    "combo.loc[:, 'tnx_n_mixed'] = combo.loc[:, 'tnx_n_mixed'].astype(float)\n",
    "combo.loc[:, 'tnx_n_mixed'] = combo.loc[:, 'tnx_n_mixed'].astype(\"Int64\")\n",
    "\n",
    "combo.loc[:, 'tnx_n_con_neg'] = combo.loc[:, 'tnx_n_con_neg'].astype(float)\n",
    "combo.loc[:, 'tnx_n_con_neg'] = combo.loc[:, 'tnx_n_con_neg'].astype(\"Int64\")\n",
    "\n",
    "combo.loc[:, 'tnx_n_con_pos'] = combo.loc[:, 'tnx_n_con_pos'].astype(float)\n",
    "combo.loc[:, 'tnx_n_con_pos'] = combo.loc[:, 'tnx_n_con_pos'].astype(\"Int64\")\n",
    "\n",
    "combo.loc[:, 'tnx_n_case_neg'] = combo.loc[:, 'tnx_n_case_neg'].astype(float)\n",
    "combo.loc[:, 'tnx_n_case_neg'] = combo.loc[:, 'tnx_n_case_neg'].astype(\"Int64\")\n",
    "\n",
    "combo.loc[:, 'tnx_n_case_pos'] = combo.loc[:, 'tnx_n_case_pos'].astype(float)\n",
    "combo.loc[:, 'tnx_n_case_pos'] = combo.loc[:, 'tnx_n_case_pos'].astype(\"Int64\")\n"
   ]
  },
  {
   "cell_type": "code",
   "execution_count": null,
   "metadata": {},
   "outputs": [],
   "source": [
    "# Verify type conversion\n",
    "combo.loc[:, ['ukb_nCase', 'ukb_nControl', 'ukb_n_mixed',\n",
    "              'tnx_num_case', 'tnx_num_con', 'tnx_n_mixed', \n",
    "              'tnx_n_con_neg', 'tnx_n_con_pos', \n",
    "              'tnx_n_case_neg', 'tnx_n_case_pos']].info()"
   ]
  },
  {
   "cell_type": "markdown",
   "metadata": {},
   "source": [
    "## Annotate risk"
   ]
  },
  {
   "cell_type": "code",
   "execution_count": null,
   "metadata": {},
   "outputs": [],
   "source": [
    "combo.loc[:, ['ukb_anti_OR', 'tnx_OR']] = \\\n",
    "                          combo.loc[:, ['ukb_anti_OR', 'tnx_OR']].astype(float)\n",
    "\n",
    "combo['ukb_risk'] = False\n",
    "combo.loc[combo['ukb_anti_OR'] > 1, 'ukb_risk'] = True\n",
    "\n",
    "combo['tnx_risk'] = False\n",
    "combo.loc[combo['tnx_OR'] > 1, 'tnx_risk'] = True"
   ]
  },
  {
   "cell_type": "markdown",
   "metadata": {},
   "source": [
    "# Collapse to best TNX result"
   ]
  },
  {
   "cell_type": "markdown",
   "metadata": {},
   "source": [
    "## Make small function"
   ]
  },
  {
   "cell_type": "code",
   "execution_count": null,
   "metadata": {},
   "outputs": [],
   "source": [
    "# Similar to round, but if the decimal cannot be represented by the number of digits we switch to\n",
    "# sci notation with that many digits in the significand.\n",
    "def make_small(num, digits):\n",
    "    if digits < 1:\n",
    "        print(\"Requires positive number of digits\")\n",
    "        return\n",
    "\n",
    "    dig_min_1 = digits - 1\n",
    "\n",
    "    low_bound = 1 / (10 ** (dig_min_1))\n",
    "    up_bound = 10 ** (dig_min_1)\n",
    "\n",
    "    if ((num < low_bound) | (num > up_bound)):\n",
    "        return \"{:.{}e}\".format(num, dig_min_1)\n",
    "\n",
    "    return round(num, digits)"
   ]
  },
  {
   "cell_type": "markdown",
   "metadata": {},
   "source": [
    "## Actual loop to collapse TNX results"
   ]
  },
  {
   "cell_type": "code",
   "execution_count": null,
   "metadata": {},
   "outputs": [],
   "source": [
    "icd_org_ls = combo.loc[:, ['icd', 'org']].drop_duplicates().values.tolist()\n",
    "\n",
    "fin_combo_ls = []\n",
    "for curr_icd, curr_org in tqdm(icd_org_ls):\n",
    "    \n",
    "    curr_res = combo.loc[((combo['icd'] == curr_icd) &\n",
    "                      (combo['org'] == curr_org)), :].copy(deep = True)\n",
    "\n",
    "    \n",
    "    # No TNX tests\n",
    "    if (len(curr_res) == 1) & (all(curr_res['tnx_test_id'].isna())):\n",
    "\n",
    "        curr_res['other_test_str'] = ''\n",
    "        curr_res['or_flip_tnx_tests'] = ''\n",
    "\n",
    "        fin_combo_ls.extend(curr_res.values.tolist())\n",
    "\n",
    "        continue\n",
    "    \n",
    "    \n",
    "    # If organism is risk\n",
    "    is_ukb_risk = curr_res['ukb_risk'].unique().tolist()[0]\n",
    "\n",
    "    # Risk\n",
    "    if is_ukb_risk:\n",
    "\n",
    "        curr_tnx_res = curr_res.loc[curr_res['tnx_risk'] == True, :]\n",
    "        curr_tnx_opp_res = curr_res.loc[curr_res['tnx_risk'] == False, :]\n",
    "\n",
    "    # Protective\n",
    "    else:\n",
    "\n",
    "        curr_tnx_res = curr_res.loc[curr_res['tnx_risk'] == False, :]\n",
    "        curr_tnx_opp_res = curr_res.loc[curr_res['tnx_risk'] == True, :]\n",
    "\n",
    "    curr_tnx_res = curr_tnx_res.sort_values(['tnx_per_dis_bh_fdr_corr_p'], ascending = True).reset_index(drop = True)\n",
    "\n",
    "    \n",
    "    # No tests in the same direction, so get most sig in oppsite direction\n",
    "    if len(curr_tnx_res) == 0:    \n",
    "        curr_tnx_opp_res = curr_tnx_opp_res.sort_values(['tnx_per_dis_bh_fdr_corr_p'], ascending = True).reset_index(drop = True)\n",
    "        # get most sig TNX p\n",
    "        best_tnx = curr_tnx_opp_res.iloc[0].copy(deep = True)\n",
    "\n",
    "        # Grab the rest of the tests (less sig)\n",
    "        rest_tnx = curr_tnx_opp_res.iloc[1:].copy(deep = True)\n",
    "        rest_tnx = rest_tnx.reset_index(drop = True)\n",
    "\n",
    "        \n",
    "        # Throw the rest of the tests in a column of best_tnx\n",
    "        if len(rest_tnx) > 0:\n",
    "            best_tnx['or_flip_tnx_tests'] =  rest_tnx.agg( lambda x: f\"{x['tnx_test_id']} [{x['tnx_test']}, {x['tnx_mod_method']}]:  nCase: {x['tnx_num_case']} | nCon: {x['tnx_num_con']}, corr p-val: {make_small(x['tnx_per_dis_bh_fdr_corr_p'],3)}, uncorr p-val: {make_small(x['tnx_p_val'], 3)}, OR: {make_small(x['tnx_OR'], 3)} | model: {x['tnx_model']}, glm_warn [{x['tnx_glm_warn_bool']}]: {x['tnx_glm_warn_msg']} log10 trans: {x['tnx_log_trans']} | Notes: {x['tnx_note_str']}\", axis = 1)\n",
    "        else:\n",
    "            best_tnx['or_flip_tnx_tests'] = ''\n",
    "\n",
    "\n",
    "        if len(curr_tnx_opp_res) > 0:\n",
    "            best_tnx['other_test_str'] =  curr_tnx_opp_res.agg( lambda x: f\"{x['tnx_test_id']} [{x['tnx_test']}, {x['tnx_mod_method']}]:  nCase: {x['tnx_num_case']} | nCon: {x['tnx_num_con']}, corr p-val: {make_small(x['tnx_per_dis_bh_fdr_corr_p'],3)}, uncorr p-val: {make_small(x['tnx_p_val'], 3)}, OR: {make_small(x['tnx_OR'], 3)} | model: {x['tnx_model']}, glm_warn [{x['tnx_glm_warn_bool']}]: {x['tnx_glm_warn_msg']} log10 trans: {x['tnx_log_trans']} | Notes: {x['tnx_note_str']}\", axis = 1)\n",
    "        else:\n",
    "            best_tnx['other_test_str'] = ''\n",
    "\n",
    "        fin_combo_ls.append(best_tnx.values.tolist())\n",
    "    \n",
    "    else:\n",
    "        # get most sig TNX p\n",
    "        best_tnx = curr_tnx_res.iloc[0].copy(deep = True)\n",
    "\n",
    "        # Grab the rest of the tests (less sig)\n",
    "        rest_tnx = curr_tnx_res.iloc[1:].copy(deep = True)\n",
    "        rest_tnx = rest_tnx.reset_index(drop = True)\n",
    "\n",
    "        # Throw the rest of the tests in a column of best_tnx\n",
    "        if len(rest_tnx) > 0:\n",
    "            best_tnx['other_test_str'] =  rest_tnx.agg( lambda x: f\"{x['tnx_test_id']}  [{x['tnx_test']}, {x['tnx_mod_method']}]:  nCase: {x['tnx_num_case']} | nCon: {x['tnx_num_con']}, corr p-val: {make_small(x['tnx_per_dis_bh_fdr_corr_p'],3)}, uncorr p-val: {make_small(x['tnx_p_val'], 3)}, OR: {make_small(x['tnx_OR'], 3)} | model: {x['tnx_model']}, glm_warn [{x['tnx_glm_warn_bool']}]: {x['tnx_glm_warn_msg']} log10 trans: {x['tnx_log_trans']} | Notes: {x['tnx_note_str']}\", axis = 1)\n",
    "        else:\n",
    "            best_tnx['other_test_str'] = ''\n",
    "\n",
    "\n",
    "        if len(curr_tnx_opp_res) > 0:\n",
    "            best_tnx['or_flip_tnx_tests'] =  curr_tnx_opp_res.agg( lambda x: f\"{x['tnx_test_id']} [{x['tnx_test']}, {x['tnx_mod_method']}]:  nCase: {x['tnx_num_case']} | nCon: {x['tnx_num_con']}, corr p-val: {make_small(x['tnx_per_dis_bh_fdr_corr_p'],3)}, uncorr p-val: {make_small(x['tnx_p_val'], 3)}, OR: {make_small(x['tnx_OR'], 3)} | model: {x['tnx_model']}, glm_warn [{x['tnx_glm_warn_bool']}]: {x['tnx_glm_warn_msg']} log10 trans: {x['tnx_log_trans']} | Notes: {x['tnx_note_str']}\", axis = 1)\n",
    "        else:\n",
    "            best_tnx['or_flip_tnx_tests'] = ''\n",
    "\n",
    "        fin_combo_ls.append(best_tnx.values.tolist())\n",
    "    \n",
    "fin_combo = pd.DataFrame(fin_combo_ls, columns = combo.columns.tolist() + \\ \n",
    "                                     ['other_test_str', 'or_flip_tnx_tests'])\n",
    "\n",
    "# 8,616\n",
    "print(len(fin_combo))"
   ]
  },
  {
   "cell_type": "code",
   "execution_count": null,
   "metadata": {},
   "outputs": [],
   "source": [
    "fin = fin_combo.copy(deep = True)\n",
    "\n",
    "# TNX: 8,616 -> dis-Ab to dis-org collapsing has already occurred.\n",
    "print(len(fin))"
   ]
  },
  {
   "cell_type": "code",
   "execution_count": null,
   "metadata": {},
   "outputs": [],
   "source": [
    "fin = fin.sort_values(['icd', 'org', 'ukb_per_dis_bh_fdr_corr_nom_p'])"
   ]
  },
  {
   "cell_type": "markdown",
   "metadata": {},
   "source": [
    "# Mark replication status for each Disease-Pathogen Pair"
   ]
  },
  {
   "cell_type": "code",
   "execution_count": null,
   "metadata": {},
   "outputs": [],
   "source": [
    "UKB_THRESH = 0.3\n",
    "TNX_THRESH = 0.01\n",
    "\n",
    "org_lev_res = fin.copy(deep = True)\n",
    "\n",
    "# Default: 'did_not_attempt'\n",
    "org_lev_res['rep_stat'] = 'did_not_attempt'\n",
    "\n",
    "\n",
    "# 'Replicated': UKB and TNX sig\n",
    "org_lev_res.loc[((org_lev_res.loc[:, 'ukb_per_dis_bh_fdr_corr_nom_p'] < UKB_THRESH) & \n",
    "                 (org_lev_res.loc[:, 'tnx_per_dis_bh_fdr_corr_p'] < TNX_THRESH)), \n",
    "                'rep_stat'] = 'replicated'\n",
    "\n",
    "\n",
    "# 'Could not': UKB sig but no TNX test\n",
    "org_lev_res.loc[((org_lev_res.loc[:, 'ukb_per_dis_bh_fdr_corr_nom_p'] < UKB_THRESH ) & \n",
    "                 (org_lev_res['tnx_p_val'].isna())), 'rep_stat'] = 'could_not'\n",
    "\n",
    "\n",
    "# 'Did not replicate': UKB sig and either (TNX not sig) or \n",
    "#                                  (TNX sig but OR in opposite direction of UKB)\n",
    "org_lev_res.loc[(\n",
    "\n",
    "            (org_lev_res['ukb_per_dis_bh_fdr_corr_nom_p'] < UKB_THRESH) & \n",
    "\n",
    "            (\n",
    "                (org_lev_res['tnx_per_dis_bh_fdr_corr_p'] >= TNX_THRESH) |\n",
    "\n",
    "                (\n",
    "                    (org_lev_res.loc[:, 'tnx_per_dis_bh_fdr_corr_p'] < TNX_THRESH) &\n",
    "                    (org_lev_res['ukb_risk'] !=  org_lev_res['tnx_risk'])\n",
    "                )\n",
    "\n",
    "            )\n",
    "        ), 'rep_stat'] = 'did_not'\n",
    "\n",
    "org_lev_res.loc[:, 'std_lev'] = org_lev_res.loc[:, 'std_lev'].replace({\n",
    "                                                            'true_neg' : 'exp_neg',\n",
    "                                                            'Gold' : 'Tier 1',\n",
    "                                                            'Silver' : 'Tier 2',\n",
    "                                                            'unk'   : 'unk'\n",
    "                                                        })\n",
    "\n",
    "org_lev_res['pair_is_associated'] = 'No'\n",
    "org_lev_res.loc[org_lev_res['rep_stat'] == 'replicated', 'pair_is_associated'] = 'Yes'"
   ]
  },
  {
   "cell_type": "code",
   "execution_count": null,
   "metadata": {},
   "outputs": [],
   "source": [
    "# Set all did not attempt TNX stuff to NA\n",
    "org_lev_res.loc[org_lev_res['rep_stat'] == 'did_not_attempt', 'tnx_test_type'] = np.nan\n",
    "org_lev_res.loc[org_lev_res['rep_stat'] == 'did_not_attempt', 'tnx_test_id'] = np.nan\n",
    "org_lev_res.loc[org_lev_res['rep_stat'] == 'did_not_attempt', 'tnx_test'] = np.nan\n",
    "org_lev_res.loc[org_lev_res['rep_stat'] == 'did_not_attempt', 'tnx_mod_method'] = np.nan\n",
    "org_lev_res.loc[org_lev_res['rep_stat'] == 'did_not_attempt', 'tnx_dis_sex'] = np.nan\n",
    "org_lev_res.loc[org_lev_res['rep_stat'] == 'did_not_attempt', 'tnx_num_case'] = np.nan\n",
    "org_lev_res.loc[org_lev_res['rep_stat'] == 'did_not_attempt', 'tnx_num_con'] = np.nan\n",
    "org_lev_res.loc[org_lev_res['rep_stat'] == 'did_not_attempt', 'tnx_con_str'] = np.nan\n",
    "org_lev_res.loc[org_lev_res['rep_stat'] == 'did_not_attempt', 'tnx_n_mixed'] = np.nan\n",
    "org_lev_res.loc[org_lev_res['rep_stat'] == 'did_not_attempt', 'tnx_per_dis_bh_fdr_corr_p'] = np.nan\n",
    "org_lev_res.loc[org_lev_res['rep_stat'] == 'did_not_attempt', 'tnx_p_val'] = np.nan\n",
    "org_lev_res.loc[org_lev_res['rep_stat'] == 'did_not_attempt', 'tnx_OR'] = np.nan\n",
    "org_lev_res.loc[org_lev_res['rep_stat'] == 'did_not_attempt', 'tnx_glm_warn_msg'] = np.nan\n",
    "org_lev_res.loc[org_lev_res['rep_stat'] == 'did_not_attempt', 'tnx_glm_warn_bool'] = np.nan\n",
    "org_lev_res.loc[org_lev_res['rep_stat'] == 'did_not_attempt', 'tnx_model'] = np.nan\n",
    "org_lev_res.loc[org_lev_res['rep_stat'] == 'did_not_attempt', 'tnx_cov_adj'] = np.nan\n",
    "org_lev_res.loc[org_lev_res['rep_stat'] == 'did_not_attempt', 'tnx_cov_ps'] = np.nan\n",
    "org_lev_res.loc[org_lev_res['rep_stat'] == 'did_not_attempt', 'tnx_cov_or'] = np.nan\n",
    "org_lev_res.loc[org_lev_res['rep_stat'] == 'did_not_attempt', 'tnx_CI'] = np.nan\n",
    "org_lev_res.loc[org_lev_res['rep_stat'] == 'did_not_attempt', 'tnx_case_age'] = np.nan\n",
    "org_lev_res.loc[org_lev_res['rep_stat'] == 'did_not_attempt', 'tnx_con_age'] = np.nan\n",
    "org_lev_res.loc[org_lev_res['rep_stat'] == 'did_not_attempt', 'tnx_case_titer'] = np.nan\n",
    "org_lev_res.loc[org_lev_res['rep_stat'] == 'did_not_attempt', 'tnx_con_titer'] = np.nan\n",
    "org_lev_res.loc[org_lev_res['rep_stat'] == 'did_not_attempt', 'tnx_case_titer_std'] = np.nan\n",
    "org_lev_res.loc[org_lev_res['rep_stat'] == 'did_not_attempt', 'tnx_con_titer_std'] = np.nan\n",
    "org_lev_res.loc[org_lev_res['rep_stat'] == 'did_not_attempt', 'tnx_case_titer_med'] = np.nan\n",
    "org_lev_res.loc[org_lev_res['rep_stat'] == 'did_not_attempt', 'tnx_con_titer_med'] = np.nan\n",
    "org_lev_res.loc[org_lev_res['rep_stat'] == 'did_not_attempt', 'tnx_n_con_neg'] = np.nan\n",
    "org_lev_res.loc[org_lev_res['rep_stat'] == 'did_not_attempt', 'tnx_n_con_pos'] = np.nan\n",
    "org_lev_res.loc[org_lev_res['rep_stat'] == 'did_not_attempt', 'tnx_n_case_neg'] = np.nan\n",
    "org_lev_res.loc[org_lev_res['rep_stat'] == 'did_not_attempt', 'tnx_n_case_pos'] = np.nan\n",
    "org_lev_res.loc[org_lev_res['rep_stat'] == 'did_not_attempt', 'tnx_log_trans'] = np.nan\n",
    "org_lev_res.loc[org_lev_res['rep_stat'] == 'did_not_attempt', 'tnx_note_str'] = np.nan\n",
    "org_lev_res.loc[org_lev_res['rep_stat'] == 'did_not_attempt', 'other_test_str'] = np.nan\n",
    "org_lev_res.loc[org_lev_res['rep_stat'] == 'did_not_attempt', 'or_flip_tnx_tests'] = np.nan"
   ]
  },
  {
   "cell_type": "markdown",
   "metadata": {},
   "source": [
    "## Re-org some cols"
   ]
  },
  {
   "cell_type": "code",
   "execution_count": null,
   "metadata": {},
   "outputs": [],
   "source": [
    "org_lev_res = org_lev_res.loc[:, ['disease', 'icd', 'org', 'anti', \n",
    "                                  'pair_is_associated',  'std_lev', 'rep_stat', 'tnx_test_type', \n",
    "                                   'tnx_test_id', 'tnx_test', 'tnx_mod_method', 'ukb_sex_specific_dis',\n",
    "                                   'ukb_nCase', 'ukb_nControl', 'ukb_control_set', 'ukb_n_mixed',\n",
    "                                   'tnx_dis_sex', 'tnx_num_case', 'tnx_num_con', 'tnx_con_str',\n",
    "                                   'tnx_n_mixed', 'ukb_per_dis_bh_fdr_corr_nom_p',\n",
    "                                   'tnx_per_dis_bh_fdr_corr_p', 'ukb_mod_3_emp_p', 'ukb_p_val',\n",
    "                                   'tnx_p_val', 'ukb_anti_OR', 'tnx_OR', 'ukb_sig_covs', 'ukb_cov_adj_for',\n",
    "                                   'ukb_Warnings', 'ukb_is_warning', 'tnx_glm_warn_msg',\n",
    "                                   'tnx_glm_warn_bool', 'ukb_model', 'tnx_model', 'ukb_cov_ps',\n",
    "                                   'ukb_cov_ors', 'tnx_cov_adj', 'tnx_cov_ps', 'tnx_cov_or', 'ukb_anti_CI',\n",
    "                                   'tnx_CI', 'ukb_avg_age_case', 'ukb_avg_avg_con', 'ukb_avg_titer_case',\n",
    "                                   'ukb_avg_titer_con', 'ukb_std_titer_case', 'ukb_std_titer_con',\n",
    "                                   'ukb_med_titer_case', 'ukb_med_titer_con', 'tnx_case_age',\n",
    "                                   'tnx_con_age', 'tnx_case_titer', 'tnx_con_titer', 'tnx_case_titer_std',\n",
    "                                   'tnx_con_titer_std', 'tnx_case_titer_med', 'tnx_con_titer_med',\n",
    "                                   'tnx_n_con_neg', 'tnx_n_con_pos', 'tnx_n_case_neg', 'tnx_n_case_pos',\n",
    "                                   'tnx_log_trans', 'ukb_tot_dis_perms', 'ukb_perms_lt_mod_3_p',\n",
    "                                   'tnx_note_str', 'ukb_risk', 'tnx_risk', 'other_test_str', 'or_flip_tnx_tests']]"
   ]
  },
  {
   "cell_type": "markdown",
   "metadata": {},
   "source": [
    "# Merging additional metadata"
   ]
  },
  {
   "cell_type": "code",
   "execution_count": null,
   "metadata": {},
   "outputs": [],
   "source": [
    "res = org_lev_res.copy(deep = True)\n",
    "\n",
    "# 8,616\n",
    "print(len(res))"
   ]
  },
  {
   "cell_type": "code",
   "execution_count": null,
   "metadata": {},
   "outputs": [],
   "source": [
    "# 431 for all orgs but HIV, since we moved HIV from \n",
    "# the standard due to confounding.\n",
    "# bkv        431\n",
    "# chlam      431\n",
    "# vzv        431\n",
    "# tox        431\n",
    "# mcv        431\n",
    "# kshv       431\n",
    "# jcv        431\n",
    "# htlv       431\n",
    "# hsv2       431\n",
    "# hsv1       431\n",
    "# hpylori    431\n",
    "# hpv18      431\n",
    "# hpv16      431\n",
    "# hhv7       431\n",
    "# hhv6       431\n",
    "# hcv        431\n",
    "# hbv        431\n",
    "# ebv        431\n",
    "# cmv        431\n",
    "# hiv        427\n",
    "\n",
    "res['org'].value_counts()"
   ]
  },
  {
   "cell_type": "markdown",
   "metadata": {},
   "source": [
    "## Update a few columns"
   ]
  },
  {
   "cell_type": "code",
   "execution_count": null,
   "metadata": {},
   "outputs": [],
   "source": [
    "res.loc[:, ['tnx_num_case', 'tnx_num_con', 'tnx_n_mixed', 'tnx_n_con_neg',\n",
    "           'tnx_n_con_pos', 'tnx_n_case_neg', 'tnx_n_case_pos']] = \\\n",
    "    res.loc[:, ['tnx_num_case','tnx_num_con', 'tnx_n_mixed', 'tnx_n_con_neg',\n",
    "               'tnx_n_con_pos', 'tnx_n_case_neg', 'tnx_n_case_pos' ]].astype('Int64')"
   ]
  },
  {
   "cell_type": "markdown",
   "metadata": {},
   "source": [
    "## LPF"
   ]
  },
  {
   "cell_type": "markdown",
   "metadata": {},
   "source": [
    "### Load in LPF file"
   ]
  },
  {
   "cell_type": "code",
   "execution_count": null,
   "metadata": {},
   "outputs": [],
   "source": [
    "# Pubmed crawl \"LPF\" data\n",
    "lpf = pd.read_excel(f'{HOME_DIR}/manuscript/supplemental_datasets/supplemental_dataset_6.xlsx',\n",
    "                    sheet_name = 'LPF_data')"
   ]
  },
  {
   "cell_type": "markdown",
   "metadata": {},
   "source": [
    "### Align pathogen tags"
   ]
  },
  {
   "cell_type": "code",
   "execution_count": null,
   "metadata": {},
   "outputs": [],
   "source": [
    "res['tag'] = res['org']\n",
    "\n",
    "res.loc[:,'tag'] = res.loc[:,'tag'].replace({\n",
    "\n",
    "                                                'chlam' : 'c_trach',\n",
    "                                                'hhv6' : 'hhv_6',\n",
    "                                                'hhv7' : 'hhv_7',\n",
    "                                                'hpv16' :'hpv_16',\n",
    "                                                'hpv18' :'hpv_18',\n",
    "                                                'hpylori' : 'h_pylor',\n",
    "                                                'hsv1'           : 'hsv_1',\n",
    "                                                'hsv2'           : 'hsv_2',\n",
    "                                                'tox'      : 't_gond',\n",
    "})"
   ]
  },
  {
   "cell_type": "markdown",
   "metadata": {},
   "source": [
    "#### Add tag column"
   ]
  },
  {
   "cell_type": "code",
   "execution_count": null,
   "metadata": {},
   "outputs": [],
   "source": [
    "# Fix minor issue with space coding\n",
    "lpf.loc[:,'abbrev'] = lpf.loc[:,'abbrev'].replace({'H.\\xa0pylori' : 'H. pylori'})\n",
    "lpf['abbrev'].replace({r'[^\\x00-\\x7F]+':''}, regex=True, inplace=True)"
   ]
  },
  {
   "cell_type": "code",
   "execution_count": null,
   "metadata": {},
   "outputs": [],
   "source": [
    "# Mapping org_test data org names to significant results org names\n",
    "lpf.loc[:,'tag'] = lpf.loc[:,'abbrev'].replace({\n",
    "                                'C. trachomatis' : 'c_trach',\n",
    "                                'EBV'            : 'ebv',\n",
    "                                'H. pylori'      : 'h_pylor',\n",
    "                                'H.pylori'      : 'h_pylor',\n",
    "                                'HBV'            : 'hbv',\n",
    "                                'HCV'            : 'hcv',\n",
    "                                'HSV1'           : 'hsv_1',\n",
    "                                'HSV2'           : 'hsv_2',\n",
    "                                'CMV'            : 'cmv',\n",
    "                                'HHV-6'          : 'hhv_6',\n",
    "                                'HHV-7'          : 'hhv_7',\n",
    "                                'HIV'            : 'hiv',\n",
    "                                'JCV'            : 'jcv',\n",
    "                                'HTLV-1'         : 'htlv',\n",
    "                                'T. gondii'      : 't_gond',\n",
    "                                'VZV'            : 'vzv',\n",
    "                                'KSHV/HHV-8'     : 'kshv',\n",
    "                                'HPV-16'         : 'hpv_16',\n",
    "                                'HPV-18'         : 'hpv_18',\n",
    "                                'BKV'            : 'bkv',\n",
    "                                'MCV'            : 'mcv',\n",
    "})"
   ]
  },
  {
   "cell_type": "code",
   "execution_count": null,
   "metadata": {},
   "outputs": [],
   "source": [
    "integ_res = pd.DataFrame(integ_res_ls)\n",
    "integ_res.columns = res.columns.tolist() + ['lpf']\n",
    "\n",
    "# 8,616 x 80\n",
    "integ_res.shape"
   ]
  },
  {
   "cell_type": "markdown",
   "metadata": {},
   "source": [
    "## Detailed Pathogen Tagging"
   ]
  },
  {
   "cell_type": "code",
   "execution_count": null,
   "metadata": {},
   "outputs": [],
   "source": [
    "# Load org data file\n",
    "ant_dict = pd.read_excel('../dicts/antigen_dict.xlsx', sheet_name = 'Sheet1',\n",
    "                         engine = 'openpyxl')"
   ]
  },
  {
   "cell_type": "code",
   "execution_count": null,
   "metadata": {},
   "outputs": [],
   "source": [
    "# Convert Baltimore col to int\n",
    "ant_dict.loc[:, ['Baltimore']] =  ant_dict.loc[:, ['Baltimore']].astype(\"Int64\")"
   ]
  },
  {
   "cell_type": "markdown",
   "metadata": {},
   "source": [
    "### Add tag column"
   ]
  },
  {
   "cell_type": "code",
   "execution_count": null,
   "metadata": {},
   "outputs": [],
   "source": [
    "# Fix minor issue with space coding\n",
    "ant_dict.loc[:,'Abbrev'] = ant_dict.loc[:,'Abbrev'].replace({'H.\\xa0pylori' : 'H. pylori'})\n",
    "ant_dict['Abbrev'].replace({r'[^\\x00-\\x7F]+':''}, regex=True, inplace=True)"
   ]
  },
  {
   "cell_type": "code",
   "execution_count": null,
   "metadata": {},
   "outputs": [],
   "source": [
    "# Mapping org_test data org names to significant results org names\n",
    "ant_dict.loc[:,'tag'] = ant_dict.loc[:,'Abbrev'].replace({\n",
    "                                'C. trachomatis' : 'c_trach',\n",
    "                                'EBV'            : 'ebv',\n",
    "                                'H. pylori'      : 'h_pylor',\n",
    "                                'H.pylori'      : 'h_pylor',\n",
    "                                'HBV'            : 'hbv',\n",
    "                                'HCV'            : 'hcv',\n",
    "                                'HSV1'           : 'hsv_1',\n",
    "                                'HSV2'           : 'hsv_2',\n",
    "                                'CMV'            : 'cmv',\n",
    "                                'HHV-6'          : 'hhv_6',\n",
    "                                'HHV-7'          : 'hhv_7',\n",
    "                                'HIV'            : 'hiv',\n",
    "                                'JCV'            : 'jcv',\n",
    "                                'HTLV-1'         : 'htlv',\n",
    "                                'T. gondii'      : 't_gond',\n",
    "                                'VZV'            : 'vzv',\n",
    "                                'KSHV/HHV-8'     : 'kshv',\n",
    "                                'HPV-16'         : 'hpv_16',\n",
    "                                'HPV-18'         : 'hpv_18',\n",
    "                                'BKV'            : 'bkv',\n",
    "                                'MCV'            : 'mcv',\n",
    "})"
   ]
  },
  {
   "cell_type": "code",
   "execution_count": null,
   "metadata": {},
   "outputs": [],
   "source": [
    "ant = ant_dict.loc[: , ['tag', 'Organism Type', 'Family',  'Sub-family', 'Species', \n",
    "                          'Baltimore', 'Balt_reason', 'Herpes']]"
   ]
  },
  {
   "cell_type": "code",
   "execution_count": null,
   "metadata": {},
   "outputs": [],
   "source": [
    "# 45 x 8\n",
    "print(ant.shape)\n",
    "\n",
    "ant.drop_duplicates(inplace = True)\n",
    "\n",
    "# 20 x 8\n",
    "print(ant.shape)"
   ]
  },
  {
   "cell_type": "markdown",
   "metadata": {},
   "source": [
    "### Merging"
   ]
  },
  {
   "cell_type": "code",
   "execution_count": null,
   "metadata": {},
   "outputs": [],
   "source": [
    "# 8,616 x 88\n",
    "print(integ_res.shape)\n",
    "\n",
    "integ_res = pd.merge(integ_res, ant, on = 'tag', how = 'left')\n",
    "\n",
    "# 8,616 x 95\n",
    "print(integ_res.shape)"
   ]
  },
  {
   "cell_type": "markdown",
   "metadata": {},
   "source": [
    "## Rearrange some columns"
   ]
  },
  {
   "cell_type": "code",
   "execution_count": null,
   "metadata": {},
   "outputs": [],
   "source": [
    "integ_res = integ_res.loc[:, ['disease', 'icd', 'tag', 'anti', \n",
    "                               'pair_is_associated', 'std_lev', 'rep_stat',\n",
    "                               'ukb_per_dis_bh_fdr_corr_nom_p', 'tnx_per_dis_bh_fdr_corr_p', \n",
    "                               'ukb_anti_OR', 'tnx_OR','ukb_anti_CI', 'tnx_CI',\n",
    "                               'ukb_nCase', 'ukb_nControl', 'tnx_num_case', 'tnx_num_con',\n",
    "                               'lpf', 'tnx_test_id', 'tnx_test', 'tnx_mod_method',\n",
    "                               'ukb_cov_adj_for', 'tnx_cov_adj', \n",
    "                               'ukb_control_set', 'tnx_con_str',\n",
    "                               'ukb_n_mixed', 'tnx_n_mixed',\n",
    "                               'ukb_model', 'tnx_model', \n",
    "                               'ukb_avg_titer_case', 'ukb_avg_titer_con',\n",
    "                               'ukb_std_titer_case', 'ukb_std_titer_con',\n",
    "                               'ukb_med_titer_case', 'ukb_med_titer_con',\n",
    "                               'tnx_n_con_neg', 'tnx_n_con_pos', 'tnx_n_case_neg', 'tnx_n_case_pos',\n",
    "                               'ukb_avg_age_case', 'ukb_avg_avg_con',\n",
    "                               'tnx_case_age', 'tnx_con_age',\n",
    "                               'ukb_p_val','tnx_p_val',\n",
    "                               'ukb_sig_covs', 'ukb_cov_ps', 'ukb_cov_ors',\n",
    "                               'tnx_cov_ps', 'tnx_cov_or',\n",
    "                               'tnx_note_str', 'other_test_str', 'or_flip_tnx_tests',\n",
    "                               'Organism Type', 'Family', 'Sub-family', 'Species',\n",
    "                               'Baltimore','Balt_reason', 'Herpes']]"
   ]
  },
  {
   "cell_type": "code",
   "execution_count": null,
   "metadata": {},
   "outputs": [],
   "source": [
    "# Rename some columns\n",
    "integ_res.columns  = ['Disease', 'ICD10', 'Pathogen', 'Antibody', \n",
    "                      'Pair is Associated', 'Standard Level', \n",
    "                      'Replication Status', 'UKB adj p', 'TNX adj p,\n",
    "                      'UKB OR', 'TNX OR', 'UKB CI', 'TNX CI',\n",
    "                      'UKB nCase', 'UKB nControl', 'TNX nCase', 'TNX nControl',\n",
    "                      'LPF', 'tnx_test_id', 'tnx_test', 'tnx_mod_method',\n",
    "                      'ukb_covs', 'tnx_covs', 'ukb_control_set', 'tnx_con_str',\n",
    "                      'ukb_n_mixed', 'tnx_n_mixed', 'ukb_model', 'tnx_model',\n",
    "                      'ukb_avg_titer_case', 'ukb_avg_titer_con',\n",
    "                      'ukb_std_titer_case', 'ukb_std_titer_con',\n",
    "                      'ukb_med_titer_case', 'ukb_med_titer_con',                      \n",
    "                      'tnx_n_con_neg', 'tnx_n_con_pos', \n",
    "                      'tnx_n_case_neg', 'tnx_n_case_pos',\n",
    "                      'ukb_avg_age_case', 'ukb_avg_age_con',\n",
    "                      'tnx_avg_case_age', 'tnx_avg_con_age',\n",
    "                      'ukb_p_val','tnx_p_val',\n",
    "                      'ukb_sig_covs', 'ukb_cov_ps', 'ukb_cov_ors',\n",
    "                      'tnx_cov_ps', 'tnx_cov_or','tnx_note_str',\n",
    "                      'other_test_str',\t'or_flip_tnx_tests',\n",
    "                      'org_type', 'org_fam', 'org_sub_fam', 'org_species', \n",
    "                      'balt_class', 'balt_reason', 'herpes_fam']\n",
    "        \n"
   ]
  },
  {
   "cell_type": "code",
   "execution_count": null,
   "metadata": {},
   "outputs": [],
   "source": [
    "data_dict = {\n",
    " 'Disease' : 'Disease Name',\n",
    " 'ICD10' : 'ICD10 3-character code from UKB',\n",
    " 'Pathogen' : 'Organism Abbreviation',\n",
    " 'Antibody': 'Antibody with best UKB association result',\n",
    " 'Pair is Associated' : 'Boolean indicating whether this pair is replicated',\n",
    " 'Standard Level' : 'Whether and what kind of standard this disease-organism pair is',\n",
    " 'Replication Status' : 'The UKB-TNX replication status for this dis-org pair',\n",
    " 'UKB adj p' : 'Disease-wide BH FDR adjusted UKB nominal p-value',\n",
    " 'TNX adj p' : 'Disease-wide BH FDR adjusted TNX nominal p-value',\n",
    " 'UKB OR' : 'Odds ratio for UKB titer [continuous]',\n",
    " 'TNX OR' : 'Odds ratio for TNX association test [categorical]',\n",
    " 'UKB CI' : '95% confidence intervals for UKB odds ratio',\n",
    " 'TNX CI' : '95% confidence intervals for TNX odds ratio',   \n",
    " 'UKB nCase' : 'Number of cases in UKB analysis',\n",
    " 'UKB nControl' : 'Number of controls in UKB analysis',\n",
    " 'TNX nCase' : 'Number of cases in TNX test analysis',\n",
    " 'TNX nControl' : 'Number of controls in TNX test analysis',\n",
    " 'LPF' : 'Log product frequency, a measure of co-occurrence of disease and organism found when crawling pubmed. This value has been negated, so the closer to zero, the more the disease and organism are seen together in the literature, with co-occurrences declining as the number increases away from zero',    \n",
    " 'tnx_test_id':  'LOINC code for TNX test used for replication',\n",
    " 'tnx_test' : 'Name of TNX test used for replication',\n",
    " 'tnx_mod_method' : 'Logistic regression method used, either GLM or Firth (exact test)',\n",
    " 'ukb_covs' : 'Confounders that UKB logistic regression model was adjusted for',\n",
    " 'tnx_covs' : 'Confounders that TNX logistic regression model was adjusted for, ideally this is the same as ukb_covs, but did not have access to data for some of the possible confounders in the TNX data set',\n",
    " 'ukb_control_set' : \"Controls used for UKB analysis (all, Female, Male, 'O80,O81,O82,O83,O84' (healthy pregnancies)\",\n",
    " 'tnx_con_str' : \"Controls used for TNX analysis (all, Female, Male, 'O80,O81,O82,O83,O84' (healthy pregnancies)\",\n",
    " 'ukb_n_mixed' : 'Number of UKB participants that fell into cases and controls (relevant for ICD O codes only)',\n",
    " 'tnx_n_mixed' : 'Number of TNX participants that fell into cases and controls (relevant for ICD O codes only)',\n",
    " 'ukb_model' : 'Full UKB logistic regression model, in the form coefficient * coef_name [coef p-value] ',\n",
    " 'tnx_model': 'Full TNX logistic regression model, in the form coefficient * coef_name [coef p-value] ',\n",
    " 'ukb_avg_titer_case' : 'Average titer value for UKB cases',\n",
    " 'ukb_avg_titer_con' : 'Average titer value for UKB controls',\n",
    " 'ukb_std_titer_case': 'Standard deviation for titer value for UKB cases',\n",
    " 'ukb_std_titer_con': 'Standard deviation for titer value for UKB controls',\n",
    " 'ukb_med_titer_case': 'Median titer value for UKB cases',\n",
    " 'ukb_med_titer_con': 'Median titer value for UKB controls',\n",
    " 'tnx_n_con_neg' : 'Number of disease controls with negative test result for this TNX test',\n",
    " 'tnx_n_con_pos' : 'Number of disease controls with positive test result for this TNX test',\n",
    " 'tnx_n_case_neg' : 'Number of disease cases with negative test result for this TNX test',\n",
    " 'tnx_n_case_pos' : 'Number of disease cases with positive test result for this TNX test',\n",
    " 'ukb_avg_age_case' : 'Average age of UKB disease cases',\n",
    " 'ukb_avg_age_con' : 'Average age of UKB disease controls',\n",
    " 'tnx_avg_age_case' : 'Average age of diseases cases for this TNX test',\n",
    " 'tnx_avg_age_con' : 'Average age of diseases controls for this TNX test',\n",
    " 'ukb_p_val' : 'Unadjusted nominal UKB p-value',\n",
    " 'tnx_p_val' : 'Unadjusted nominal UKB p-value',    \n",
    " 'ukb_sig_covs' : 'Covariates that were significantly associated with both disease status and titer level in UKB. This may not be the same as ukb_covs because we applied a backwards elimination procedure to this list of significant covariates to end up with the final list of covariates to adjust for, ukb_covs.',\n",
    " 'ukb_cov_ps' : 'P-values for covariates included in UKB model',\n",
    " 'ukb_cov_ors' : 'Odds ratios for covariates included in UKB model',\n",
    " 'tnx_cov_ps' : 'P-values for covariates included in TNX model',\n",
    " 'tnx_cov_or' : 'Odds ratios for covariates included in TNX model',\n",
    " 'tnx_note_str' : 'Notes about TNX model',\n",
    " 'other_test_str' : 'Less significant TNX tests that were also run for replication of this pair',\n",
    " 'or_flip_tnx_tests' : 'TNX tests that were also run for replication of this pair but had OR of opposite direction of UKB result',\n",
    " 'org_type' : 'What type of organism the current organism is, either virus or bacteria (T. gondii is not really a bacteria though)',\n",
    " 'org_fam' : 'Phylogenetic family of organism',\n",
    " 'org_sub_fam' : 'Phylogenetic sub-family of organism',\n",
    " 'org_species' : 'Phylogenetic species of organism',\n",
    " 'balt_class' : 'The Baltimore Class of this organism, if it is a virus',\n",
    " 'balt_reason' : 'Type of viral genome and reason why organism falls in particular Baltimore class',\n",
    " 'herpes_fam' : 'The family of herpes virus, if this is a herpes virus'\n",
    "}"
   ]
  },
  {
   "cell_type": "markdown",
   "metadata": {},
   "source": [
    "## Write our file out (supplemental_dataset_2.xlsx)"
   ]
  },
  {
   "cell_type": "code",
   "execution_count": null,
   "metadata": {},
   "outputs": [],
   "source": [
    "data_dict = pd.DataFrame.from_dict(data_dict, orient = 'index') \n",
    "data_dict.reset_index(inplace = True, drop = False)\n",
    "data_dict.columns = ['Column Name', 'Meaning']"
   ]
  },
  {
   "cell_type": "code",
   "execution_count": null,
   "metadata": {},
   "outputs": [],
   "source": [
    "writer = pd.ExcelWriter(f'{HOME_DIR}/manuscript/supplemental_datasets/supplemental_dataset_2.xlsx', engine='openpyxl')\n",
    "integ_res.to_excel(writer, sheet_name = 'Results', index = False)\n",
    "data_dict.to_excel(writer, sheet_name = 'Dictionary', index = False)\n",
    "writer.save()"
   ]
  }
 ],
 "metadata": {},
 "nbformat": 4,
 "nbformat_minor": 4
}
